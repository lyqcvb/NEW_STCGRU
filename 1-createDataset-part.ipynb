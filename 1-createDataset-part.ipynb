{
 "cells": [
  {
   "cell_type": "code",
   "execution_count": 8,
   "metadata": {},
   "outputs": [],
   "source": [
    "import os\n",
    "from matplotlib import axis\n",
    "import scipy.io as sio\n",
    "import numpy as np\n",
    "import mne\n",
    "from mne.preprocessing import ICA, create_eog_epochs, create_ecg_epochs\n",
    "import pandas as pd\n",
    "from torch.utils.data import TensorDataset\n",
    "from sklearn.model_selection import KFold, train_test_split\n",
    "import model as dl  # Ensure this module contains necessary utility functions\n",
    "import logging\n",
    "from mne.preprocessing import ICA\n",
    "import os\n",
    "import warnings\n",
    "# 忽略 RuntimeWarning 警告\n",
    "warnings.filterwarnings(\"ignore\", category=RuntimeWarning)\n",
    "# Setup logging\n",
    "logging.basicConfig(level=logging.INFO, format='%(asctime)s - %(levelname)s - %(message)s')"
   ]
  },
  {
   "cell_type": "code",
   "execution_count": 9,
   "metadata": {},
   "outputs": [],
   "source": [
    "def ensure_dir(directory):\n",
    "    if not os.path.exists(directory):\n",
    "        os.makedirs(directory)"
   ]
  },
  {
   "cell_type": "code",
   "execution_count": 10,
   "metadata": {},
   "outputs": [],
   "source": [
    "def crop_save(file_paths, duration,type,save_base_dir):\n",
    "    num_nomal =0\n",
    "    num_mci = 0\n",
    "    EEG =0\n",
    "    for i, file in enumerate(file_paths):\n",
    "        try:\n",
    "            raw = mne.io.read_raw_edf(file, preload=True, encoding='latin1',verbose='Warning')\n",
    "            data = raw.get_data()[0:19]\n",
    "            name = file[14:][:-4]\n",
    "            if data.shape[1] > duration:\n",
    "                epochs = data.shape[1] // duration\n",
    "                data_crop = data[:,0:epochs*duration]\n",
    "            else:\n",
    "                continue\n",
    "            channels = data.shape[0]\n",
    "            data_new = data_crop.reshape(channels, -1, duration).transpose(1, 0, 2)\n",
    "            for j in range(epochs):\n",
    "                part = pd.DataFrame(data_new[j])\n",
    "                part = part.reset_index(drop=True)\n",
    "                if(type == 0):\n",
    "                    dir = save_base_dir+\"\\\\认知正常\\\\\"+name+\"\\\\\"\n",
    "                    ensure_dir(dir)\n",
    "                    file_path = dir+name+\"_\"+str(j+1)+'.csv'\n",
    "                    part.to_csv(file_path)\n",
    "                else:\n",
    "                    dir = save_base_dir+\"\\\\认知障碍\\\\\"+name+\"\\\\\"\n",
    "                    ensure_dir(dir)\n",
    "                    file_path = dir+name+\"_\"+str(j+1)+'.csv'\n",
    "                    part.to_csv(file_path)\n",
    "            if type==0:\n",
    "                num_nomal+=epochs\n",
    "            else:\n",
    "                num_mci+=epochs\n",
    "            EEG += epochs\n",
    "            logging.info(f\"Processed file {file}: {epochs} epochs\")\n",
    "        except Exception as e:\n",
    "            logging.error(f\"Error processing file {file}: {e}\")\n",
    "            continue\n",
    "    logging.info(f\"Total epochs: {EEG}, Normal: {num_nomal}, \"f\"MCI: {num_mci}\")"
   ]
  },
  {
   "cell_type": "code",
   "execution_count": null,
   "metadata": {},
   "outputs": [],
   "source": [
    "\n",
    "# 忽略 RuntimeWarning 警告\n",
    "warnings.filterwarnings(\"ignore\", category=RuntimeWarning)\n",
    "# 定义文件夹路径\n",
    "base_dir = '糖尿病数据ICA'\n",
    "normal_dir = os.path.join(base_dir, '认知正常')\n",
    "impaired_dir = os.path.join(base_dir, '认知障碍')\n",
    "\n",
    "# 获取所有的文件路径\n",
    "normal_files = [os.path.join(normal_dir, f) for f in os.listdir(normal_dir) if f.endswith('.edf')]\n",
    "impaired_files = [os.path.join(impaired_dir, f) for f in os.listdir(impaired_dir) if f.endswith('.edf')]\n",
    "\n",
    "save_dir = \"糖尿病数据ICA分段\"\n",
    "crop_save(normal_files,duration=1000,type=0,save_base_dir=save_dir)\n",
    "crop_save(impaired_files,duration=1000,type=1,save_base_dir=save_dir)"
   ]
  },
  {
   "cell_type": "code",
   "execution_count": null,
   "metadata": {},
   "outputs": [],
   "source": [
    "impaired_files"
   ]
  }
 ],
 "metadata": {
  "kernelspec": {
   "display_name": "DL",
   "language": "python",
   "name": "python3"
  },
  "language_info": {
   "codemirror_mode": {
    "name": "ipython",
    "version": 3
   },
   "file_extension": ".py",
   "mimetype": "text/x-python",
   "name": "python",
   "nbconvert_exporter": "python",
   "pygments_lexer": "ipython3",
   "version": "3.11.11"
  }
 },
 "nbformat": 4,
 "nbformat_minor": 2
}
