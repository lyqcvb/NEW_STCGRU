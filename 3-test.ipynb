{
 "cells": [
  {
   "cell_type": "code",
   "execution_count": 1,
   "metadata": {},
   "outputs": [],
   "source": [
    "import torch\n",
    "import numpy as np\n",
    "from torch.utils.data import DataLoader\n",
    "import itertools\n",
    "import matplotlib.pyplot as plt\n",
    "from sklearn.metrics import confusion_matrix\n",
    "from sklearn.metrics import cohen_kappa_score\n",
    "import model as dl\n",
    "import joblib\n",
    "device = torch.device(\"cuda:0\" if torch.cuda.is_available() else \"cpu\")"
   ]
  },
  {
   "cell_type": "code",
   "execution_count": 2,
   "metadata": {},
   "outputs": [],
   "source": [
    "def test(i, loader, neural_network):\n",
    "    acc = 0\n",
    "    results_sum = []\n",
    "    labels_test_sum = []\n",
    "    results_PR_sum = []\n",
    "    for step, (data, labels) in enumerate(loader):\n",
    "        data = data.to(device)\n",
    "        labels = labels.to(device)\n",
    "        # 前向传播\n",
    "        outputs = neural_network(data.float())\n",
    "        acc += outputs.argmax(dim=1).eq(labels).type_as(torch.FloatTensor()).mean()\n",
    "        results_sum = np.append(results_sum, outputs.argmax(dim=1).cpu().numpy())\n",
    "        labels_test_sum = np.append(labels_test_sum, labels.cpu().numpy())\n",
    "        results_PR_sum.extend(outputs.detach().cpu().numpy())\n",
    "    acc_average = acc / (step + 1)\n",
    "    print(\"第\" + str(i + 1) + \"次训练测试集准确率: {:.4f}\".format(acc_average))\n",
    "    return acc_average, results_sum, labels_test_sum, results_PR_sum"
   ]
  },
  {
   "cell_type": "code",
   "execution_count": 3,
   "metadata": {},
   "outputs": [],
   "source": [
    "def plot_confusion_matrix(cm, classes, normalize=False, title='Confusion matrix', cmap=plt.cm.Blues):\n",
    "    \"\"\"\n",
    "    This function prints and plots the confusion matrix.\n",
    "    Normalization can be applied by setting `normalize=True`.\n",
    "    Input\n",
    "    - cm : 计算出的混淆矩阵的值\n",
    "    - classes : 混淆矩阵中每一行每一列对应的列\n",
    "    - normalize : True:显示百分比, False:显示个数\n",
    "    \"\"\"\n",
    "    # 定义一种字体属性\n",
    "    font1 = {'family': 'Times New Roman',\n",
    "            'weight': 'normal',\n",
    "            'size': 20}\n",
    "    font2 = {'family': 'Times New Roman',\n",
    "            'weight': 'normal',\n",
    "            'size': 18}\n",
    "    if normalize:\n",
    "        cm = cm.astype('float') / cm.sum(axis=1)[:, np.newaxis]\n",
    "        print(\"Normalized confusion matrix\")\n",
    "    else:\n",
    "        print('Confusion matrix, without normalization')\n",
    "    print(cm)\n",
    "    plt.figure(num=None, figsize=(6, 6), dpi=60)\n",
    "    plt.imshow(cm, interpolation='nearest', cmap=cmap)\n",
    "    plt.title(title, fontdict=font1, y=1.05)\n",
    "    plt.colorbar(shrink=0.64)\n",
    "    tick_marks = np.arange(len(classes))\n",
    "    plt.xticks(tick_marks, classes, rotation=45, fontdict=font2)\n",
    "    plt.yticks(tick_marks, classes, rotation=45, fontdict=font2)\n",
    "    fmt = '.2f' if normalize else 'd'\n",
    "    thresh = cm.max() / 2.\n",
    "    for i, j in itertools.product(range(cm.shape[0]), range(cm.shape[1])):\n",
    "        plt.text(j, i, format(cm[i, j], fmt),\n",
    "                verticalalignment=\"center\",\n",
    "                horizontalalignment=\"center\",\n",
    "                color=\"white\" if cm[i, j] > thresh else \"black\",\n",
    "                fontdict=font2)\n",
    "    plt.tight_layout()\n",
    "    plt.ylabel('Actual Class', fontdict=font2)\n",
    "    plt.xlabel('Predict Class', fontdict=font2)\n",
    "    plt.subplots_adjust(left=0.2, top=1.02, bottom=0.05)\n",
    "    plt.show()"
   ]
  },
  {
   "cell_type": "code",
   "execution_count": 4,
   "metadata": {},
   "outputs": [
    {
     "name": "stderr",
     "output_type": "stream",
     "text": [
      "/tmp/ipykernel_1010724/124030738.py:25: FutureWarning: You are using `torch.load` with `weights_only=False` (the current default value), which uses the default pickle module implicitly. It is possible to construct malicious pickle data which will execute arbitrary code during unpickling (See https://github.com/pytorch/pytorch/blob/main/SECURITY.md#untrusted-models for more details). In a future release, the default value for `weights_only` will be flipped to `True`. This limits the functions that could be executed during unpickling. Arbitrary objects will no longer be allowed to be loaded via this mode unless they are explicitly allowlisted by the user via `torch.serialization.add_safe_globals`. We recommend you start setting `weights_only=True` for any use case where you don't have full control of the loaded file. Please open an issue on GitHub for any issues related to this experimental feature.\n",
      "  model_dict = torch.load(model_loc)\n"
     ]
    },
    {
     "name": "stdout",
     "output_type": "stream",
     "text": [
      "第1次训练测试集准确率: 0.3963\n",
      "STCGRU 第1折交叉验证测试集准确率: 0.3963，kappa值：0.0000，灵敏度：0.3943，特异度：nan，查准率：1.0000，F1值：0.5656\n",
      "第2次训练测试集准确率: 0.4184\n",
      "STCGRU 第2折交叉验证测试集准确率: 0.4184，kappa值：0.0000，灵敏度：0.4403，特异度：nan，查准率：1.0000，F1值：0.6114\n"
     ]
    },
    {
     "name": "stderr",
     "output_type": "stream",
     "text": [
      "/tmp/ipykernel_1010724/124030738.py:36: RuntimeWarning: invalid value encountered in scalar divide\n",
      "  specificity_single = confusion_matrix_single[1, 1] / (confusion_matrix_single[1, 1] + confusion_matrix_single[1, 0])  # 特异度\n",
      "/tmp/ipykernel_1010724/124030738.py:25: FutureWarning: You are using `torch.load` with `weights_only=False` (the current default value), which uses the default pickle module implicitly. It is possible to construct malicious pickle data which will execute arbitrary code during unpickling (See https://github.com/pytorch/pytorch/blob/main/SECURITY.md#untrusted-models for more details). In a future release, the default value for `weights_only` will be flipped to `True`. This limits the functions that could be executed during unpickling. Arbitrary objects will no longer be allowed to be loaded via this mode unless they are explicitly allowlisted by the user via `torch.serialization.add_safe_globals`. We recommend you start setting `weights_only=True` for any use case where you don't have full control of the loaded file. Please open an issue on GitHub for any issues related to this experimental feature.\n",
      "  model_dict = torch.load(model_loc)\n",
      "/tmp/ipykernel_1010724/124030738.py:36: RuntimeWarning: invalid value encountered in scalar divide\n",
      "  specificity_single = confusion_matrix_single[1, 1] / (confusion_matrix_single[1, 1] + confusion_matrix_single[1, 0])  # 特异度\n",
      "/tmp/ipykernel_1010724/124030738.py:25: FutureWarning: You are using `torch.load` with `weights_only=False` (the current default value), which uses the default pickle module implicitly. It is possible to construct malicious pickle data which will execute arbitrary code during unpickling (See https://github.com/pytorch/pytorch/blob/main/SECURITY.md#untrusted-models for more details). In a future release, the default value for `weights_only` will be flipped to `True`. This limits the functions that could be executed during unpickling. Arbitrary objects will no longer be allowed to be loaded via this mode unless they are explicitly allowlisted by the user via `torch.serialization.add_safe_globals`. We recommend you start setting `weights_only=True` for any use case where you don't have full control of the loaded file. Please open an issue on GitHub for any issues related to this experimental feature.\n",
      "  model_dict = torch.load(model_loc)\n"
     ]
    },
    {
     "name": "stdout",
     "output_type": "stream",
     "text": [
      "第3次训练测试集准确率: 0.3583\n",
      "STCGRU 第3折交叉验证测试集准确率: 0.3583，kappa值：0.0000，灵敏度：0.3660，特异度：nan，查准率：1.0000，F1值：0.5359\n",
      "第4次训练测试集准确率: 0.4290\n",
      "STCGRU 第4折交叉验证测试集准确率: 0.4290，kappa值：0.0000，灵敏度：0.4288，特异度：nan，查准率：1.0000，F1值：0.6002\n"
     ]
    },
    {
     "name": "stderr",
     "output_type": "stream",
     "text": [
      "/tmp/ipykernel_1010724/124030738.py:36: RuntimeWarning: invalid value encountered in scalar divide\n",
      "  specificity_single = confusion_matrix_single[1, 1] / (confusion_matrix_single[1, 1] + confusion_matrix_single[1, 0])  # 特异度\n",
      "/tmp/ipykernel_1010724/124030738.py:25: FutureWarning: You are using `torch.load` with `weights_only=False` (the current default value), which uses the default pickle module implicitly. It is possible to construct malicious pickle data which will execute arbitrary code during unpickling (See https://github.com/pytorch/pytorch/blob/main/SECURITY.md#untrusted-models for more details). In a future release, the default value for `weights_only` will be flipped to `True`. This limits the functions that could be executed during unpickling. Arbitrary objects will no longer be allowed to be loaded via this mode unless they are explicitly allowlisted by the user via `torch.serialization.add_safe_globals`. We recommend you start setting `weights_only=True` for any use case where you don't have full control of the loaded file. Please open an issue on GitHub for any issues related to this experimental feature.\n",
      "  model_dict = torch.load(model_loc)\n",
      "/tmp/ipykernel_1010724/124030738.py:36: RuntimeWarning: invalid value encountered in scalar divide\n",
      "  specificity_single = confusion_matrix_single[1, 1] / (confusion_matrix_single[1, 1] + confusion_matrix_single[1, 0])  # 特异度\n",
      "/tmp/ipykernel_1010724/124030738.py:25: FutureWarning: You are using `torch.load` with `weights_only=False` (the current default value), which uses the default pickle module implicitly. It is possible to construct malicious pickle data which will execute arbitrary code during unpickling (See https://github.com/pytorch/pytorch/blob/main/SECURITY.md#untrusted-models for more details). In a future release, the default value for `weights_only` will be flipped to `True`. This limits the functions that could be executed during unpickling. Arbitrary objects will no longer be allowed to be loaded via this mode unless they are explicitly allowlisted by the user via `torch.serialization.add_safe_globals`. We recommend you start setting `weights_only=True` for any use case where you don't have full control of the loaded file. Please open an issue on GitHub for any issues related to this experimental feature.\n",
      "  model_dict = torch.load(model_loc)\n"
     ]
    },
    {
     "name": "stdout",
     "output_type": "stream",
     "text": [
      "第5次训练测试集准确率: 0.5767\n",
      "STCGRU 第5折交叉验证测试集准确率: 0.5767，kappa值：0.1641，灵敏度：0.5187，特异度：0.6464，查准率：0.6137，F1值：0.5622\n",
      "第6次训练测试集准确率: 0.6753\n",
      "STCGRU 第6折交叉验证测试集准确率: 0.6753，kappa值：0.0000，灵敏度：nan，特异度：0.6658，查准率：0.0000，F1值：nan\n"
     ]
    },
    {
     "name": "stderr",
     "output_type": "stream",
     "text": [
      "/tmp/ipykernel_1010724/124030738.py:25: FutureWarning: You are using `torch.load` with `weights_only=False` (the current default value), which uses the default pickle module implicitly. It is possible to construct malicious pickle data which will execute arbitrary code during unpickling (See https://github.com/pytorch/pytorch/blob/main/SECURITY.md#untrusted-models for more details). In a future release, the default value for `weights_only` will be flipped to `True`. This limits the functions that could be executed during unpickling. Arbitrary objects will no longer be allowed to be loaded via this mode unless they are explicitly allowlisted by the user via `torch.serialization.add_safe_globals`. We recommend you start setting `weights_only=True` for any use case where you don't have full control of the loaded file. Please open an issue on GitHub for any issues related to this experimental feature.\n",
      "  model_dict = torch.load(model_loc)\n",
      "/tmp/ipykernel_1010724/124030738.py:35: RuntimeWarning: invalid value encountered in scalar divide\n",
      "  sensitivity_single = confusion_matrix_single[0, 0] / (confusion_matrix_single[0, 0] + confusion_matrix_single[0, 1])  # 灵敏度（召回率）\n",
      "/tmp/ipykernel_1010724/124030738.py:25: FutureWarning: You are using `torch.load` with `weights_only=False` (the current default value), which uses the default pickle module implicitly. It is possible to construct malicious pickle data which will execute arbitrary code during unpickling (See https://github.com/pytorch/pytorch/blob/main/SECURITY.md#untrusted-models for more details). In a future release, the default value for `weights_only` will be flipped to `True`. This limits the functions that could be executed during unpickling. Arbitrary objects will no longer be allowed to be loaded via this mode unless they are explicitly allowlisted by the user via `torch.serialization.add_safe_globals`. We recommend you start setting `weights_only=True` for any use case where you don't have full control of the loaded file. Please open an issue on GitHub for any issues related to this experimental feature.\n",
      "  model_dict = torch.load(model_loc)\n",
      "/tmp/ipykernel_1010724/124030738.py:35: RuntimeWarning: invalid value encountered in scalar divide\n",
      "  sensitivity_single = confusion_matrix_single[0, 0] / (confusion_matrix_single[0, 0] + confusion_matrix_single[0, 1])  # 灵敏度（召回率）\n"
     ]
    },
    {
     "name": "stdout",
     "output_type": "stream",
     "text": [
      "第7次训练测试集准确率: 0.5859\n",
      "STCGRU 第7折交叉验证测试集准确率: 0.5859，kappa值：0.0000，灵敏度：nan，特异度：0.5818，查准率：0.0000，F1值：nan\n",
      "第8次训练测试集准确率: 0.4959\n",
      "STCGRU 第8折交叉验证测试集准确率: 0.4959，kappa值：0.0000，灵敏度：nan，特异度：0.4960，查准率：0.0000，F1值：nan\n"
     ]
    },
    {
     "name": "stderr",
     "output_type": "stream",
     "text": [
      "/tmp/ipykernel_1010724/124030738.py:25: FutureWarning: You are using `torch.load` with `weights_only=False` (the current default value), which uses the default pickle module implicitly. It is possible to construct malicious pickle data which will execute arbitrary code during unpickling (See https://github.com/pytorch/pytorch/blob/main/SECURITY.md#untrusted-models for more details). In a future release, the default value for `weights_only` will be flipped to `True`. This limits the functions that could be executed during unpickling. Arbitrary objects will no longer be allowed to be loaded via this mode unless they are explicitly allowlisted by the user via `torch.serialization.add_safe_globals`. We recommend you start setting `weights_only=True` for any use case where you don't have full control of the loaded file. Please open an issue on GitHub for any issues related to this experimental feature.\n",
      "  model_dict = torch.load(model_loc)\n",
      "/tmp/ipykernel_1010724/124030738.py:35: RuntimeWarning: invalid value encountered in scalar divide\n",
      "  sensitivity_single = confusion_matrix_single[0, 0] / (confusion_matrix_single[0, 0] + confusion_matrix_single[0, 1])  # 灵敏度（召回率）\n",
      "/tmp/ipykernel_1010724/124030738.py:25: FutureWarning: You are using `torch.load` with `weights_only=False` (the current default value), which uses the default pickle module implicitly. It is possible to construct malicious pickle data which will execute arbitrary code during unpickling (See https://github.com/pytorch/pytorch/blob/main/SECURITY.md#untrusted-models for more details). In a future release, the default value for `weights_only` will be flipped to `True`. This limits the functions that could be executed during unpickling. Arbitrary objects will no longer be allowed to be loaded via this mode unless they are explicitly allowlisted by the user via `torch.serialization.add_safe_globals`. We recommend you start setting `weights_only=True` for any use case where you don't have full control of the loaded file. Please open an issue on GitHub for any issues related to this experimental feature.\n",
      "  model_dict = torch.load(model_loc)\n",
      "/tmp/ipykernel_1010724/124030738.py:35: RuntimeWarning: invalid value encountered in scalar divide\n",
      "  sensitivity_single = confusion_matrix_single[0, 0] / (confusion_matrix_single[0, 0] + confusion_matrix_single[0, 1])  # 灵敏度（召回率）\n"
     ]
    },
    {
     "name": "stdout",
     "output_type": "stream",
     "text": [
      "第9次训练测试集准确率: 0.3387\n",
      "STCGRU 第9折交叉验证测试集准确率: 0.3387，kappa值：0.0000，灵敏度：nan，特异度：0.3316，查准率：0.0000，F1值：nan\n",
      "第10次训练测试集准确率: 0.4416\n",
      "STCGRU 第10折交叉验证测试集准确率: 0.4416，kappa值：0.0000，灵敏度：nan，特异度：0.4332，查准率：0.0000，F1值：nan\n"
     ]
    },
    {
     "name": "stderr",
     "output_type": "stream",
     "text": [
      "/tmp/ipykernel_1010724/124030738.py:25: FutureWarning: You are using `torch.load` with `weights_only=False` (the current default value), which uses the default pickle module implicitly. It is possible to construct malicious pickle data which will execute arbitrary code during unpickling (See https://github.com/pytorch/pytorch/blob/main/SECURITY.md#untrusted-models for more details). In a future release, the default value for `weights_only` will be flipped to `True`. This limits the functions that could be executed during unpickling. Arbitrary objects will no longer be allowed to be loaded via this mode unless they are explicitly allowlisted by the user via `torch.serialization.add_safe_globals`. We recommend you start setting `weights_only=True` for any use case where you don't have full control of the loaded file. Please open an issue on GitHub for any issues related to this experimental feature.\n",
      "  model_dict = torch.load(model_loc)\n",
      "/tmp/ipykernel_1010724/124030738.py:35: RuntimeWarning: invalid value encountered in scalar divide\n",
      "  sensitivity_single = confusion_matrix_single[0, 0] / (confusion_matrix_single[0, 0] + confusion_matrix_single[0, 1])  # 灵敏度（召回率）\n"
     ]
    }
   ],
   "source": [
    "name = locals()\n",
    "seed = 34\n",
    "dl.seed_everything(seed)\n",
    "model_type = 'STCGRU'\n",
    "\n",
    "batch_size = 256\n",
    "total_fold = 10  # 10折\n",
    "\n",
    "test_acc_sum = 0\n",
    "results_sum = []\n",
    "labels_test_sum = []\n",
    "results_PR_sum = []\n",
    "\n",
    "for i in range(total_fold):\n",
    "    test_data_combine = torch.load(\"EEGData/250hz/TestData/test_data_\"+ str(i + 1) + \"_fold_with_seed_\" + str(seed) + \".pth\", weights_only=False)\n",
    "    test_loader = DataLoader(dataset=test_data_combine,\n",
    "                            batch_size=batch_size,\n",
    "                            shuffle=True,\n",
    "                            drop_last=False,\n",
    "                            pin_memory=True,\n",
    "                            num_workers=0)\n",
    "\n",
    "    model = dl.STCGRU().to(device)\n",
    "    model_loc =  \"stcgru/250hz/\"+str(i + 1) + \"_fold_model_parameter_with_seed_\" + str(seed) + \".pth\"\n",
    "    model_dict = torch.load(model_loc)\n",
    "    model.load_state_dict(model_dict)\n",
    "    '''测试'''\n",
    "    acc_average, results, labels_test, results_PR = test(i, loader=test_loader, neural_network=model)\n",
    "    results_sum = np.append(results_sum, results)\n",
    "    labels_test_sum = np.append(labels_test_sum, labels_test)\n",
    "    results_PR_sum.extend(results_PR)\n",
    "    name['test_acc_average_' + str(i + 1)] = acc_average\n",
    "    confusion_matrix_single = confusion_matrix(labels_test, results, labels=[0, 1])\n",
    "    kappa_single = cohen_kappa_score(labels_test, results)\n",
    "    sensitivity_single = confusion_matrix_single[0, 0] / (confusion_matrix_single[0, 0] + confusion_matrix_single[0, 1])  # 灵敏度（召回率）\n",
    "    specificity_single = confusion_matrix_single[1, 1] / (confusion_matrix_single[1, 1] + confusion_matrix_single[1, 0])  # 特异度\n",
    "    precision_single = confusion_matrix_single[0, 0] / (confusion_matrix_single[0, 0] + confusion_matrix_single[1, 0])  # 查准率\n",
    "    F1_single = 2 * precision_single * sensitivity_single / (precision_single + sensitivity_single)  # F1值\n",
    "    print(model_type + \" 第%d折交叉验证测试集准确率: %.4f，kappa值：%.4f，灵敏度：%.4f，特异度：%.4f，查准率：%.4f，F1值：%.4f\"\n",
    "        % (i+1, acc_average, kappa_single, sensitivity_single, specificity_single, precision_single, F1_single))\n",
    "for i in range(total_fold):\n",
    "    if i == 0:\n",
    "        test_acc_sum = name['test_acc_average_' + str(i + 1)]\n",
    "    else:\n",
    "        test_acc_sum = np.append(test_acc_sum, name['test_acc_average_' + str(i + 1)])\n",
    "    del name['test_acc_average_' + str(i + 1)]"
   ]
  },
  {
   "cell_type": "code",
   "execution_count": 5,
   "metadata": {},
   "outputs": [
    {
     "name": "stderr",
     "output_type": "stream",
     "text": [
      "findfont: Font family 'Times New Roman' not found.\n",
      "findfont: Font family 'Times New Roman' not found.\n",
      "findfont: Font family 'Times New Roman' not found.\n",
      "findfont: Font family 'Times New Roman' not found.\n",
      "findfont: Font family 'Times New Roman' not found.\n",
      "findfont: Font family 'Times New Roman' not found.\n",
      "findfont: Font family 'Times New Roman' not found.\n",
      "findfont: Font family 'Times New Roman' not found.\n",
      "findfont: Font family 'Times New Roman' not found.\n"
     ]
    },
    {
     "name": "stdout",
     "output_type": "stream",
     "text": [
      "Confusion matrix, without normalization\n",
      "[[2148 2964]\n",
      " [3010 3188]]\n"
     ]
    },
    {
     "name": "stderr",
     "output_type": "stream",
     "text": [
      "findfont: Font family 'Times New Roman' not found.\n",
      "findfont: Font family 'Times New Roman' not found.\n",
      "findfont: Font family 'Times New Roman' not found.\n",
      "findfont: Font family 'Times New Roman' not found.\n",
      "findfont: Font family 'Times New Roman' not found.\n",
      "findfont: Font family 'Times New Roman' not found.\n",
      "findfont: Font family 'Times New Roman' not found.\n",
      "findfont: Font family 'Times New Roman' not found.\n",
      "findfont: Font family 'Times New Roman' not found.\n",
      "findfont: Font family 'Times New Roman' not found.\n",
      "findfont: Font family 'Times New Roman' not found.\n",
      "findfont: Font family 'Times New Roman' not found.\n",
      "findfont: Font family 'Times New Roman' not found.\n",
      "findfont: Font family 'Times New Roman' not found.\n",
      "findfont: Font family 'Times New Roman' not found.\n",
      "findfont: Font family 'Times New Roman' not found.\n",
      "findfont: Font family 'Times New Roman' not found.\n",
      "findfont: Font family 'Times New Roman' not found.\n",
      "findfont: Font family 'Times New Roman' not found.\n",
      "findfont: Font family 'Times New Roman' not found.\n",
      "findfont: Font family 'Times New Roman' not found.\n",
      "findfont: Font family 'Times New Roman' not found.\n",
      "findfont: Font family 'Times New Roman' not found.\n",
      "findfont: Font family 'Times New Roman' not found.\n"
     ]
    },
    {
     "data": {
      "image/png": "[encoded data removed]",
      "text/plain": [
       "<Figure size 360x360 with 2 Axes>"
      ]
     },
     "metadata": {},
     "output_type": "display_data"
    },
    {
     "name": "stdout",
     "output_type": "stream",
     "text": [
      "STCGRU 10折交叉验证平均测试集准确率: 0.4716 ± 0.1039，kappa值：-0.0654，灵敏度：0.4202，特异度：0.5144，查准率：0.4164，F1值：0.4183\n"
     ]
    }
   ],
   "source": [
    "test_acc_final = np.sum(test_acc_sum) / total_fold\n",
    "test_acc_std = float(np.std(test_acc_sum))\n",
    "confusion_matrix = confusion_matrix(labels_test_sum, results_sum, labels=[0, 1])\n",
    "\n",
    "kappa = cohen_kappa_score(labels_test_sum, results_sum)\n",
    "sensitivity = confusion_matrix[0, 0] / (confusion_matrix[0, 0] + confusion_matrix[0, 1])  # 灵敏度（召回率）\n",
    "specificity = confusion_matrix[1, 1] / (confusion_matrix[1, 1] + confusion_matrix[1, 0])  # 特异度\n",
    "precision = confusion_matrix[0, 0] / (confusion_matrix[0, 0] + confusion_matrix[1, 0])  # 查准率\n",
    "F1 = 2 * precision * sensitivity / (precision + sensitivity)  # F1值\n",
    "plot_confusion_matrix(confusion_matrix, classes=['MCI', 'HC'], normalize=False,\n",
    "                    title='Confusion Matrix of ')\n",
    "\n",
    "print(model_type + \" %d折交叉验证平均测试集准确率: %.4f ± %.4f，kappa值：%.4f，灵敏度：%.4f，特异度：%.4f，查准率：%.4f，F1值：%.4f\"\n",
    "    % (total_fold, test_acc_final, test_acc_std, kappa, sensitivity, specificity, precision, F1))\n"
   ]
  }
 ],
 "metadata": {
  "kernelspec": {
   "display_name": "DL",
   "language": "python",
   "name": "python3"
  },
  "language_info": {
   "codemirror_mode": {
    "name": "ipython",
    "version": 3
   },
   "file_extension": ".py",
   "mimetype": "text/x-python",
   "name": "python",
   "nbconvert_exporter": "python",
   "pygments_lexer": "ipython3",
   "version": "3.12.2"
  }
 },
 "nbformat": 4,
 "nbformat_minor": 2
}
