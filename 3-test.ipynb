{
 "cells": [
  {
   "cell_type": "code",
   "execution_count": 6,
   "metadata": {},
   "outputs": [],
   "source": [
    "import torch\n",
    "import numpy as np\n",
    "from torch.utils.data import DataLoader\n",
    "import itertools\n",
    "import matplotlib.pyplot as plt\n",
    "from sklearn.metrics import confusion_matrix\n",
    "from sklearn.metrics import cohen_kappa_score\n",
    "import model as dl\n",
    "device = torch.device(\"cuda:0\" if torch.cuda.is_available() else \"cpu\")"
   ]
  },
  {
   "cell_type": "code",
   "execution_count": 7,
   "metadata": {},
   "outputs": [],
   "source": [
    "def test(i, loader, neural_network):\n",
    "    acc = 0\n",
    "    results_sum = []\n",
    "    labels_test_sum = []\n",
    "    results_PR_sum = []\n",
    "    for step, (data, labels) in enumerate(loader):\n",
    "        data = data.to(device)\n",
    "        labels = labels.to(device)\n",
    "        # 前向传播\n",
    "        outputs = neural_network(data.float())\n",
    "        acc += outputs.argmax(dim=1).eq(labels).float().mean().item()\n",
    "        results_sum.extend(outputs.argmax(dim=1).cpu().numpy())\n",
    "        labels_test_sum.extend(labels.cpu().numpy())\n",
    "        results_PR_sum.extend(outputs.detach().cpu().numpy())\n",
    "    acc_average = acc / (step + 1)\n",
    "    print(\"第\" + str(i + 1) + \"次训练测试集准确率: {:.4f}\".format(acc_average))\n",
    "    return acc_average, results_sum, labels_test_sum, results_PR_sum"
   ]
  },
  {
   "cell_type": "code",
   "execution_count": 8,
   "metadata": {},
   "outputs": [
    {
     "name": "stdout",
     "output_type": "stream",
     "text": [
      "第1次训练测试集准确率: 0.7476\n",
      "STCGRU 第1折交叉验证测试集准确率: 0.7476，kappa值：0.4880，灵敏度：0.7745，特异度：0.7173，查准率：0.7004，F1值：0.7356\n",
      "第2次训练测试集准确率: 0.9968\n",
      "STCGRU 第2折交叉验证测试集准确率: 0.9968，kappa值：0.9943，灵敏度：1.0000，特异度：0.9948，查准率：0.9939，F1值：0.9969\n",
      "第3次训练测试集准确率: 0.9967\n",
      "STCGRU 第3折交叉验证测试集准确率: 0.9967，kappa值：0.9929，灵敏度：1.0000，特异度：0.9936，查准率：0.9922，F1值：0.9961\n",
      "第4次训练测试集准确率: 0.9850\n",
      "STCGRU 第4折交叉验证测试集准确率: 0.9850，kappa值：0.9673，灵敏度：0.9831，特异度：0.9843，查准率：0.9816，F1值：0.9824\n",
      "第5次训练测试集准确率: 0.9923\n",
      "STCGRU 第5折交叉验证测试集准确率: 0.9923，kappa值：0.9843，灵敏度：0.9952，特异度：0.9898，查准率：0.9874，F1值：0.9913\n",
      "第6次训练测试集准确率: 0.5586\n",
      "STCGRU 第6折交叉验证测试集准确率: 0.5586，kappa值：0.0000，灵敏度：0.0000，特异度：1.0000，查准率：nan，F1值：nan\n"
     ]
    },
    {
     "name": "stderr",
     "output_type": "stream",
     "text": [
      "C:\\Users\\31017\\AppData\\Local\\Temp\\ipykernel_28444\\3928542370.py:67: RuntimeWarning: invalid value encountered in scalar divide\n",
      "  precision_single = confusion_matrix_single[0, 0] / (confusion_matrix_single[0, 0] + confusion_matrix_single[1, 0])  # 查准率\n"
     ]
    },
    {
     "name": "stdout",
     "output_type": "stream",
     "text": [
      "第7次训练测试集准确率: 0.7636\n",
      "STCGRU 第7折交叉验证测试集准确率: 0.7636，kappa值：0.5304，灵敏度：0.7461，特异度：0.7849，查准率：0.7379，F1值：0.7420\n",
      "第8次训练测试集准确率: 0.9845\n",
      "STCGRU 第8折交叉验证测试集准确率: 0.9845，kappa值：0.9687，灵敏度：0.9771，特异度：0.9908，查准率：0.9892，F1值：0.9831\n",
      "第9次训练测试集准确率: 0.5588\n",
      "STCGRU 第9折交叉验证测试集准确率: 0.5588，kappa值：0.0000，灵敏度：0.0000，特异度：1.0000，查准率：nan，F1值：nan\n"
     ]
    },
    {
     "name": "stderr",
     "output_type": "stream",
     "text": [
      "C:\\Users\\31017\\AppData\\Local\\Temp\\ipykernel_28444\\3928542370.py:67: RuntimeWarning: invalid value encountered in scalar divide\n",
      "  precision_single = confusion_matrix_single[0, 0] / (confusion_matrix_single[0, 0] + confusion_matrix_single[1, 0])  # 查准率\n"
     ]
    },
    {
     "name": "stdout",
     "output_type": "stream",
     "text": [
      "第10次训练测试集准确率: 0.7762\n",
      "STCGRU 第10折交叉验证测试集准确率: 0.7762，kappa值：0.5513，灵敏度：0.7785，特异度：0.7752，查准率：0.7415，F1值：0.7595\n"
     ]
    }
   ],
   "source": [
    "name = locals()\n",
    "seed = 34\n",
    "dl.seed_everything(seed)\n",
    "model_type = 'STCGRU'\n",
    "batch_size = 256\n",
    "total_fold = 10  # 10折\n",
    "\n",
    "test_acc_sum = 0\n",
    "results_sum = []\n",
    "labels_test_sum = []\n",
    "results_PR_sum = []\n",
    "# 定义脑区索引\n",
    "from itertools import combinations\n",
    "\n",
    "# 初始脑区定义\n",
    "regions = {\n",
    "    \"prefrontal\": [0, 1, 2, 3, 10, 11, 16],\n",
    "    \"central\": [4, 5, 17],\n",
    "    \"temporal\": [12, 13, 14, 15],\n",
    "    \"parietal\": [6, 7, 18],\n",
    "    \"occipital\": [8, 9]\n",
    "}\n",
    "\n",
    "# 自动生成多脑区组合\n",
    "def generate_combinations(regions, sizes):\n",
    "    combined_regions = {}\n",
    "    region_names = list(regions.keys())\n",
    "    # 遍历指定组合大小\n",
    "    for size in sizes:\n",
    "        for combination in combinations(region_names, size):\n",
    "            combined_name = \"_\".join(combination)  # 组合名称\n",
    "            combined_indices = sorted(set().union(*(regions[region] for region in combination)))  # 合并去重\n",
    "            combined_regions[combined_name] = combined_indices\n",
    "    return combined_regions\n",
    "# 生成所有二、三、四脑区组合\n",
    "regions = generate_combinations(regions, sizes=[1,2, 3, 4,5])\n",
    "# 动态获取变量值\n",
    "partition = \"prefrontal_occipital\"\n",
    "\n",
    "\n",
    "dataset_name = \"stcgru_tnb_raw\"\n",
    "for i in range(total_fold):\n",
    "    test_data_combine = torch.load(\"EEGDataTNBRaw/\"+partition+\"/TestData/test_data_\"+ str(i + 1) + \"_fold_with_seed_\" + str(seed) + \".pth\", weights_only=False)\n",
    "    test_loader = DataLoader(dataset=test_data_combine,\n",
    "                            batch_size=batch_size,\n",
    "                            shuffle=True,\n",
    "                            drop_last=False,\n",
    "                            pin_memory=True,\n",
    "                            num_workers=8)\n",
    "\n",
    "    model = dl.STCGRU(len(regions[partition])).to(device)\n",
    "    model_loc =  dataset_name+'/'+partition+\"/\"+str(i + 1) + \"_fold_model_parameter_with_seed_\" + str(seed) + \".pth\"\n",
    "    model_dict = torch.load(model_loc,weights_only=True)\n",
    "    model.load_state_dict(model_dict)\n",
    "    '''测试'''\n",
    "    acc_average, results, labels_test, results_PR = test(i, loader=test_loader, neural_network=model)\n",
    "\n",
    "    results_sum = np.append(results_sum, results)\n",
    "    labels_test_sum = np.append(labels_test_sum, labels_test)\n",
    "    results_PR_sum.extend(results_PR)\n",
    "    name['test_acc_average_' + str(i + 1)] = acc_average\n",
    "\n",
    "    confusion_matrix_single = confusion_matrix(labels_test, results, labels=[0, 1])\n",
    "    kappa_single = cohen_kappa_score(labels_test, results)\n",
    "    sensitivity_single = confusion_matrix_single[0, 0] / (confusion_matrix_single[0, 0] + confusion_matrix_single[0, 1])  # 灵敏度（召回率）\n",
    "    specificity_single = confusion_matrix_single[1, 1] / (confusion_matrix_single[1, 1] + confusion_matrix_single[1, 0])  # 特异度\n",
    "    precision_single = confusion_matrix_single[0, 0] / (confusion_matrix_single[0, 0] + confusion_matrix_single[1, 0])  # 查准率\n",
    "    F1_single = 2 * precision_single * sensitivity_single / (precision_single + sensitivity_single)  # F1值\n",
    "    print(model_type + \" 第%d折交叉验证测试集准确率: %.4f，kappa值：%.4f，灵敏度：%.4f，特异度：%.4f，查准率：%.4f，F1值：%.4f\"\n",
    "        % (i+1, acc_average, kappa_single, sensitivity_single, specificity_single, precision_single, F1_single))\n",
    "for i in range(total_fold):\n",
    "    if i == 0:\n",
    "        test_acc_sum = name['test_acc_average_' + str(i + 1)]\n",
    "    else:\n",
    "        test_acc_sum = np.append(test_acc_sum, name['test_acc_average_' + str(i + 1)])\n",
    "    del name['test_acc_average_' + str(i + 1)]"
   ]
  },
  {
   "cell_type": "code",
   "execution_count": 9,
   "metadata": {},
   "outputs": [
    {
     "data": {
      "image/png": "[encoded data removed]",
      "text/plain": [
       "<Figure size 800x600 with 2 Axes>"
      ]
     },
     "metadata": {},
     "output_type": "display_data"
    },
    {
     "name": "stdout",
     "output_type": "stream",
     "text": [
      "STCGRU 10折交叉验证平均测试集准确率: 0.8360 ± 0.1705，kappa值：0.6650，灵敏度：0.7313，特异度：0.9234，查准率：0.8874，F1值：0.8018\n"
     ]
    }
   ],
   "source": [
    "test_acc_final = np.sum(test_acc_sum) / total_fold\n",
    "test_acc_std = float(np.std(test_acc_sum))\n",
    "confusion_matrix = confusion_matrix(labels_test_sum, results_sum, labels=[0, 1])\n",
    "import seaborn as sns\n",
    "kappa = cohen_kappa_score(labels_test_sum, results_sum)\n",
    "sensitivity = confusion_matrix[0, 0] / (confusion_matrix[0, 0] + confusion_matrix[0, 1])  # 灵敏度（召回率）\n",
    "specificity = confusion_matrix[1, 1] / (confusion_matrix[1, 1] + confusion_matrix[1, 0])  # 特异度\n",
    "precision = confusion_matrix[0, 0] / (confusion_matrix[0, 0] + confusion_matrix[1, 0])  # 查准率\n",
    "F1 = 2 * precision * sensitivity / (precision + sensitivity)  # F1值\n",
    "def plot_confusion_matrix(confusion_matrix, classes, title='Confusion Matrix of SVM'):\n",
    "    # 计算混淆矩阵\n",
    "    \n",
    "    # 创建热力图\n",
    "    plt.figure(figsize=(8, 6))\n",
    "    sns.heatmap(confusion_matrix, annot=True, fmt='d', cmap='Blues', xticklabels=classes, yticklabels=classes)\n",
    "    \n",
    "    # 设置标题和标签\n",
    "    plt.title(title)\n",
    "    plt.ylabel('True Label')\n",
    "    plt.xlabel('Predicted Label')\n",
    "    plt.show()\n",
    "plot_confusion_matrix(confusion_matrix, classes=['MCI', 'HC'],title=partition)\n",
    "print(model_type + \" %d折交叉验证平均测试集准确率: %.4f ± %.4f，kappa值：%.4f，灵敏度：%.4f，特异度：%.4f，查准率：%.4f，F1值：%.4f\"\n",
    "    % (total_fold, test_acc_final, test_acc_std, kappa, sensitivity, specificity, precision, F1))\n"
   ]
  }
 ],
 "metadata": {
  "kernelspec": {
   "display_name": "DL",
   "language": "python",
   "name": "python3"
  },
  "language_info": {
   "codemirror_mode": {
    "name": "ipython",
    "version": 3
   },
   "file_extension": ".py",
   "mimetype": "text/x-python",
   "name": "python",
   "nbconvert_exporter": "python",
   "pygments_lexer": "ipython3",
   "version": "3.11.11"
  }
 },
 "nbformat": 4,
 "nbformat_minor": 2
}
