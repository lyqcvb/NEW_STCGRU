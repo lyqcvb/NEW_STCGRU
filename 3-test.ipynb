{
 "cells": [
  {
   "cell_type": "code",
   "execution_count": 6,
   "metadata": {},
   "outputs": [],
   "source": [
    "import torch\n",
    "import numpy as np\n",
    "from torch.utils.data import DataLoader\n",
    "import itertools\n",
    "import matplotlib.pyplot as plt\n",
    "from sklearn.metrics import confusion_matrix\n",
    "from sklearn.metrics import cohen_kappa_score\n",
    "import model as dl\n",
    "import joblib\n",
    "device = torch.device(\"cuda:0\" if torch.cuda.is_available() else \"cpu\")"
   ]
  },
  {
   "cell_type": "code",
   "execution_count": 7,
   "metadata": {},
   "outputs": [],
   "source": [
    "def test(i, loader, neural_network):\n",
    "    acc = 0\n",
    "    results_sum = []\n",
    "    labels_test_sum = []\n",
    "    results_PR_sum = []\n",
    "    for step, (data, labels) in enumerate(loader):\n",
    "        data = data.to(device)\n",
    "        labels = labels.to(device)\n",
    "        # 前向传播\n",
    "        outputs = neural_network(data.float())\n",
    "        acc += outputs.argmax(dim=1).eq(labels).type_as(torch.FloatTensor()).mean()\n",
    "        results_sum = np.append(results_sum, outputs.argmax(dim=1).cpu().numpy())\n",
    "        labels_test_sum = np.append(labels_test_sum, labels.cpu().numpy())\n",
    "        results_PR_sum.extend(outputs.detach().cpu().numpy())\n",
    "    acc_average = acc / (step + 1)\n",
    "    print(\"第\" + str(i + 1) + \"次训练测试集准确率: {:.4f}\".format(acc_average))\n",
    "    return acc_average, results_sum, labels_test_sum, results_PR_sum"
   ]
  },
  {
   "cell_type": "code",
   "execution_count": 8,
   "metadata": {},
   "outputs": [],
   "source": [
    "def plot_confusion_matrix(cm, classes, normalize=False, title='Confusion matrix', cmap=plt.cm.Blues):\n",
    "    \"\"\"\n",
    "    This function prints and plots the confusion matrix.\n",
    "    Normalization can be applied by setting `normalize=True`.\n",
    "    Input\n",
    "    - cm : 计算出的混淆矩阵的值\n",
    "    - classes : 混淆矩阵中每一行每一列对应的列\n",
    "    - normalize : True:显示百分比, False:显示个数\n",
    "    \"\"\"\n",
    "    # 定义一种字体属性\n",
    "    font1 = {'family': 'Times New Roman',\n",
    "            'weight': 'normal',\n",
    "            'size': 20}\n",
    "    font2 = {'family': 'Times New Roman',\n",
    "            'weight': 'normal',\n",
    "            'size': 18}\n",
    "    if normalize:\n",
    "        cm = cm.astype('float') / cm.sum(axis=1)[:, np.newaxis]\n",
    "        print(\"Normalized confusion matrix\")\n",
    "    else:\n",
    "        print('Confusion matrix, without normalization')\n",
    "    print(cm)\n",
    "    plt.figure(num=None, figsize=(6, 6), dpi=60)\n",
    "    plt.imshow(cm, interpolation='nearest', cmap=cmap)\n",
    "    plt.title(title, fontdict=font1, y=1.05)\n",
    "    plt.colorbar(shrink=0.64)\n",
    "    tick_marks = np.arange(len(classes))\n",
    "    plt.xticks(tick_marks, classes, rotation=45, fontdict=font2)\n",
    "    plt.yticks(tick_marks, classes, rotation=45, fontdict=font2)\n",
    "    fmt = '.2f' if normalize else 'd'\n",
    "    thresh = cm.max() / 2.\n",
    "    for i, j in itertools.product(range(cm.shape[0]), range(cm.shape[1])):\n",
    "        plt.text(j, i, format(cm[i, j], fmt),\n",
    "                verticalalignment=\"center\",\n",
    "                horizontalalignment=\"center\",\n",
    "                color=\"white\" if cm[i, j] > thresh else \"black\",\n",
    "                fontdict=font2)\n",
    "    plt.tight_layout()\n",
    "    plt.ylabel('Actual Class', fontdict=font2)\n",
    "    plt.xlabel('Predict Class', fontdict=font2)\n",
    "    plt.subplots_adjust(left=0.2, top=1.02, bottom=0.05)\n",
    "    plt.show()"
   ]
  },
  {
   "cell_type": "code",
   "execution_count": 9,
   "metadata": {},
   "outputs": [
    {
     "name": "stderr",
     "output_type": "stream",
     "text": [
      "/tmp/ipykernel_83855/3970364026.py:25: FutureWarning: You are using `torch.load` with `weights_only=False` (the current default value), which uses the default pickle module implicitly. It is possible to construct malicious pickle data which will execute arbitrary code during unpickling (See https://github.com/pytorch/pytorch/blob/main/SECURITY.md#untrusted-models for more details). In a future release, the default value for `weights_only` will be flipped to `True`. This limits the functions that could be executed during unpickling. Arbitrary objects will no longer be allowed to be loaded via this mode unless they are explicitly allowlisted by the user via `torch.serialization.add_safe_globals`. We recommend you start setting `weights_only=True` for any use case where you don't have full control of the loaded file. Please open an issue on GitHub for any issues related to this experimental feature.\n",
      "  model_dict = torch.load(model_loc)\n"
     ]
    },
    {
     "name": "stdout",
     "output_type": "stream",
     "text": [
      "第1次训练测试集准确率: 0.9984\n",
      "STCGRU 第1折交叉验证测试集准确率: 0.9984，kappa值：0.9965，灵敏度：1.0000，特异度：0.9962，查准率：0.9967，F1值：0.9983\n"
     ]
    },
    {
     "name": "stderr",
     "output_type": "stream",
     "text": [
      "/tmp/ipykernel_83855/3970364026.py:25: FutureWarning: You are using `torch.load` with `weights_only=False` (the current default value), which uses the default pickle module implicitly. It is possible to construct malicious pickle data which will execute arbitrary code during unpickling (See https://github.com/pytorch/pytorch/blob/main/SECURITY.md#untrusted-models for more details). In a future release, the default value for `weights_only` will be flipped to `True`. This limits the functions that could be executed during unpickling. Arbitrary objects will no longer be allowed to be loaded via this mode unless they are explicitly allowlisted by the user via `torch.serialization.add_safe_globals`. We recommend you start setting `weights_only=True` for any use case where you don't have full control of the loaded file. Please open an issue on GitHub for any issues related to this experimental feature.\n",
      "  model_dict = torch.load(model_loc)\n"
     ]
    },
    {
     "name": "stdout",
     "output_type": "stream",
     "text": [
      "第2次训练测试集准确率: 1.0000\n",
      "STCGRU 第2折交叉验证测试集准确率: 1.0000，kappa值：1.0000，灵敏度：1.0000，特异度：1.0000，查准率：1.0000，F1值：1.0000\n"
     ]
    },
    {
     "name": "stderr",
     "output_type": "stream",
     "text": [
      "/tmp/ipykernel_83855/3970364026.py:25: FutureWarning: You are using `torch.load` with `weights_only=False` (the current default value), which uses the default pickle module implicitly. It is possible to construct malicious pickle data which will execute arbitrary code during unpickling (See https://github.com/pytorch/pytorch/blob/main/SECURITY.md#untrusted-models for more details). In a future release, the default value for `weights_only` will be flipped to `True`. This limits the functions that could be executed during unpickling. Arbitrary objects will no longer be allowed to be loaded via this mode unless they are explicitly allowlisted by the user via `torch.serialization.add_safe_globals`. We recommend you start setting `weights_only=True` for any use case where you don't have full control of the loaded file. Please open an issue on GitHub for any issues related to this experimental feature.\n",
      "  model_dict = torch.load(model_loc)\n"
     ]
    },
    {
     "name": "stdout",
     "output_type": "stream",
     "text": [
      "第3次训练测试集准确率: 0.9973\n",
      "STCGRU 第3折交叉验证测试集准确率: 0.9973，kappa值：0.9964，灵敏度：0.9984，特异度：0.9980，查准率：0.9984，F1值：0.9984\n"
     ]
    },
    {
     "name": "stderr",
     "output_type": "stream",
     "text": [
      "/tmp/ipykernel_83855/3970364026.py:25: FutureWarning: You are using `torch.load` with `weights_only=False` (the current default value), which uses the default pickle module implicitly. It is possible to construct malicious pickle data which will execute arbitrary code during unpickling (See https://github.com/pytorch/pytorch/blob/main/SECURITY.md#untrusted-models for more details). In a future release, the default value for `weights_only` will be flipped to `True`. This limits the functions that could be executed during unpickling. Arbitrary objects will no longer be allowed to be loaded via this mode unless they are explicitly allowlisted by the user via `torch.serialization.add_safe_globals`. We recommend you start setting `weights_only=True` for any use case where you don't have full control of the loaded file. Please open an issue on GitHub for any issues related to this experimental feature.\n",
      "  model_dict = torch.load(model_loc)\n"
     ]
    },
    {
     "name": "stdout",
     "output_type": "stream",
     "text": [
      "第4次训练测试集准确率: 0.9966\n",
      "STCGRU 第4折交叉验证测试集准确率: 0.9966，kappa值：0.9946，灵敏度：0.9969，特异度：0.9979，查准率：0.9985，F1值：0.9977\n"
     ]
    },
    {
     "name": "stderr",
     "output_type": "stream",
     "text": [
      "/tmp/ipykernel_83855/3970364026.py:25: FutureWarning: You are using `torch.load` with `weights_only=False` (the current default value), which uses the default pickle module implicitly. It is possible to construct malicious pickle data which will execute arbitrary code during unpickling (See https://github.com/pytorch/pytorch/blob/main/SECURITY.md#untrusted-models for more details). In a future release, the default value for `weights_only` will be flipped to `True`. This limits the functions that could be executed during unpickling. Arbitrary objects will no longer be allowed to be loaded via this mode unless they are explicitly allowlisted by the user via `torch.serialization.add_safe_globals`. We recommend you start setting `weights_only=True` for any use case where you don't have full control of the loaded file. Please open an issue on GitHub for any issues related to this experimental feature.\n",
      "  model_dict = torch.load(model_loc)\n"
     ]
    },
    {
     "name": "stdout",
     "output_type": "stream",
     "text": [
      "第5次训练测试集准确率: 0.9992\n",
      "STCGRU 第5折交叉验证测试集准确率: 0.9992，kappa值：0.9982，灵敏度：0.9984，特异度：1.0000，查准率：1.0000，F1值：0.9992\n"
     ]
    },
    {
     "name": "stderr",
     "output_type": "stream",
     "text": [
      "/tmp/ipykernel_83855/3970364026.py:25: FutureWarning: You are using `torch.load` with `weights_only=False` (the current default value), which uses the default pickle module implicitly. It is possible to construct malicious pickle data which will execute arbitrary code during unpickling (See https://github.com/pytorch/pytorch/blob/main/SECURITY.md#untrusted-models for more details). In a future release, the default value for `weights_only` will be flipped to `True`. This limits the functions that could be executed during unpickling. Arbitrary objects will no longer be allowed to be loaded via this mode unless they are explicitly allowlisted by the user via `torch.serialization.add_safe_globals`. We recommend you start setting `weights_only=True` for any use case where you don't have full control of the loaded file. Please open an issue on GitHub for any issues related to this experimental feature.\n",
      "  model_dict = torch.load(model_loc)\n"
     ]
    },
    {
     "name": "stdout",
     "output_type": "stream",
     "text": [
      "第6次训练测试集准确率: 0.9927\n",
      "STCGRU 第6折交叉验证测试集准确率: 0.9927，kappa值：0.9858，灵敏度：0.9885，特异度：0.9981，查准率：0.9983，F1值：0.9934\n"
     ]
    },
    {
     "name": "stderr",
     "output_type": "stream",
     "text": [
      "/tmp/ipykernel_83855/3970364026.py:25: FutureWarning: You are using `torch.load` with `weights_only=False` (the current default value), which uses the default pickle module implicitly. It is possible to construct malicious pickle data which will execute arbitrary code during unpickling (See https://github.com/pytorch/pytorch/blob/main/SECURITY.md#untrusted-models for more details). In a future release, the default value for `weights_only` will be flipped to `True`. This limits the functions that could be executed during unpickling. Arbitrary objects will no longer be allowed to be loaded via this mode unless they are explicitly allowlisted by the user via `torch.serialization.add_safe_globals`. We recommend you start setting `weights_only=True` for any use case where you don't have full control of the loaded file. Please open an issue on GitHub for any issues related to this experimental feature.\n",
      "  model_dict = torch.load(model_loc)\n"
     ]
    },
    {
     "name": "stdout",
     "output_type": "stream",
     "text": [
      "第7次训练测试集准确率: 0.9984\n",
      "STCGRU 第7折交叉验证测试集准确率: 0.9984，kappa值：0.9964，灵敏度：0.9968，特异度：1.0000，查准率：1.0000，F1值：0.9984\n"
     ]
    },
    {
     "name": "stderr",
     "output_type": "stream",
     "text": [
      "/tmp/ipykernel_83855/3970364026.py:25: FutureWarning: You are using `torch.load` with `weights_only=False` (the current default value), which uses the default pickle module implicitly. It is possible to construct malicious pickle data which will execute arbitrary code during unpickling (See https://github.com/pytorch/pytorch/blob/main/SECURITY.md#untrusted-models for more details). In a future release, the default value for `weights_only` will be flipped to `True`. This limits the functions that could be executed during unpickling. Arbitrary objects will no longer be allowed to be loaded via this mode unless they are explicitly allowlisted by the user via `torch.serialization.add_safe_globals`. We recommend you start setting `weights_only=True` for any use case where you don't have full control of the loaded file. Please open an issue on GitHub for any issues related to this experimental feature.\n",
      "  model_dict = torch.load(model_loc)\n"
     ]
    },
    {
     "name": "stdout",
     "output_type": "stream",
     "text": [
      "第8次训练测试集准确率: 0.9981\n",
      "STCGRU 第8折交叉验证测试集准确率: 0.9981，kappa值：0.9982，灵敏度：1.0000，特异度：0.9981，查准率：0.9984，F1值：0.9992\n"
     ]
    },
    {
     "name": "stderr",
     "output_type": "stream",
     "text": [
      "/tmp/ipykernel_83855/3970364026.py:25: FutureWarning: You are using `torch.load` with `weights_only=False` (the current default value), which uses the default pickle module implicitly. It is possible to construct malicious pickle data which will execute arbitrary code during unpickling (See https://github.com/pytorch/pytorch/blob/main/SECURITY.md#untrusted-models for more details). In a future release, the default value for `weights_only` will be flipped to `True`. This limits the functions that could be executed during unpickling. Arbitrary objects will no longer be allowed to be loaded via this mode unless they are explicitly allowlisted by the user via `torch.serialization.add_safe_globals`. We recommend you start setting `weights_only=True` for any use case where you don't have full control of the loaded file. Please open an issue on GitHub for any issues related to this experimental feature.\n",
      "  model_dict = torch.load(model_loc)\n"
     ]
    },
    {
     "name": "stdout",
     "output_type": "stream",
     "text": [
      "第9次训练测试集准确率: 1.0000\n",
      "STCGRU 第9折交叉验证测试集准确率: 1.0000，kappa值：1.0000，灵敏度：1.0000，特异度：1.0000，查准率：1.0000，F1值：1.0000\n"
     ]
    },
    {
     "name": "stderr",
     "output_type": "stream",
     "text": [
      "/tmp/ipykernel_83855/3970364026.py:25: FutureWarning: You are using `torch.load` with `weights_only=False` (the current default value), which uses the default pickle module implicitly. It is possible to construct malicious pickle data which will execute arbitrary code during unpickling (See https://github.com/pytorch/pytorch/blob/main/SECURITY.md#untrusted-models for more details). In a future release, the default value for `weights_only` will be flipped to `True`. This limits the functions that could be executed during unpickling. Arbitrary objects will no longer be allowed to be loaded via this mode unless they are explicitly allowlisted by the user via `torch.serialization.add_safe_globals`. We recommend you start setting `weights_only=True` for any use case where you don't have full control of the loaded file. Please open an issue on GitHub for any issues related to this experimental feature.\n",
      "  model_dict = torch.load(model_loc)\n"
     ]
    },
    {
     "name": "stdout",
     "output_type": "stream",
     "text": [
      "第10次训练测试集准确率: 0.9900\n",
      "STCGRU 第10折交叉验证测试集准确率: 0.9900，kappa值：0.9822，灵敏度：0.9868，特异度：0.9962，查准率：0.9967，F1值：0.9917\n"
     ]
    }
   ],
   "source": [
    "name = locals()\n",
    "seed = 18\n",
    "dl.seed_everything(seed)\n",
    "model_type = 'STCGRU'\n",
    "\n",
    "batch_size = 256\n",
    "total_fold = 10  # 10折\n",
    "\n",
    "test_acc_sum = 0\n",
    "results_sum = []\n",
    "labels_test_sum = []\n",
    "results_PR_sum = []\n",
    "\n",
    "for i in range(total_fold):\n",
    "    test_data_combine = torch.load(\"EEGData/70hz/TestData/test_data_\"+ str(i + 1) + \"_fold_with_seed_\" + str(seed) + \".pth\", weights_only=False)\n",
    "    test_loader = DataLoader(dataset=test_data_combine,\n",
    "                            batch_size=batch_size,\n",
    "                            shuffle=True,\n",
    "                            drop_last=False,\n",
    "                            pin_memory=True,\n",
    "                            num_workers=8)\n",
    "\n",
    "    model = dl.STCGRU().to(device)\n",
    "    model_loc =  \"stcgru/70hz/\"+str(i + 1) + \"_fold_model_parameter_with_seed_\" + str(seed) + \".pth\"\n",
    "    model_dict = torch.load(model_loc)\n",
    "    model.load_state_dict(model_dict)\n",
    "    '''测试'''\n",
    "    acc_average, results, labels_test, results_PR = test(i, loader=test_loader, neural_network=model)\n",
    "    results_sum = np.append(results_sum, results)\n",
    "    labels_test_sum = np.append(labels_test_sum, labels_test)\n",
    "    results_PR_sum.extend(results_PR)\n",
    "    name['test_acc_average_' + str(i + 1)] = acc_average\n",
    "    confusion_matrix_single = confusion_matrix(labels_test, results, labels=[0, 1])\n",
    "    kappa_single = cohen_kappa_score(labels_test, results)\n",
    "    sensitivity_single = confusion_matrix_single[0, 0] / (confusion_matrix_single[0, 0] + confusion_matrix_single[0, 1])  # 灵敏度（召回率）\n",
    "    specificity_single = confusion_matrix_single[1, 1] / (confusion_matrix_single[1, 1] + confusion_matrix_single[1, 0])  # 特异度\n",
    "    precision_single = confusion_matrix_single[0, 0] / (confusion_matrix_single[0, 0] + confusion_matrix_single[1, 0])  # 查准率\n",
    "    F1_single = 2 * precision_single * sensitivity_single / (precision_single + sensitivity_single)  # F1值\n",
    "    print(model_type + \" 第%d折交叉验证测试集准确率: %.4f，kappa值：%.4f，灵敏度：%.4f，特异度：%.4f，查准率：%.4f，F1值：%.4f\"\n",
    "        % (i+1, acc_average, kappa_single, sensitivity_single, specificity_single, precision_single, F1_single))\n",
    "for i in range(total_fold):\n",
    "    if i == 0:\n",
    "        test_acc_sum = name['test_acc_average_' + str(i + 1)]\n",
    "    else:\n",
    "        test_acc_sum = np.append(test_acc_sum, name['test_acc_average_' + str(i + 1)])\n",
    "    del name['test_acc_average_' + str(i + 1)]"
   ]
  },
  {
   "cell_type": "code",
   "execution_count": 10,
   "metadata": {},
   "outputs": [
    {
     "name": "stderr",
     "output_type": "stream",
     "text": [
      "findfont: Font family 'Times New Roman' not found.\n",
      "findfont: Font family 'Times New Roman' not found.\n",
      "findfont: Font family 'Times New Roman' not found.\n",
      "findfont: Font family 'Times New Roman' not found.\n",
      "findfont: Font family 'Times New Roman' not found.\n",
      "findfont: Font family 'Times New Roman' not found.\n",
      "findfont: Font family 'Times New Roman' not found.\n",
      "findfont: Font family 'Times New Roman' not found.\n",
      "findfont: Font family 'Times New Roman' not found.\n"
     ]
    },
    {
     "name": "stderr",
     "output_type": "stream",
     "text": [
      "findfont: Font family 'Times New Roman' not found.\n",
      "findfont: Font family 'Times New Roman' not found.\n",
      "findfont: Font family 'Times New Roman' not found.\n",
      "findfont: Font family 'Times New Roman' not found.\n",
      "findfont: Font family 'Times New Roman' not found.\n",
      "findfont: Font family 'Times New Roman' not found.\n",
      "findfont: Font family 'Times New Roman' not found.\n",
      "findfont: Font family 'Times New Roman' not found.\n",
      "findfont: Font family 'Times New Roman' not found.\n",
      "findfont: Font family 'Times New Roman' not found.\n",
      "findfont: Font family 'Times New Roman' not found.\n",
      "findfont: Font family 'Times New Roman' not found.\n",
      "findfont: Font family 'Times New Roman' not found.\n",
      "findfont: Font family 'Times New Roman' not found.\n",
      "findfont: Font family 'Times New Roman' not found.\n",
      "findfont: Font family 'Times New Roman' not found.\n",
      "findfont: Font family 'Times New Roman' not found.\n",
      "findfont: Font family 'Times New Roman' not found.\n",
      "findfont: Font family 'Times New Roman' not found.\n",
      "findfont: Font family 'Times New Roman' not found.\n",
      "findfont: Font family 'Times New Roman' not found.\n",
      "findfont: Font family 'Times New Roman' not found.\n",
      "findfont: Font family 'Times New Roman' not found.\n",
      "findfont: Font family 'Times New Roman' not found.\n"
     ]
    },
    {
     "name": "stdout",
     "output_type": "stream",
     "text": [
      "Confusion matrix, without normalization\n",
      "[[6177   21]\n",
      " [   8 5104]]\n"
     ]
    },
    {
     "data": {
      "image/png": "[encoded data removed]",
      "text/plain": [
       "<Figure size 360x360 with 2 Axes>"
      ]
     },
     "metadata": {},
     "output_type": "display_data"
    },
    {
     "name": "stdout",
     "output_type": "stream",
     "text": [
      "STCGRU 10折交叉验证平均测试集准确率: 0.9971 ± 0.0031，kappa值：0.9948，灵敏度：0.9966，特异度：0.9984，查准率：0.9987，F1值：0.9977\n"
     ]
    }
   ],
   "source": [
    "test_acc_final = np.sum(test_acc_sum) / total_fold\n",
    "test_acc_std = float(np.std(test_acc_sum))\n",
    "confusion_matrix = confusion_matrix(labels_test_sum, results_sum, labels=[0, 1])\n",
    "\n",
    "kappa = cohen_kappa_score(labels_test_sum, results_sum)\n",
    "sensitivity = confusion_matrix[0, 0] / (confusion_matrix[0, 0] + confusion_matrix[0, 1])  # 灵敏度（召回率）\n",
    "specificity = confusion_matrix[1, 1] / (confusion_matrix[1, 1] + confusion_matrix[1, 0])  # 特异度\n",
    "precision = confusion_matrix[0, 0] / (confusion_matrix[0, 0] + confusion_matrix[1, 0])  # 查准率\n",
    "F1 = 2 * precision * sensitivity / (precision + sensitivity)  # F1值\n",
    "plot_confusion_matrix(confusion_matrix, classes=['MCI', 'HC'], normalize=False,\n",
    "                    title='Confusion Matrix of STCBRU(70hz)')\n",
    "\n",
    "print(model_type + \" %d折交叉验证平均测试集准确率: %.4f ± %.4f，kappa值：%.4f，灵敏度：%.4f，特异度：%.4f，查准率：%.4f，F1值：%.4f\"\n",
    "    % (total_fold, test_acc_final, test_acc_std, kappa, sensitivity, specificity, precision, F1))\n"
   ]
  }
 ],
 "metadata": {
  "kernelspec": {
   "display_name": "DL",
   "language": "python",
   "name": "python3"
  },
  "language_info": {
   "codemirror_mode": {
    "name": "ipython",
    "version": 3
   },
   "file_extension": ".py",
   "mimetype": "text/x-python",
   "name": "python",
   "nbconvert_exporter": "python",
   "pygments_lexer": "ipython3",
   "version": "3.12.2"
  }
 },
 "nbformat": 4,
 "nbformat_minor": 2
}
