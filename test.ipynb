{
 "cells": [
  {
   "cell_type": "code",
   "execution_count": 5,
   "metadata": {},
   "outputs": [
    {
     "name": "stdout",
     "output_type": "stream",
     "text": [
      "Extracting EDF parameters from /home/lyq/Desktop/DL/NEW_STCGRU/糖尿病认知障碍与对照脑电数据/认知障碍/陈艳杰.edf...\n",
      "EDF file detected\n",
      "Setting channel info structure...\n",
      "Creating raw.info structure...\n",
      "Reading 0 ... 236999  =      0.000 ...   473.998 secs...\n",
      "Highpass filter: 0.0\n",
      "Lowpass filter: 250.0\n",
      "Annotations: <Annotations | 4 segments: +0.000000 (1), +1.560000 (1), A1+A2 OFF (1), ...>\n",
      "<Info | 8 non-empty values\n",
      " bads: []\n",
      " ch_names: EEG Fp1-Ref, EEG Fp2-Ref, EEG F3-Ref, EEG F4-Ref, EEG C3-Ref, ...\n",
      " chs: 43 EEG\n",
      " custom_ref_applied: False\n",
      " highpass: 0.0 Hz\n",
      " lowpass: 250.0 Hz\n",
      " meas_date: 2024-01-11 10:31:24 UTC\n",
      " nchan: 43\n",
      " projs: []\n",
      " sfreq: 500.0 Hz\n",
      " subject_info: 3 items (dict)\n",
      ">\n"
     ]
    }
   ],
   "source": [
    "import mne\n",
    "\n",
    "# 设置编码为 'latin1'\n",
    "raw = mne.io.read_raw_edf('糖尿病认知障碍与对照脑电数据/认知障碍/陈艳杰.edf', preload=True, encoding='latin1')\n",
    "import warnings\n",
    "\n",
    "# 忽略 RuntimeWarning 警告\n",
    "warnings.filterwarnings(\"ignore\", category=RuntimeWarning)\n",
    "\n",
    "# 查看滤波信息\n",
    "print(\"Highpass filter:\", raw.info['highpass'])\n",
    "print(\"Lowpass filter:\", raw.info['lowpass'])\n",
    "\n",
    "# 查看注释信息\n",
    "print(\"Annotations:\", raw.annotations)\n",
    "\n",
    "# 打印完整的基本信息\n",
    "print(raw.info)\n",
    "\n"
   ]
  },
  {
   "cell_type": "code",
   "execution_count": null,
   "metadata": {},
   "outputs": [],
   "source": [
    "data = raw.get_data()"
   ]
  },
  {
   "cell_type": "code",
   "execution_count": 1,
   "metadata": {},
   "outputs": [],
   "source": [
    "import torch\n",
    "import torch.nn as nn\n",
    "device = torch.device(\"cuda\" if torch.cuda.is_available() else \"cpu\")\n"
   ]
  },
  {
   "cell_type": "code",
   "execution_count": 2,
   "metadata": {},
   "outputs": [
    {
     "name": "stdout",
     "output_type": "stream",
     "text": [
      "out shape: torch.Size([1, 19, 58])\n",
      "out shape: torch.Size([1, 76, 58])\n",
      "out shape: torch.Size([1, 76, 58])\n",
      "out shape: torch.Size([1, 58, 76])\n",
      "h0 shape: torch.Size([2, 1, 32])\n",
      "hn shape: torch.Size([2, 1, 32])\n"
     ]
    }
   ],
   "source": [
    "import torch\n",
    "import model\n",
    "stcgru = model.STCGRU().to(device)\n",
    "test = torch.randn( 1, 19, 1250).to(device)\n",
    "loc = \"stcgru/250hz/1_fold_model_parameter_with_seed_34.pth\"\n",
    "output = stcgru(test)"
   ]
  },
  {
   "cell_type": "code",
   "execution_count": 3,
   "metadata": {},
   "outputs": [
    {
     "name": "stdout",
     "output_type": "stream",
     "text": [
      "STCGRU(\n",
      "  (cnn_layer_1_large): Sequential(\n",
      "    (0): Conv2d(1, 1, kernel_size=(1, 77), stride=(1, 3), bias=False)\n",
      "    (1): BatchNorm2d(1, eps=1e-05, momentum=0.1, affine=True, track_running_stats=True)\n",
      "    (2): ReLU()\n",
      "    (3): AvgPool2d(kernel_size=(1, 2), stride=(1, 2), padding=0)\n",
      "    (4): Conv2d(1, 1, kernel_size=(1, 39), stride=(1, 3), bias=False)\n",
      "    (5): BatchNorm2d(1, eps=1e-05, momentum=0.1, affine=True, track_running_stats=True)\n",
      "    (6): ReLU()\n",
      "    (7): AvgPool2d(kernel_size=(1, 2), stride=(1, 2), padding=0)\n",
      "  )\n",
      "  (cnn_layer_1_small): Sequential(\n",
      "    (0): Conv2d(1, 1, kernel_size=(1, 21), stride=(1, 3), bias=False)\n",
      "    (1): BatchNorm2d(1, eps=1e-05, momentum=0.1, affine=True, track_running_stats=True)\n",
      "    (2): ReLU()\n",
      "    (3): AvgPool2d(kernel_size=(1, 2), stride=(1, 2), padding=0)\n",
      "    (4): Conv2d(1, 1, kernel_size=(1, 11), stride=(1, 3), bias=False)\n",
      "    (5): BatchNorm2d(1, eps=1e-05, momentum=0.1, affine=True, track_running_stats=True)\n",
      "    (6): ReLU()\n",
      "    (7): AvgPool2d(kernel_size=(1, 2), stride=(1, 2), padding=0)\n",
      "  )\n",
      "  (cnn_layer_2): Sequential(\n",
      "    (0): Conv1d(19, 19, kernel_size=(1,), stride=(1,), bias=False)\n",
      "    (1): BatchNorm1d(19, eps=1e-05, momentum=0.1, affine=True, track_running_stats=True)\n",
      "    (2): ReLU()\n",
      "    (3): Conv1d(19, 38, kernel_size=(1,), stride=(1,), bias=False)\n",
      "    (4): BatchNorm1d(38, eps=1e-05, momentum=0.1, affine=True, track_running_stats=True)\n",
      "    (5): ReLU()\n",
      "    (6): Conv1d(38, 76, kernel_size=(1,), stride=(1,), bias=False)\n",
      "    (7): BatchNorm1d(76, eps=1e-05, momentum=0.1, affine=True, track_running_stats=True)\n",
      "    (8): ReLU()\n",
      "  )\n",
      "  (fc_layer_1): Linear(in_features=58, out_features=58, bias=True)\n",
      "  (gru): GRU(76, 32, batch_first=True, bidirectional=True)\n",
      "  (flatten): Flatten(start_dim=1, end_dim=-1)\n",
      "  (fc_layer_2): Linear(in_features=64, out_features=2, bias=True)\n",
      "  (sigmoid): Sigmoid()\n",
      ")\n"
     ]
    }
   ],
   "source": [
    "print(stcgru)"
   ]
  }
 ],
 "metadata": {
  "kernelspec": {
   "display_name": "DL",
   "language": "python",
   "name": "python3"
  },
  "language_info": {
   "codemirror_mode": {
    "name": "ipython",
    "version": 3
   },
   "file_extension": ".py",
   "mimetype": "text/x-python",
   "name": "python",
   "nbconvert_exporter": "python",
   "pygments_lexer": "ipython3",
   "version": "3.12.2"
  }
 },
 "nbformat": 4,
 "nbformat_minor": 2
}
