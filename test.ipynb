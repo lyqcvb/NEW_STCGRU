{
 "cells": [
  {
   "cell_type": "code",
   "execution_count": 2,
   "metadata": {},
   "outputs": [
    {
     "name": "stdout",
     "output_type": "stream",
     "text": [
      "Extracting EDF parameters from /home/lyq/Desktop/DL/NEW_STCGRU/糖尿病认知障碍与对照脑电数据/认知障碍/陈艳杰.edf...\n",
      "EDF file detected\n",
      "Setting channel info structure...\n",
      "Creating raw.info structure...\n",
      "Reading 0 ... 236999  =      0.000 ...   473.998 secs...\n",
      "Highpass filter: 0.0\n",
      "Lowpass filter: 250.0\n",
      "Annotations: <Annotations | 4 segments: +0.000000 (1), +1.560000 (1), A1+A2 OFF (1), ...>\n",
      "<Info | 8 non-empty values\n",
      " bads: []\n",
      " ch_names: EEG Fp1-Ref, EEG Fp2-Ref, EEG F3-Ref, EEG F4-Ref, EEG C3-Ref, ...\n",
      " chs: 43 EEG\n",
      " custom_ref_applied: False\n",
      " highpass: 0.0 Hz\n",
      " lowpass: 250.0 Hz\n",
      " meas_date: 2024-01-11 10:31:24 UTC\n",
      " nchan: 43\n",
      " projs: []\n",
      " sfreq: 500.0 Hz\n",
      " subject_info: 3 items (dict)\n",
      ">\n"
     ]
    }
   ],
   "source": [
    "import mne\n",
    "\n",
    "# 设置编码为 'latin1'\n",
    "raw = mne.io.read_raw_edf('糖尿病认知障碍与对照脑电数据/认知障碍/陈艳杰.edf', preload=True, encoding='latin1')\n",
    "import warnings\n",
    "\n",
    "# 忽略 RuntimeWarning 警告\n",
    "warnings.filterwarnings(\"ignore\", category=RuntimeWarning)\n",
    "\n",
    "# 查看滤波信息\n",
    "print(\"Highpass filter:\", raw.info['highpass'])\n",
    "print(\"Lowpass filter:\", raw.info['lowpass'])\n",
    "\n",
    "# 查看注释信息\n",
    "print(\"Annotations:\", raw.annotations)\n",
    "\n",
    "# 打印完整的基本信息\n",
    "print(raw.info)\n",
    "\n"
   ]
  },
  {
   "cell_type": "code",
   "execution_count": null,
   "metadata": {},
   "outputs": [],
   "source": [
    "data = raw.get_data()"
   ]
  },
  {
   "cell_type": "code",
   "execution_count": 1,
   "metadata": {},
   "outputs": [],
   "source": [
    "import torch\n",
    "import torch.nn as nn\n",
    "device = torch.device(\"cuda\" if torch.cuda.is_available() else \"cpu\")\n"
   ]
  },
  {
   "cell_type": "code",
   "execution_count": 2,
   "metadata": {},
   "outputs": [
    {
     "name": "stdout",
     "output_type": "stream",
     "text": [
      "out1 shape: torch.Size([1, 1, 19, 61])\n",
      "out2 shape: torch.Size([1, 1, 19, 67])\n"
     ]
    }
   ],
   "source": [
    "import torch\n",
    "import model\n",
    "stcgru = model.STCGRU().to(device)\n",
    "test = torch.randn( 1, 19, 2500).to(device)\n",
    "output = stcgru(test)"
   ]
  },
  {
   "cell_type": "code",
   "execution_count": null,
   "metadata": {},
   "outputs": [],
   "source": [
    "print(stcgru)"
   ]
  }
 ],
 "metadata": {
  "kernelspec": {
   "display_name": "DL",
   "language": "python",
   "name": "python3"
  },
  "language_info": {
   "codemirror_mode": {
    "name": "ipython",
    "version": 3
   },
   "file_extension": ".py",
   "mimetype": "text/x-python",
   "name": "python",
   "nbconvert_exporter": "python",
   "pygments_lexer": "ipython3",
   "version": "3.12.2"
  }
 },
 "nbformat": 4,
 "nbformat_minor": 2
}
