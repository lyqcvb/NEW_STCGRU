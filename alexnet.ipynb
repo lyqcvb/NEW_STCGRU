{
 "cells": [
  {
   "cell_type": "code",
   "execution_count": 5,
   "metadata": {},
   "outputs": [],
   "source": [
    "import torch\n",
    "import torch.nn as nn\n",
    "import torch.optim as optim\n",
    "import torch.nn.functional as F\n",
    "from torch.utils.data import DataLoader\n",
    "from torchvision import datasets, transforms"
   ]
  },
  {
   "cell_type": "code",
   "execution_count": 6,
   "metadata": {},
   "outputs": [],
   "source": [
    "class AlexNet1D(nn.Module):\n",
    "    def __init__(self, num_classes=10):\n",
    "        super(AlexNet1D, self).__init__()\n",
    "        self.features = nn.Sequential(\n",
    "            # 第一层卷积层\n",
    "            nn.Conv2d(1, 96, kernel_size=(11, 11), stride=(4, 4), padding=(0, 0)),  # 输入通道1，输出通道96\n",
    "            nn.ReLU(inplace=True),\n",
    "            nn.MaxPool2d(kernel_size=(3, 3), stride=(2, 2)),  # 最大池化层\n",
    "\n",
    "            # 第二层卷积层\n",
    "            nn.Conv2d(96, 256, kernel_size=(5, 5), padding=(2, 2)),  # 输入通道96，输出通道256\n",
    "            nn.ReLU(inplace=True),\n",
    "            nn.MaxPool2d(kernel_size=(3, 3), stride=(2, 2)),  # 最大池化层\n",
    "\n",
    "            # 第三层卷积层\n",
    "            nn.Conv2d(256, 384, kernel_size=(3, 3), padding=(1, 1)),  # 输入通道256，输出通道384\n",
    "            nn.ReLU(inplace=True),\n",
    "\n",
    "            # 第四层卷积层\n",
    "            nn.Conv2d(384, 384, kernel_size=(3, 3), padding=(1, 1)),  # 输入通道384，输出通道384\n",
    "            nn.ReLU(inplace=True),\n",
    "\n",
    "            # 第五层卷积层\n",
    "            nn.Conv2d(384, 256, kernel_size=(3, 3), padding=(1, 1)),  # 输入通道384，输出通道256\n",
    "            nn.ReLU(inplace=True),\n",
    "            nn.MaxPool2d(kernel_size=(3, 3), stride=(2, 2)),  # 最大池化层\n",
    "        )\n",
    "        self.avgpool = nn.AdaptiveAvgPool2d((6, 6))  # 自适应平均池化层\n",
    "        self.classifier = nn.Sequential(\n",
    "            nn.Dropout(),  # Dropout层\n",
    "            nn.Linear(256 * 6 * 6, 4096),  # 全连接层\n",
    "            nn.ReLU(inplace=True),\n",
    "            nn.Dropout(),  # Dropout层\n",
    "            nn.Linear(4096, 4096),  # 全连接层\n",
    "            nn.ReLU(inplace=True),\n",
    "            nn.Linear(4096, num_classes),  # 输出层\n",
    "        )\n",
    "\n",
    "    def forward(self, x):\n",
    "        x = self.features(x)  # 卷积层\n",
    "        x = self.avgpool(x)  # 池化层\n",
    "        x = torch.flatten(x, 1)  # 展平\n",
    "        x = self.classifier(x)  # 全连接层\n",
    "        return x"
   ]
  },
  {
   "cell_type": "code",
   "execution_count": 7,
   "metadata": {},
   "outputs": [],
   "source": [
    "# 检查是否有GPU可用\n",
    "device = torch.device(\"cuda\" if torch.cuda.is_available() else \"cpu\")\n",
    "\n",
    "# 初始化模型\n",
    "model = AlexNet1D(num_classes=2).to(device)"
   ]
  },
  {
   "cell_type": "code",
   "execution_count": 8,
   "metadata": {},
   "outputs": [
    {
     "data": {
      "text/plain": [
       "AlexNet1D(\n",
       "  (features): Sequential(\n",
       "    (0): Conv2d(1, 96, kernel_size=(11, 11), stride=(4, 4))\n",
       "    (1): ReLU(inplace=True)\n",
       "    (2): MaxPool2d(kernel_size=(3, 3), stride=(2, 2), padding=0, dilation=1, ceil_mode=False)\n",
       "    (3): Conv2d(96, 256, kernel_size=(5, 5), stride=(1, 1), padding=(2, 2))\n",
       "    (4): ReLU(inplace=True)\n",
       "    (5): MaxPool2d(kernel_size=(3, 3), stride=(2, 2), padding=0, dilation=1, ceil_mode=False)\n",
       "    (6): Conv2d(256, 384, kernel_size=(3, 3), stride=(1, 1), padding=(1, 1))\n",
       "    (7): ReLU(inplace=True)\n",
       "    (8): Conv2d(384, 384, kernel_size=(3, 3), stride=(1, 1), padding=(1, 1))\n",
       "    (9): ReLU(inplace=True)\n",
       "    (10): Conv2d(384, 256, kernel_size=(3, 3), stride=(1, 1), padding=(1, 1))\n",
       "    (11): ReLU(inplace=True)\n",
       "    (12): MaxPool2d(kernel_size=(3, 3), stride=(2, 2), padding=0, dilation=1, ceil_mode=False)\n",
       "  )\n",
       "  (avgpool): AdaptiveAvgPool2d(output_size=(6, 6))\n",
       "  (classifier): Sequential(\n",
       "    (0): Dropout(p=0.5, inplace=False)\n",
       "    (1): Linear(in_features=9216, out_features=4096, bias=True)\n",
       "    (2): ReLU(inplace=True)\n",
       "    (3): Dropout(p=0.5, inplace=False)\n",
       "    (4): Linear(in_features=4096, out_features=4096, bias=True)\n",
       "    (5): ReLU(inplace=True)\n",
       "    (6): Linear(in_features=4096, out_features=2, bias=True)\n",
       "  )\n",
       ")"
      ]
     },
     "execution_count": 8,
     "metadata": {},
     "output_type": "execute_result"
    }
   ],
   "source": [
    "model"
   ]
  }
 ],
 "metadata": {
  "kernelspec": {
   "display_name": "DL",
   "language": "python",
   "name": "python3"
  },
  "language_info": {
   "codemirror_mode": {
    "name": "ipython",
    "version": 3
   },
   "file_extension": ".py",
   "mimetype": "text/x-python",
   "name": "python",
   "nbconvert_exporter": "python",
   "pygments_lexer": "ipython3",
   "version": "3.11.11"
  }
 },
 "nbformat": 4,
 "nbformat_minor": 2
}
