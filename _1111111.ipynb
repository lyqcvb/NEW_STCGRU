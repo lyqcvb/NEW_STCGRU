{
 "cells": [
  {
   "cell_type": "code",
   "execution_count": 1,
   "metadata": {},
   "outputs": [
    {
     "name": "stdout",
     "output_type": "stream",
     "text": [
      "原始数组形状: (4, 30)\n",
      "[[  0   1   2   3   4   5   6   7   8   9  10  11  12  13  14  15  16  17\n",
      "   18  19  20  21  22  23  24  25  26  27  28  29]\n",
      " [ 30  31  32  33  34  35  36  37  38  39  40  41  42  43  44  45  46  47\n",
      "   48  49  50  51  52  53  54  55  56  57  58  59]\n",
      " [ 60  61  62  63  64  65  66  67  68  69  70  71  72  73  74  75  76  77\n",
      "   78  79  80  81  82  83  84  85  86  87  88  89]\n",
      " [ 90  91  92  93  94  95  96  97  98  99 100 101 102 103 104 105 106 107\n",
      "  108 109 110 111 112 113 114 115 116 117 118 119]]\n",
      "\n",
      "新的三维数组形状: (6, 4, 5)\n",
      "[[[  0   1   2   3   4]\n",
      "  [ 30  31  32  33  34]\n",
      "  [ 60  61  62  63  64]\n",
      "  [ 90  91  92  93  94]]\n",
      "\n",
      " [[  5   6   7   8   9]\n",
      "  [ 35  36  37  38  39]\n",
      "  [ 65  66  67  68  69]\n",
      "  [ 95  96  97  98  99]]\n",
      "\n",
      " [[ 10  11  12  13  14]\n",
      "  [ 40  41  42  43  44]\n",
      "  [ 70  71  72  73  74]\n",
      "  [100 101 102 103 104]]\n",
      "\n",
      " [[ 15  16  17  18  19]\n",
      "  [ 45  46  47  48  49]\n",
      "  [ 75  76  77  78  79]\n",
      "  [105 106 107 108 109]]\n",
      "\n",
      " [[ 20  21  22  23  24]\n",
      "  [ 50  51  52  53  54]\n",
      "  [ 80  81  82  83  84]\n",
      "  [110 111 112 113 114]]\n",
      "\n",
      " [[ 25  26  27  28  29]\n",
      "  [ 55  56  57  58  59]\n",
      "  [ 85  86  87  88  89]\n",
      "  [115 116 117 118 119]]]\n"
     ]
    }
   ],
   "source": [
    "import numpy as np\n",
    "\n",
    "# 假设 x 是一个 n x m 的二维数组\n",
    "x = np.array([i for i in range(120)]).reshape(4,30)  # 4行30列的数组\n",
    "\n",
    "print(\"原始数组形状:\", x.shape)\n",
    "print(x)\n",
    "\n",
    "# 将二维数组每5列分成一组，转为三维数组\n",
    "# 先将 x 的维度重塑为 (n, m//4, 5)，然后转置以使分组为第一维度\n",
    "new_array = x.reshape(x.shape[0], -1, 5).transpose(1, 0, 2)\n",
    "\n",
    "print(\"\\n新的三维数组形状:\", new_array.shape)\n",
    "print(new_array)\n"
   ]
  },
  {
   "cell_type": "code",
   "execution_count": 2,
   "metadata": {},
   "outputs": [
    {
     "name": "stdout",
     "output_type": "stream",
     "text": [
      "{\"_type\": \"SearchResponse\", \"instrumentation\": {\"_type\": \"ResponseInstrumentation\", \"pingUrlBase\": \"https:\\/\\/www.bingapis.com\\/api\\/ping?IG=D60764EAA9B74321ACB399E9C0ADCC62&CID=17A080E9BF1B660B2AE59581BE5767B3&ID=\", \"pageLoadPingUrl\": \"https:\\/\\/www.bingapis.com\\/api\\/ping\\/pageload?IG=D60764EAA9B74321ACB399E9C0ADCC62&CID=17A080E9BF1B660B2AE59581BE5767B3&Type=Event.CPT&DATA=0\"}, \"queryContext\": {\"originalQuery\": \"microsoft\"}, \"webPages\": {\"webSearchUrl\": \"https:\\/\\/www.bing.com\\/search?q=microsoft\", \"webSearchUrlPingSuffix\": \"DevEx,5665.1\", \"totalEstimatedMatches\": 16100000, \"value\": [{\"id\": \"https:\\/\\/api.bing.microsoft.com\\/api\\/v7\\/#WebPages.0\", \"name\": \"Microsoft——AI、云、生产力、计算、游戏和应用\", \"url\": \"https:\\/\\/www.microsoft.com\\/zh-cn\\/\", \"urlPingSuffix\": \"DevEx,5117.1\", \"isFamilyFriendly\": true, \"displayUrl\": \"https:\\/\\/www.microsoft.com\\/zh-cn\", \"snippet\": \"浏览适合家庭或企业的 Microsoft 产品、服务和支持。购买 Microsoft 365、Copilot、Teams、Xbox、Windows、Azure、Surface 等产品\\/服务。\", \"deepLinks\": [{\"name\": \"下载 Windows 10\", \"url\": \"https:\\/\\/www.microsoft.com\\/zh-cn\\/software-download\\/windows10\", \"urlPingSuffix\": \"DevEx,5630.1\", \"snippet\": \"Microsoft Office 产品。 如果你刚刚购买了包含 Office 365 的新设备，我们建议你在升级到 Windows 10 之前兑换（安装）Office。 若要兑换 Office 副本，请参阅 在 PC 上下载并安装 Office 365 家庭版、个人版或大学版 。\"}, {\"name\": \"Download Center\", \"url\": \"https:\\/\\/www.microsoft.com\\/en-us\\/download\", \"urlPingSuffix\": \"DevEx,5631.1\", \"snippet\": \"Service Packs for Microsoft Products. Download service packs containing updates for system reliability, program compatibility, and security. See which service packs are currently available from Microsoft Help and Support. Windows Media Download Center. Amplify your play with Microsoft Windows Media Player, encoders, codecs, and other related ...\"}, {\"name\": \"Surface\", \"url\": \"https:\\/\\/www.microsoft.com\\/en-us\\/surface\", \"urlPingSuffix\": \"DevEx,5632.1\", \"snippet\": \"Discover Microsoft Surface Copilot+ PCs, laptops, 2-in-1s, and computers built for all the ways you work, play, create, and connect.\"}, {\"name\": \"开发人员中心\", \"url\": \"https:\\/\\/developer.microsoft.com\\/zh-cn\\/\", \"urlPingSuffix\": \"DevEx,5633.1\", \"snippet\": \"使用 Microsoft 365 中的数据和智能来构建可覆盖数百万用户的应用程序。 学习 查找培训和认证，并发现可帮助你完成学习旅程的资源。无论你是刚开始从业还是经验丰富的专业人员，我们的实践方法都可帮助你更快、更自信、更快速地实现 ...\"}, {\"name\": \"Microsoft Edge 加载项\", \"url\": \"https:\\/\\/microsoftedge.microsoft.com\\/addons\", \"urlPingSuffix\": \"DevEx,5634.1\", \"snippet\": \"Microsoft Store. Account profile; Download Center; Microsoft Store support; Returns; Order tracking\"}, {\"name\": \"Windows 应用\", \"url\": \"https:\\/\\/www.microsoft.com\\/zh-cn\\/Store\", \"urlPingSuffix\": \"DevEx,5635.1\", \"snippet\": \"下载适用于 Windows 平板电脑或计算机的 Windows 应用。 按类别浏览数以千计的免费和付费应用、阅读用户评论和比较评分。 翻译成中文 You are shopping Microsoft Store in: 简体中文(中国大陆) Are you looking for Microsoft Store in: United States - English?\"}, {\"name\": \"人工智能解决方案\", \"url\": \"https:\\/\\/www.microsoft.com\\/zh-cn\\/ai\", \"urlPingSuffix\": \"DevEx,5636.1\", \"snippet\": \"探索 Microsoft AI 解决方案，了解如何负责任地开发和使用 AI，并了解 AI 最新资讯（包括 Microsoft 与 OpenAI 和合作关系）。 通过在线参加 Microsoft Ignite，利用强大的 AI 和云解决方案获得所需的竞争优势。\"}, {\"name\": \"中文\", \"url\": \"https:\\/\\/www.microsoft.com\\/zh-cn\\/locale\", \"urlPingSuffix\": \"DevEx,5637.1\", \"snippet\": \"Microsoft Store 帐户个人资料 下载中心 订单跟踪 教育 Microsoft 教育版 教育设备 Microsoft Teams 教育版 Microsoft 365 教育版 Office 教育版 教育工作者培训和开发 面向学生和家长的优惠 ...\"}], \"dateLastCrawled\": \"2024-12-25T03:21:00.0000000Z\", \"openGraphImage\": {\"width\": 0, \"height\": 0}, \"fixedPosition\": false, \"language\": \"zh_chs\", \"isNavigational\": true, \"noCache\": false, \"siteName\": \"Microsoft\"}, {\"id\": \"https:\\/\\/api.bing.microsoft.com\\/api\\/v7\\/#WebPages.1\", \"name\": \"下载 Windows 11\", \"url\": \"https:\\/\\/www.microsoft.com\\/zh-cn\\/software-download\\/windows11\", \"urlPingSuffix\": \"DevEx,5144.1\", \"datePublished\": \"2024-04-15T17:26:37.0000000\", \"datePublishedDisplayText\": \"2024年4月15日\", \"isFamilyFriendly\": true, \"displayUrl\": \"https:\\/\\/www.microsoft.com\\/zh-cn\\/software-download\\/windows11\", \"snippet\": \"登录 Microsoft 365 管理中心 ，下载企业版。 在 Visual Studio 订阅 门户上，登录你的订阅，以便下载。 访问 Windows 预览体验成员网站 ，下载 Insider Preview 版本\", \"dateLastCrawled\": \"2025-01-01T14:05:00.0000000Z\", \"openGraphImage\": {\"width\": 0, \"height\": 0}, \"fixedPosition\": false, \"language\": \"zh_chs\", \"isNavigational\": false, \"noCache\": false, \"siteName\": \"Microsoft\"}, {\"id\": \"https:\\/\\/api.bing.microsoft.com\\/api\\/v7\\/#WebPages.2\", \"name\": \"下载 Windows 10\", \"url\": \"https:\\/\\/www.microsoft.com\\/zh-cn\\/software-download\\/windows10\", \"urlPingSuffix\": \"DevEx,5170.1\", \"datePublished\": \"2022-09-07T09:16:08.0000000\", \"datePublishedDisplayText\": \"2022年9月7日\", \"isFamilyFriendly\": true, \"displayUrl\": \"https:\\/\\/www.microsoft.com\\/zh-cn\\/software-download\\/windows10\", \"snippet\": \"Microsoft Office 产品。 如果你刚刚购买了包含 Office 365 的新设备，我们建议你在升级到 Windows 10 之前兑换（安装）Office。 若要兑换 Office 副本，请参阅 在 PC 上下载并安装 Office 365 家庭版、个人版或大学版 。\", \"dateLastCrawled\": \"2024-12-29T11:17:00.0000000Z\", \"openGraphImage\": {\"width\": 0, \"height\": 0}, \"fixedPosition\": false, \"language\": \"zh_chs\", \"isNavigational\": false, \"noCache\": false, \"siteName\": \"Microsoft\"}, {\"id\": \"https:\\/\\/api.bing.microsoft.com\\/api\\/v7\\/#WebPages.3\", \"name\": \"下载适用于 Microsoft、Windows 等产品的驱动程序与更新 ...\", \"url\": \"https:\\/\\/www.microsoft.com\\/zh-cn\\/download\", \"urlPingSuffix\": \"DevEx,5196.1\", \"datePublished\": \"2022-03-20T11:43:30.0000000\", \"datePublishedDisplayText\": \"2022年3月20日\", \"isFamilyFriendly\": true, \"displayUrl\": \"https:\\/\\/www.microsoft.com\\/zh-cn\\/download\", \"snippet\": \"Microsoft 官方下载中心。 提供 Windows、Office、Xbox 等产品的最新软件更新和驱动程序。 操作系统包括 Windows、Mac、Linux、iOS 和 Android。\", \"dateLastCrawled\": \"2024-12-29T11:15:00.0000000Z\", \"openGraphImage\": {\"width\": 0, \"height\": 0}, \"fixedPosition\": false, \"language\": \"zh_chs\", \"isNavigational\": false, \"noCache\": false, \"siteName\": \"Microsoft\"}, {\"id\": \"https:\\/\\/api.bing.microsoft.com\\/api\\/v7\\/#WebPages.4\", \"name\": \"Windows - Microsoft 下载中心\", \"url\": \"https:\\/\\/www.microsoft.com\\/zh-cn\\/download\\/windows\", \"urlPingSuffix\": \"DevEx,5222.1\", \"datePublished\": \"2024-10-24T11:36:57.0000000\", \"datePublishedDisplayText\": \"2024年10月24日\", \"isFamilyFriendly\": true, \"displayUrl\": \"https:\\/\\/www.microsoft.com\\/zh-cn\\/download\\/windows\", \"snippet\": \"Microsoft 推出的最新 Windows 版本。 提供易于使用的高效办公功能和辅助功能，增强了性能和安全性，可实现媲美现实的强大图像效果，助你畅玩最新游戏。\", \"dateLastCrawled\": \"2025-01-01T17:05:00.0000000Z\", \"openGraphImage\": {\"width\": 0, \"height\": 0}, \"fixedPosition\": false, \"language\": \"zh_chs\", \"isNavigational\": false, \"noCache\": false, \"siteName\": \"Microsoft\"}, {\"id\": \"https:\\/\\/api.bing.microsoft.com\\/api\\/v7\\/#WebPages.5\", \"name\": \"Office - Microsoft 下载中心\", \"url\": \"https:\\/\\/www.microsoft.com\\/zh-cn\\/download\\/office\", \"urlPingSuffix\": \"DevEx,5246.1\", \"datePublished\": \"2014-07-01T08:00:00.0000000\", \"datePublishedDisplayText\": \"2014年7月1日\", \"isFamilyFriendly\": true, \"displayUrl\": \"https:\\/\\/www.microsoft.com\\/zh-cn\\/download\\/office\", \"snippet\": \"本更新提供 Microsoft Office 2016 32 位版本 的最新修补程序。 此外，此更新还包含稳定性和性能改进。 查看更多\", \"dateLastCrawled\": \"2025-01-01T14:15:00.0000000Z\", \"openGraphImage\": {\"width\": 0, \"height\": 0}, \"fixedPosition\": false, \"language\": \"zh_chs\", \"isNavigational\": false, \"noCache\": false, \"siteName\": \"Microsoft\"}, {\"id\": \"https:\\/\\/api.bing.microsoft.com\\/api\\/v7\\/#WebPages.6\", \"name\": \"关于 Microsoft | 使命与愿景 | Microsoft\", \"url\": \"https:\\/\\/www.microsoft.com\\/zh-cn\\/about\", \"urlPingSuffix\": \"DevEx,5272.1\", \"datePublished\": \"2024-10-24T11:48:25.0000000\", \"datePublishedDisplayText\": \"2024年10月24日\", \"isFamilyFriendly\": true, \"displayUrl\": \"https:\\/\\/www.microsoft.com\\/zh-cn\\/about\", \"snippet\": \"在 Microsoft，我们受到来自世界各地的人们的启发，他们利用技术去做富有想象力、创新以及能改变生活的事情。 我们分享他们的故事。\", \"dateLastCrawled\": \"2024-12-29T05:13:00.0000000Z\", \"openGraphImage\": {\"width\": 0, \"height\": 0}, \"fixedPosition\": false, \"language\": \"zh_chs\", \"isNavigational\": false, \"noCache\": false, \"siteName\": \"Microsoft\"}, {\"id\": \"https:\\/\\/api.bing.microsoft.com\\/api\\/v7\\/#WebPages.7\", \"name\": \"探索 Microsoft 产品、应用和设备 | Microsoft\", \"url\": \"https:\\/\\/www.microsoft.com\\/zh-cn\\/microsoft-products-and-apps\", \"urlPingSuffix\": \"DevEx,5298.1\", \"datePublished\": \"2024-10-24T11:48:23.0000000\", \"datePublishedDisplayText\": \"2024年10月24日\", \"isFamilyFriendly\": true, \"displayUrl\": \"https:\\/\\/www.microsoft.com\\/zh-cn\\/microsoft-products-and-apps\", \"snippet\": \"发掘 Microsoft 产品、应用和设备的强大功能，它们旨在让生活变得更简单，同时点燃你的热情。探索我们丰富的产品系列，解锁新能力。\", \"dateLastCrawled\": \"2024-12-27T22:00:00.0000000Z\", \"openGraphImage\": {\"contentUrl\": \"https:\\/\\/cdn-dynmedia-1.microsoft.com\\/is\\/image\\/microsoftcorp\\/mobile-phone-outlook-inbox-on-screen-fy24?scl=1\", \"width\": 0, \"height\": 0}, \"fixedPosition\": false, \"language\": \"zh_chs\", \"isNavigational\": false, \"noCache\": false, \"siteName\": \"Microsoft\"}, {\"id\": \"https:\\/\\/api.bing.microsoft.com\\/api\\/v7\\/#WebPages.8\", \"name\": \"Microsoft 365 - 用于获取生产力应用的订阅 | Microsoft 365\", \"url\": \"https:\\/\\/www.microsoft.com\\/zh-cn\\/microsoft-365\", \"urlPingSuffix\": \"DevEx,5324.1\", \"datePublished\": \"2024-12-26T09:23:47.0000000\", \"datePublishedDisplayText\": \"2024年12月26日\", \"isFamilyFriendly\": true, \"displayUrl\": \"https:\\/\\/www.microsoft.com\\/zh-cn\\/microsoft-365\", \"snippet\": \"Microsoft 365 订阅包含位于同一个位置的一套熟悉的生产力应用、智能云服务和世界级安全性。找到适合你的计划。\", \"dateLastCrawled\": \"2024-12-29T12:05:00.0000000Z\", \"openGraphImage\": {\"width\": 0, \"height\": 0}, \"fixedPosition\": false, \"language\": \"zh_chs\", \"isNavigational\": false, \"noCache\": false, \"siteName\": \"Microsoft\"}, {\"id\": \"https:\\/\\/api.bing.microsoft.com\\/api\\/v7\\/#WebPages.9\", \"name\": \"Microsoft – AI、雲端、生產力、運算、遊戲及應用程式\", \"url\": \"https:\\/\\/www.microsoft.com\\/zh-hk\\/\", \"urlPingSuffix\": \"DevEx,5348.1\", \"datePublished\": \"2024-10-22T10:38:35.0000000\", \"datePublishedDisplayText\": \"2024年10月22日\", \"isFamilyFriendly\": true, \"displayUrl\": \"https:\\/\\/www.microsoft.com\\/zh-hk\", \"snippet\": \"歡迎探索適用於家庭或商務的 Microsoft 產品與服務。選購 Microsoft 365、Copilot、Teams、Xbox、Windows、Azure、Surface 等產品與服務。\", \"dateLastCrawled\": \"2024-12-29T00:25:00.0000000Z\", \"openGraphImage\": {\"width\": 0, \"height\": 0}, \"fixedPosition\": false, \"language\": \"zh_cht\", \"isNavigational\": false, \"noCache\": false, \"siteName\": \"Microsoft\"}]}, \"rankingResponse\": {\"mainline\": {\"items\": [{\"answerType\": \"WebPages\", \"resultIndex\": 0, \"value\": {\"id\": \"https:\\/\\/api.bing.microsoft.com\\/api\\/v7\\/#WebPages.0\"}}, {\"answerType\": \"WebPages\", \"resultIndex\": 1, \"value\": {\"id\": \"https:\\/\\/api.bing.microsoft.com\\/api\\/v7\\/#WebPages.1\"}}, {\"answerType\": \"WebPages\", \"resultIndex\": 2, \"value\": {\"id\": \"https:\\/\\/api.bing.microsoft.com\\/api\\/v7\\/#WebPages.2\"}}, {\"answerType\": \"WebPages\", \"resultIndex\": 3, \"value\": {\"id\": \"https:\\/\\/api.bing.microsoft.com\\/api\\/v7\\/#WebPages.3\"}}, {\"answerType\": \"WebPages\", \"resultIndex\": 4, \"value\": {\"id\": \"https:\\/\\/api.bing.microsoft.com\\/api\\/v7\\/#WebPages.4\"}}, {\"answerType\": \"WebPages\", \"resultIndex\": 5, \"value\": {\"id\": \"https:\\/\\/api.bing.microsoft.com\\/api\\/v7\\/#WebPages.5\"}}, {\"answerType\": \"WebPages\", \"resultIndex\": 6, \"value\": {\"id\": \"https:\\/\\/api.bing.microsoft.com\\/api\\/v7\\/#WebPages.6\"}}, {\"answerType\": \"WebPages\", \"resultIndex\": 7, \"value\": {\"id\": \"https:\\/\\/api.bing.microsoft.com\\/api\\/v7\\/#WebPages.7\"}}, {\"answerType\": \"WebPages\", \"resultIndex\": 8, \"value\": {\"id\": \"https:\\/\\/api.bing.microsoft.com\\/api\\/v7\\/#WebPages.8\"}}, {\"answerType\": \"WebPages\", \"resultIndex\": 9, \"value\": {\"id\": \"https:\\/\\/api.bing.microsoft.com\\/api\\/v7\\/#WebPages.9\"}}]}}}\n",
      "{'_type': 'SearchResponse', 'instrumentation': {'_type': 'ResponseInstrumentation', 'pingUrlBase': 'https://www.bingapis.com/api/ping?IG=D60764EAA9B74321ACB399E9C0ADCC62&CID=17A080E9BF1B660B2AE59581BE5767B3&ID=', 'pageLoadPingUrl': 'https://www.bingapis.com/api/ping/pageload?IG=D60764EAA9B74321ACB399E9C0ADCC62&CID=17A080E9BF1B660B2AE59581BE5767B3&Type=Event.CPT&DATA=0'}, 'queryContext': {'originalQuery': 'microsoft'}, 'webPages': {'webSearchUrl': 'https://www.bing.com/search?q=microsoft', 'webSearchUrlPingSuffix': 'DevEx,5665.1', 'totalEstimatedMatches': 16100000, 'value': [{'id': 'https://api.bing.microsoft.com/api/v7/#WebPages.0', 'name': 'Microsoft——AI、云、生产力、计算、游戏和应用', 'url': 'https://www.microsoft.com/zh-cn/', 'urlPingSuffix': 'DevEx,5117.1', 'isFamilyFriendly': True, 'displayUrl': 'https://www.microsoft.com/zh-cn', 'snippet': '浏览适合家庭或企业的 Microsoft 产品、服务和支持。购买 Microsoft 365、Copilot、Teams、Xbox、Windows、Azure、Surface 等产品/服务。', 'deepLinks': [{'name': '下载 Windows 10', 'url': 'https://www.microsoft.com/zh-cn/software-download/windows10', 'urlPingSuffix': 'DevEx,5630.1', 'snippet': 'Microsoft Office 产品。 如果你刚刚购买了包含 Office 365 的新设备，我们建议你在升级到 Windows 10 之前兑换（安装）Office。 若要兑换 Office 副本，请参阅 在 PC 上下载并安装 Office 365 家庭版、个人版或大学版 。'}, {'name': 'Download Center', 'url': 'https://www.microsoft.com/en-us/download', 'urlPingSuffix': 'DevEx,5631.1', 'snippet': 'Service Packs for Microsoft Products. Download service packs containing updates for system reliability, program compatibility, and security. See which service packs are currently available from Microsoft Help and Support. Windows Media Download Center. Amplify your play with Microsoft Windows Media Player, encoders, codecs, and other related ...'}, {'name': 'Surface', 'url': 'https://www.microsoft.com/en-us/surface', 'urlPingSuffix': 'DevEx,5632.1', 'snippet': 'Discover Microsoft Surface Copilot+ PCs, laptops, 2-in-1s, and computers built for all the ways you work, play, create, and connect.'}, {'name': '开发人员中心', 'url': 'https://developer.microsoft.com/zh-cn/', 'urlPingSuffix': 'DevEx,5633.1', 'snippet': '使用 Microsoft 365 中的数据和智能来构建可覆盖数百万用户的应用程序。 学习 查找培训和认证，并发现可帮助你完成学习旅程的资源。无论你是刚开始从业还是经验丰富的专业人员，我们的实践方法都可帮助你更快、更自信、更快速地实现 ...'}, {'name': 'Microsoft Edge 加载项', 'url': 'https://microsoftedge.microsoft.com/addons', 'urlPingSuffix': 'DevEx,5634.1', 'snippet': 'Microsoft Store. Account profile; Download Center; Microsoft Store support; Returns; Order tracking'}, {'name': 'Windows 应用', 'url': 'https://www.microsoft.com/zh-cn/Store', 'urlPingSuffix': 'DevEx,5635.1', 'snippet': '下载适用于 Windows 平板电脑或计算机的 Windows 应用。 按类别浏览数以千计的免费和付费应用、阅读用户评论和比较评分。 翻译成中文 You are shopping Microsoft Store in: 简体中文(中国大陆) Are you looking for Microsoft Store in: United States - English?'}, {'name': '人工智能解决方案', 'url': 'https://www.microsoft.com/zh-cn/ai', 'urlPingSuffix': 'DevEx,5636.1', 'snippet': '探索 Microsoft AI 解决方案，了解如何负责任地开发和使用 AI，并了解 AI 最新资讯（包括 Microsoft 与 OpenAI 和合作关系）。 通过在线参加 Microsoft Ignite，利用强大的 AI 和云解决方案获得所需的竞争优势。'}, {'name': '中文', 'url': 'https://www.microsoft.com/zh-cn/locale', 'urlPingSuffix': 'DevEx,5637.1', 'snippet': 'Microsoft Store 帐户个人资料 下载中心 订单跟踪 教育 Microsoft 教育版 教育设备 Microsoft Teams 教育版 Microsoft 365 教育版 Office 教育版 教育工作者培训和开发 面向学生和家长的优惠 ...'}], 'dateLastCrawled': '2024-12-25T03:21:00.0000000Z', 'openGraphImage': {'width': 0, 'height': 0}, 'fixedPosition': False, 'language': 'zh_chs', 'isNavigational': True, 'noCache': False, 'siteName': 'Microsoft'}, {'id': 'https://api.bing.microsoft.com/api/v7/#WebPages.1', 'name': '下载 Windows 11', 'url': 'https://www.microsoft.com/zh-cn/software-download/windows11', 'urlPingSuffix': 'DevEx,5144.1', 'datePublished': '2024-04-15T17:26:37.0000000', 'datePublishedDisplayText': '2024年4月15日', 'isFamilyFriendly': True, 'displayUrl': 'https://www.microsoft.com/zh-cn/software-download/windows11', 'snippet': '登录 Microsoft 365 管理中心 ，下载企业版。 在 Visual Studio 订阅 门户上，登录你的订阅，以便下载。 访问 Windows 预览体验成员网站 ，下载 Insider Preview 版本', 'dateLastCrawled': '2025-01-01T14:05:00.0000000Z', 'openGraphImage': {'width': 0, 'height': 0}, 'fixedPosition': False, 'language': 'zh_chs', 'isNavigational': False, 'noCache': False, 'siteName': 'Microsoft'}, {'id': 'https://api.bing.microsoft.com/api/v7/#WebPages.2', 'name': '下载 Windows 10', 'url': 'https://www.microsoft.com/zh-cn/software-download/windows10', 'urlPingSuffix': 'DevEx,5170.1', 'datePublished': '2022-09-07T09:16:08.0000000', 'datePublishedDisplayText': '2022年9月7日', 'isFamilyFriendly': True, 'displayUrl': 'https://www.microsoft.com/zh-cn/software-download/windows10', 'snippet': 'Microsoft Office 产品。 如果你刚刚购买了包含 Office 365 的新设备，我们建议你在升级到 Windows 10 之前兑换（安装）Office。 若要兑换 Office 副本，请参阅 在 PC 上下载并安装 Office 365 家庭版、个人版或大学版 。', 'dateLastCrawled': '2024-12-29T11:17:00.0000000Z', 'openGraphImage': {'width': 0, 'height': 0}, 'fixedPosition': False, 'language': 'zh_chs', 'isNavigational': False, 'noCache': False, 'siteName': 'Microsoft'}, {'id': 'https://api.bing.microsoft.com/api/v7/#WebPages.3', 'name': '下载适用于 Microsoft、Windows 等产品的驱动程序与更新 ...', 'url': 'https://www.microsoft.com/zh-cn/download', 'urlPingSuffix': 'DevEx,5196.1', 'datePublished': '2022-03-20T11:43:30.0000000', 'datePublishedDisplayText': '2022年3月20日', 'isFamilyFriendly': True, 'displayUrl': 'https://www.microsoft.com/zh-cn/download', 'snippet': 'Microsoft 官方下载中心。 提供 Windows、Office、Xbox 等产品的最新软件更新和驱动程序。 操作系统包括 Windows、Mac、Linux、iOS 和 Android。', 'dateLastCrawled': '2024-12-29T11:15:00.0000000Z', 'openGraphImage': {'width': 0, 'height': 0}, 'fixedPosition': False, 'language': 'zh_chs', 'isNavigational': False, 'noCache': False, 'siteName': 'Microsoft'}, {'id': 'https://api.bing.microsoft.com/api/v7/#WebPages.4', 'name': 'Windows - Microsoft 下载中心', 'url': 'https://www.microsoft.com/zh-cn/download/windows', 'urlPingSuffix': 'DevEx,5222.1', 'datePublished': '2024-10-24T11:36:57.0000000', 'datePublishedDisplayText': '2024年10月24日', 'isFamilyFriendly': True, 'displayUrl': 'https://www.microsoft.com/zh-cn/download/windows', 'snippet': 'Microsoft 推出的最新 Windows 版本。 提供易于使用的高效办公功能和辅助功能，增强了性能和安全性，可实现媲美现实的强大图像效果，助你畅玩最新游戏。', 'dateLastCrawled': '2025-01-01T17:05:00.0000000Z', 'openGraphImage': {'width': 0, 'height': 0}, 'fixedPosition': False, 'language': 'zh_chs', 'isNavigational': False, 'noCache': False, 'siteName': 'Microsoft'}, {'id': 'https://api.bing.microsoft.com/api/v7/#WebPages.5', 'name': 'Office - Microsoft 下载中心', 'url': 'https://www.microsoft.com/zh-cn/download/office', 'urlPingSuffix': 'DevEx,5246.1', 'datePublished': '2014-07-01T08:00:00.0000000', 'datePublishedDisplayText': '2014年7月1日', 'isFamilyFriendly': True, 'displayUrl': 'https://www.microsoft.com/zh-cn/download/office', 'snippet': '本更新提供 Microsoft Office 2016 32 位版本 的最新修补程序。 此外，此更新还包含稳定性和性能改进。 查看更多', 'dateLastCrawled': '2025-01-01T14:15:00.0000000Z', 'openGraphImage': {'width': 0, 'height': 0}, 'fixedPosition': False, 'language': 'zh_chs', 'isNavigational': False, 'noCache': False, 'siteName': 'Microsoft'}, {'id': 'https://api.bing.microsoft.com/api/v7/#WebPages.6', 'name': '关于 Microsoft | 使命与愿景 | Microsoft', 'url': 'https://www.microsoft.com/zh-cn/about', 'urlPingSuffix': 'DevEx,5272.1', 'datePublished': '2024-10-24T11:48:25.0000000', 'datePublishedDisplayText': '2024年10月24日', 'isFamilyFriendly': True, 'displayUrl': 'https://www.microsoft.com/zh-cn/about', 'snippet': '在 Microsoft，我们受到来自世界各地的人们的启发，他们利用技术去做富有想象力、创新以及能改变生活的事情。 我们分享他们的故事。', 'dateLastCrawled': '2024-12-29T05:13:00.0000000Z', 'openGraphImage': {'width': 0, 'height': 0}, 'fixedPosition': False, 'language': 'zh_chs', 'isNavigational': False, 'noCache': False, 'siteName': 'Microsoft'}, {'id': 'https://api.bing.microsoft.com/api/v7/#WebPages.7', 'name': '探索 Microsoft 产品、应用和设备 | Microsoft', 'url': 'https://www.microsoft.com/zh-cn/microsoft-products-and-apps', 'urlPingSuffix': 'DevEx,5298.1', 'datePublished': '2024-10-24T11:48:23.0000000', 'datePublishedDisplayText': '2024年10月24日', 'isFamilyFriendly': True, 'displayUrl': 'https://www.microsoft.com/zh-cn/microsoft-products-and-apps', 'snippet': '发掘 Microsoft 产品、应用和设备的强大功能，它们旨在让生活变得更简单，同时点燃你的热情。探索我们丰富的产品系列，解锁新能力。', 'dateLastCrawled': '2024-12-27T22:00:00.0000000Z', 'openGraphImage': {'contentUrl': 'https://cdn-dynmedia-1.microsoft.com/is/image/microsoftcorp/mobile-phone-outlook-inbox-on-screen-fy24?scl=1', 'width': 0, 'height': 0}, 'fixedPosition': False, 'language': 'zh_chs', 'isNavigational': False, 'noCache': False, 'siteName': 'Microsoft'}, {'id': 'https://api.bing.microsoft.com/api/v7/#WebPages.8', 'name': 'Microsoft 365 - 用于获取生产力应用的订阅 | Microsoft 365', 'url': 'https://www.microsoft.com/zh-cn/microsoft-365', 'urlPingSuffix': 'DevEx,5324.1', 'datePublished': '2024-12-26T09:23:47.0000000', 'datePublishedDisplayText': '2024年12月26日', 'isFamilyFriendly': True, 'displayUrl': 'https://www.microsoft.com/zh-cn/microsoft-365', 'snippet': 'Microsoft 365 订阅包含位于同一个位置的一套熟悉的生产力应用、智能云服务和世界级安全性。找到适合你的计划。', 'dateLastCrawled': '2024-12-29T12:05:00.0000000Z', 'openGraphImage': {'width': 0, 'height': 0}, 'fixedPosition': False, 'language': 'zh_chs', 'isNavigational': False, 'noCache': False, 'siteName': 'Microsoft'}, {'id': 'https://api.bing.microsoft.com/api/v7/#WebPages.9', 'name': 'Microsoft – AI、雲端、生產力、運算、遊戲及應用程式', 'url': 'https://www.microsoft.com/zh-hk/', 'urlPingSuffix': 'DevEx,5348.1', 'datePublished': '2024-10-22T10:38:35.0000000', 'datePublishedDisplayText': '2024年10月22日', 'isFamilyFriendly': True, 'displayUrl': 'https://www.microsoft.com/zh-hk', 'snippet': '歡迎探索適用於家庭或商務的 Microsoft 產品與服務。選購 Microsoft 365、Copilot、Teams、Xbox、Windows、Azure、Surface 等產品與服務。', 'dateLastCrawled': '2024-12-29T00:25:00.0000000Z', 'openGraphImage': {'width': 0, 'height': 0}, 'fixedPosition': False, 'language': 'zh_cht', 'isNavigational': False, 'noCache': False, 'siteName': 'Microsoft'}]}, 'rankingResponse': {'mainline': {'items': [{'answerType': 'WebPages', 'resultIndex': 0, 'value': {'id': 'https://api.bing.microsoft.com/api/v7/#WebPages.0'}}, {'answerType': 'WebPages', 'resultIndex': 1, 'value': {'id': 'https://api.bing.microsoft.com/api/v7/#WebPages.1'}}, {'answerType': 'WebPages', 'resultIndex': 2, 'value': {'id': 'https://api.bing.microsoft.com/api/v7/#WebPages.2'}}, {'answerType': 'WebPages', 'resultIndex': 3, 'value': {'id': 'https://api.bing.microsoft.com/api/v7/#WebPages.3'}}, {'answerType': 'WebPages', 'resultIndex': 4, 'value': {'id': 'https://api.bing.microsoft.com/api/v7/#WebPages.4'}}, {'answerType': 'WebPages', 'resultIndex': 5, 'value': {'id': 'https://api.bing.microsoft.com/api/v7/#WebPages.5'}}, {'answerType': 'WebPages', 'resultIndex': 6, 'value': {'id': 'https://api.bing.microsoft.com/api/v7/#WebPages.6'}}, {'answerType': 'WebPages', 'resultIndex': 7, 'value': {'id': 'https://api.bing.microsoft.com/api/v7/#WebPages.7'}}, {'answerType': 'WebPages', 'resultIndex': 8, 'value': {'id': 'https://api.bing.microsoft.com/api/v7/#WebPages.8'}}, {'answerType': 'WebPages', 'resultIndex': 9, 'value': {'id': 'https://api.bing.microsoft.com/api/v7/#WebPages.9'}}]}}}\n"
     ]
    }
   ],
   "source": [
    "import json\n",
    "import requests\n",
    "\n",
    "subscriptionKey = \"eb2a854dfec240a2a21f168ab96a57f4\"\n",
    "customConfigId = \"c8a6c10f-37a3-4264-b310-d26f9bc6c43f\"\n",
    "searchTerm = \"microsoft\"\n",
    "url = 'https://api.bing.microsoft.com/v7.0/custom/search?' + 'q=' + searchTerm + '&' + 'customconfig=' + customConfigId\n",
    "r = requests.get(url, headers={'Ocp-Apim-Subscription-Key': subscriptionKey})\n",
    "print(r.text)\n",
    "response_json = r.json()\n",
    "print(response_json)"
   ]
  },
  {
   "cell_type": "code",
   "execution_count": 3,
   "metadata": {},
   "outputs": [
    {
     "name": "stdout",
     "output_type": "stream",
     "text": [
      "CUDA is available!\n",
      "CUDA version: 12.4\n",
      "Number of GPUs: 1\n",
      "Current GPU: 0 - NVIDIA GeForce RTX 4060\n"
     ]
    }
   ],
   "source": [
    "import torch\n",
    "\n",
    "# 检查 CUDA 是否可用\n",
    "if torch.cuda.is_available():\n",
    "    print(\"CUDA is available!\")\n",
    "    print(f\"CUDA version: {torch.version.cuda}\")\n",
    "    print(f\"Number of GPUs: {torch.cuda.device_count()}\")\n",
    "    print(f\"Current GPU: {torch.cuda.current_device()} - {torch.cuda.get_device_name(torch.cuda.current_device())}\")\n",
    "else:\n",
    "    print(\"CUDA is not available.\")\n"
   ]
  }
 ],
 "metadata": {
  "kernelspec": {
   "display_name": "DL",
   "language": "python",
   "name": "python3"
  },
  "language_info": {
   "codemirror_mode": {
    "name": "ipython",
    "version": 3
   },
   "file_extension": ".py",
   "mimetype": "text/x-python",
   "name": "python",
   "nbconvert_exporter": "python",
   "pygments_lexer": "ipython3",
   "version": "3.12.8"
  }
 },
 "nbformat": 4,
 "nbformat_minor": 2
}
