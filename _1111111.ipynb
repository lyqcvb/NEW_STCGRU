{
 "cells": [
  {
   "cell_type": "code",
   "execution_count": 10,
   "metadata": {},
   "outputs": [
    {
     "name": "stdout",
     "output_type": "stream",
     "text": [
      "原始数组形状: (4, 30)\n",
      "[[  0   1   2   3   4   5   6   7   8   9  10  11  12  13  14  15  16  17\n",
      "   18  19  20  21  22  23  24  25  26  27  28  29]\n",
      " [ 30  31  32  33  34  35  36  37  38  39  40  41  42  43  44  45  46  47\n",
      "   48  49  50  51  52  53  54  55  56  57  58  59]\n",
      " [ 60  61  62  63  64  65  66  67  68  69  70  71  72  73  74  75  76  77\n",
      "   78  79  80  81  82  83  84  85  86  87  88  89]\n",
      " [ 90  91  92  93  94  95  96  97  98  99 100 101 102 103 104 105 106 107\n",
      "  108 109 110 111 112 113 114 115 116 117 118 119]]\n",
      "\n",
      "新的三维数组形状: (6, 4, 5)\n",
      "[[[  0   1   2   3   4]\n",
      "  [ 30  31  32  33  34]\n",
      "  [ 60  61  62  63  64]\n",
      "  [ 90  91  92  93  94]]\n",
      "\n",
      " [[  5   6   7   8   9]\n",
      "  [ 35  36  37  38  39]\n",
      "  [ 65  66  67  68  69]\n",
      "  [ 95  96  97  98  99]]\n",
      "\n",
      " [[ 10  11  12  13  14]\n",
      "  [ 40  41  42  43  44]\n",
      "  [ 70  71  72  73  74]\n",
      "  [100 101 102 103 104]]\n",
      "\n",
      " [[ 15  16  17  18  19]\n",
      "  [ 45  46  47  48  49]\n",
      "  [ 75  76  77  78  79]\n",
      "  [105 106 107 108 109]]\n",
      "\n",
      " [[ 20  21  22  23  24]\n",
      "  [ 50  51  52  53  54]\n",
      "  [ 80  81  82  83  84]\n",
      "  [110 111 112 113 114]]\n",
      "\n",
      " [[ 25  26  27  28  29]\n",
      "  [ 55  56  57  58  59]\n",
      "  [ 85  86  87  88  89]\n",
      "  [115 116 117 118 119]]]\n"
     ]
    }
   ],
   "source": [
    "import numpy as np\n",
    "\n",
    "# 假设 x 是一个 n x m 的二维数组\n",
    "x = np.array([i for i in range(120)]).reshape(4,30)  # 4行30列的数组\n",
    "\n",
    "print(\"原始数组形状:\", x.shape)\n",
    "print(x)\n",
    "\n",
    "# 将二维数组每5列分成一组，转为三维数组\n",
    "# 先将 x 的维度重塑为 (n, m//4, 5)，然后转置以使分组为第一维度\n",
    "new_array = x.reshape(x.shape[0], -1, 5).transpose(1, 0, 2)\n",
    "\n",
    "print(\"\\n新的三维数组形状:\", new_array.shape)\n",
    "print(new_array)\n"
   ]
  },
  {
   "cell_type": "code",
   "execution_count": 11,
   "metadata": {},
   "outputs": [
    {
     "name": "stdout",
     "output_type": "stream",
     "text": [
      "{\"_type\": \"SearchResponse\", \"instrumentation\": {\"_type\": \"ResponseInstrumentation\", \"pingUrlBase\": \"https:\\/\\/www.bingapis.com\\/api\\/ping?IG=7AD58B27D1EC47D0B7B8E5AD752B5388&CID=115B481D26BF618E04D15D5F27BF6013&ID=\", \"pageLoadPingUrl\": \"https:\\/\\/www.bingapis.com\\/api\\/ping\\/pageload?IG=7AD58B27D1EC47D0B7B8E5AD752B5388&CID=115B481D26BF618E04D15D5F27BF6013&Type=Event.CPT&DATA=0\"}, \"queryContext\": {\"originalQuery\": \"microsoft\"}, \"webPages\": {\"webSearchUrl\": \"https:\\/\\/www.bing.com\\/search?q=microsoft\", \"webSearchUrlPingSuffix\": \"DevEx,5669.1\", \"totalEstimatedMatches\": 19000000, \"value\": [{\"id\": \"https:\\/\\/api.bing.microsoft.com\\/api\\/v7\\/#WebPages.0\", \"name\": \"Microsoft——AI、云、生产力、计算、游戏和应用\", \"url\": \"https:\\/\\/www.microsoft.com\\/zh-cn\\/\", \"urlPingSuffix\": \"DevEx,5116.1\", \"datePublished\": \"2023-02-04T15:01:13.0000000\", \"datePublishedDisplayText\": \"2023年2月4日\", \"isFamilyFriendly\": true, \"displayUrl\": \"https:\\/\\/www.microsoft.com\\/zh-cn\", \"snippet\": \"浏览适合家庭或企业的 Microsoft 产品、服务和支持。购买 Microsoft 365、Copilot、Teams、Xbox、Windows、Azure、Surface 等产品\\/服务。\", \"deepLinks\": [{\"name\": \"下载 Windows 10\", \"url\": \"https:\\/\\/www.microsoft.com\\/zh-cn\\/software-download\\/windows10\", \"urlPingSuffix\": \"DevEx,5634.1\", \"snippet\": \"Microsoft Office 产品。 如果你刚刚购买了包含 Office 365 的新设备，我们建议你在升级到 Windows 10 之前兑换（安装）Office。 若要兑换 Office 副本，请参阅 在 PC 上下载并安装 Office 365 家庭版、个人版或大学版 。\"}, {\"name\": \"Download Center\", \"url\": \"https:\\/\\/www.microsoft.com\\/en-us\\/download\", \"urlPingSuffix\": \"DevEx,5635.1\", \"snippet\": \"Service Packs for Microsoft Products. Download service packs containing updates for system reliability, program compatibility, and security. See which service packs are currently available from Microsoft Help and Support. Windows Media Download Center. Amplify your play with Microsoft Windows Media Player, encoders, codecs, and other related ...\"}, {\"name\": \"Surface\", \"url\": \"https:\\/\\/www.microsoft.com\\/en-us\\/surface\", \"urlPingSuffix\": \"DevEx,5636.1\", \"snippet\": \"Discover Microsoft Surface Copilot+ PCs, laptops, 2-in-1s, and computers built for all the ways you work, play, create, and connect.\"}, {\"name\": \"开发人员中心\", \"url\": \"https:\\/\\/developer.microsoft.com\\/zh-cn\\/\", \"urlPingSuffix\": \"DevEx,5637.1\", \"snippet\": \"使用 Microsoft 365 中的数据和智能来构建可覆盖数百万用户的应用程序。 学习 查找培训和认证，并发现可帮助你完成学习旅程的资源。无论你是刚开始从业还是经验丰富的专业人员，我们的实践方法都可帮助你更快、更自信、更快速地实现 ...\"}, {\"name\": \"Microsoft Edge 加载项\", \"url\": \"https:\\/\\/microsoftedge.microsoft.com\\/addons\", \"urlPingSuffix\": \"DevEx,5638.1\", \"snippet\": \"Microsoft Store. Account profile; Download Center; Microsoft Store support; Returns; Order tracking\"}, {\"name\": \"Windows 应用\", \"url\": \"https:\\/\\/www.microsoft.com\\/zh-cn\\/Store\", \"urlPingSuffix\": \"DevEx,5639.1\", \"snippet\": \"下载适用于 Windows 平板电脑或计算机的 Windows 应用。 按类别浏览数以千计的免费和付费应用、阅读用户评论和比较评分。 翻译成中文 You are shopping Microsoft Store in: 简体中文(中国大陆) Are you looking for Microsoft Store in: United States - English?\"}, {\"name\": \"人工智能解决方案\", \"url\": \"https:\\/\\/www.microsoft.com\\/zh-cn\\/ai\", \"urlPingSuffix\": \"DevEx,5640.1\", \"snippet\": \"探索 Microsoft AI 解决方案，了解如何负责任地开发和使用 AI，并了解 AI 最新资讯（包括 Microsoft 与 OpenAI 和合作关系）。 通过在线参加 Microsoft Ignite，利用强大的 AI 和云解决方案获得所需的竞争优势。\"}, {\"name\": \"中文\", \"url\": \"https:\\/\\/www.microsoft.com\\/zh-cn\\/locale\", \"urlPingSuffix\": \"DevEx,5641.1\", \"snippet\": \"Microsoft Store 帐户个人资料 下载中心 订单跟踪 教育 Microsoft 教育版 教育设备 Microsoft Teams 教育版 Microsoft 365 教育版 Office 教育版 教育工作者培训和开发 面向学生和家长的优惠 ...\"}], \"dateLastCrawled\": \"2024-11-23T00:21:00.0000000Z\", \"openGraphImage\": {\"width\": 0, \"height\": 0}, \"fixedPosition\": false, \"language\": \"zh_chs\", \"isNavigational\": true, \"noCache\": false, \"siteName\": \"Microsoft\"}, {\"id\": \"https:\\/\\/api.bing.microsoft.com\\/api\\/v7\\/#WebPages.1\", \"name\": \"下载 Windows 11\", \"url\": \"https:\\/\\/www.microsoft.com\\/zh-cn\\/software-download\\/windows11\", \"urlPingSuffix\": \"DevEx,5144.1\", \"datePublished\": \"2021-10-05T10:28:53.0000000\", \"datePublishedDisplayText\": \"2021年10月5日\", \"isFamilyFriendly\": true, \"displayUrl\": \"https:\\/\\/www.microsoft.com\\/zh-cn\\/software-download\\/windows11\", \"snippet\": \"登录 Microsoft 365 管理中心 ，下载企业版。 在 Visual Studio 订阅 门户上，登录你的订阅，以便下载。 访问 Windows 预览体验成员网站 ，下载 Insider Preview 版本\", \"dateLastCrawled\": \"2024-11-24T16:22:00.0000000Z\", \"openGraphImage\": {\"width\": 0, \"height\": 0}, \"fixedPosition\": false, \"language\": \"zh_chs\", \"isNavigational\": false, \"noCache\": false, \"siteName\": \"Microsoft\"}, {\"id\": \"https:\\/\\/api.bing.microsoft.com\\/api\\/v7\\/#WebPages.2\", \"name\": \"下载 Windows 10\", \"url\": \"https:\\/\\/www.microsoft.com\\/zh-cn\\/software-download\\/windows10\", \"urlPingSuffix\": \"DevEx,5173.1\", \"datePublished\": \"2023-09-06T16:26:25.0000000\", \"datePublishedDisplayText\": \"2023年9月6日\", \"isFamilyFriendly\": true, \"displayUrl\": \"https:\\/\\/www.microsoft.com\\/zh-cn\\/software-download\\/windows10\", \"snippet\": \"Microsoft Office 产品。 如果你刚刚购买了包含 Office 365 的新设备，我们建议你在升级到 Windows 10 之前兑换（安装）Office。 若要兑换 Office 副本，请参阅 在 PC 上下载并安装 Office 365 家庭版、个人版或大学版 。\", \"dateLastCrawled\": \"2024-11-24T01:27:00.0000000Z\", \"openGraphImage\": {\"width\": 0, \"height\": 0}, \"fixedPosition\": false, \"language\": \"zh_chs\", \"isNavigational\": false, \"noCache\": false, \"siteName\": \"Microsoft\"}, {\"id\": \"https:\\/\\/api.bing.microsoft.com\\/api\\/v7\\/#WebPages.3\", \"name\": \"下载适用于 Microsoft、Windows 等产品的驱动程序与更新 ...\", \"url\": \"https:\\/\\/www.microsoft.com\\/zh-cn\\/download\", \"urlPingSuffix\": \"DevEx,5200.1\", \"datePublished\": \"2022-03-20T11:43:30.0000000\", \"datePublishedDisplayText\": \"2022年3月20日\", \"isFamilyFriendly\": true, \"displayUrl\": \"https:\\/\\/www.microsoft.com\\/zh-cn\\/download\", \"snippet\": \"Microsoft 官方下载中心。 提供 Windows、Office、Xbox 等产品的最新软件更新和驱动程序。 操作系统包括 Windows、Mac、Linux、iOS 和 Android。\", \"dateLastCrawled\": \"2024-11-24T01:20:00.0000000Z\", \"openGraphImage\": {\"width\": 0, \"height\": 0}, \"fixedPosition\": false, \"language\": \"zh_chs\", \"isNavigational\": false, \"noCache\": false, \"siteName\": \"Microsoft\"}, {\"id\": \"https:\\/\\/api.bing.microsoft.com\\/api\\/v7\\/#WebPages.4\", \"name\": \"Microsoft Outlook（以前称为 Hotmail）：免费的电子邮件和 ...\", \"url\": \"https:\\/\\/www.microsoft.com\\/zh-cn\\/microsoft-365\\/outlook\\/email-and-calendar-software-microsoft-outlook\\/\", \"urlPingSuffix\": \"DevEx,5227.1\", \"datePublished\": \"2023-10-30T23:34:19.0000000\", \"datePublishedDisplayText\": \"2023年10月30日\", \"isFamilyFriendly\": true, \"displayUrl\": \"https:\\/\\/www.microsoft.com\\/zh-cn\\/microsoft-365\\/outlook\", \"snippet\": \"Outlook 是一款免费的电子邮件和日历管理工具，可以帮助你高效地撰写邮件、访问文件、保护邮箱和安排日程。Outlook 还可以与 Microsoft 365 应用集成，提供更多功能和优势，如无广告收件箱、数据加密、Word、Excel、PowerPoint 等。\", \"dateLastCrawled\": \"2024-11-24T01:15:00.0000000Z\", \"openGraphImage\": {\"width\": 0, \"height\": 0}, \"fixedPosition\": false, \"language\": \"zh_chs\", \"isNavigational\": false, \"noCache\": false, \"siteName\": \"Microsoft\"}, {\"id\": \"https:\\/\\/api.bing.microsoft.com\\/api\\/v7\\/#WebPages.5\", \"name\": \"Microsoft 365 - 用于获取生产力应用的订阅 | Microsoft 365\", \"url\": \"https:\\/\\/www.microsoft.com\\/zh-cn\\/microsoft-365\", \"urlPingSuffix\": \"DevEx,5255.1\", \"datePublished\": \"2024-03-24T14:05:58.0000000\", \"datePublishedDisplayText\": \"2024年3月24日\", \"isFamilyFriendly\": true, \"displayUrl\": \"https:\\/\\/www.microsoft.com\\/zh-cn\\/microsoft-365\", \"snippet\": \"Microsoft 365 订阅包含位于同一个位置的一套熟悉的生产力应用、智能云服务和世界级安全性。找到适合你的计划。\", \"dateLastCrawled\": \"2024-11-24T01:05:00.0000000Z\", \"openGraphImage\": {\"width\": 0, \"height\": 0}, \"fixedPosition\": false, \"language\": \"zh_chs\", \"isNavigational\": false, \"noCache\": false, \"siteName\": \"Microsoft\"}, {\"id\": \"https:\\/\\/api.bing.microsoft.com\\/api\\/v7\\/#WebPages.6\", \"name\": \"关于 Microsoft | 使命与愿景 | Microsoft\", \"url\": \"https:\\/\\/www.microsoft.com\\/zh-cn\\/about\", \"urlPingSuffix\": \"DevEx,5282.1\", \"datePublished\": \"2024-10-24T11:48:25.0000000\", \"datePublishedDisplayText\": \"2024年10月24日\", \"isFamilyFriendly\": true, \"displayUrl\": \"https:\\/\\/www.microsoft.com\\/zh-cn\\/about\", \"snippet\": \"在 Microsoft，我们受到来自世界各地的人们的启发，他们利用技术去做富有想象力、创新以及能改变生活的事情。 我们分享他们的故事。 查看他们的故事\", \"dateLastCrawled\": \"2024-11-23T22:18:00.0000000Z\", \"openGraphImage\": {\"contentUrl\": \"http:\\/\\/img-prod-cms-rt-microsoft-com.akamaized.net\\/cms\\/api\\/am\\/imageFileData\\/RE1LH1c?ver=b246\", \"width\": 0, \"height\": 0}, \"fixedPosition\": false, \"language\": \"zh_chs\", \"isNavigational\": false, \"noCache\": false, \"siteName\": \"Microsoft\"}, {\"id\": \"https:\\/\\/api.bing.microsoft.com\\/api\\/v7\\/#WebPages.7\", \"name\": \"探索 Microsoft 产品、应用和设备 | Microsoft\", \"url\": \"https:\\/\\/www.microsoft.com\\/zh-cn\\/microsoft-products-and-apps\", \"urlPingSuffix\": \"DevEx,5309.1\", \"datePublished\": \"2024-10-24T11:48:23.0000000\", \"datePublishedDisplayText\": \"2024年10月24日\", \"isFamilyFriendly\": true, \"displayUrl\": \"https:\\/\\/www.microsoft.com\\/zh-cn\\/microsoft-products-and-apps\", \"snippet\": \"发掘 Microsoft 产品、应用和设备的强大功能，它们旨在让生活变得更简单，同时点燃你的热情。探索我们丰富的产品系列，解锁新能力。\", \"dateLastCrawled\": \"2024-11-23T23:21:00.0000000Z\", \"openGraphImage\": {\"contentUrl\": \"https:\\/\\/cdn-dynmedia-1.microsoft.com\\/is\\/image\\/microsoftcorp\\/mobile-phone-outlook-inbox-on-screen-fy24?scl=1\", \"width\": 0, \"height\": 0}, \"fixedPosition\": false, \"language\": \"zh_chs\", \"isNavigational\": false, \"noCache\": false, \"siteName\": \"Microsoft\"}, {\"id\": \"https:\\/\\/api.bing.microsoft.com\\/api\\/v7\\/#WebPages.8\", \"name\": \"通过 Windows 11 操作系统、电脑和应用感受 AI 的强大功能 ...\", \"url\": \"https:\\/\\/www.microsoft.com\\/zh-cn\\/windows\", \"urlPingSuffix\": \"DevEx,5337.1\", \"datePublished\": \"2023-12-22T09:38:57.0000000\", \"datePublishedDisplayText\": \"2023年12月22日\", \"isFamilyFriendly\": true, \"displayUrl\": \"https:\\/\\/www.microsoft.com\\/zh-cn\\/windows\", \"snippet\": \"超过 5 GB 的数据传输需要有效的 Microsoft 订阅或试用。 3 当你在新的 Windows 11 电脑上第一次打开应用时，有些应用会在你第一次打开时重新安装。 其他应用可能需要你从原始应用提供商处手动重新安装。\", \"dateLastCrawled\": \"2024-11-24T01:08:00.0000000Z\", \"openGraphImage\": {\"contentUrl\": \"https:\\/\\/cdn-dynmedia-1.microsoft.com\\/is\\/image\\/microsoftcorp\\/MSFT-Windows-11-Search-bar?scl=1\", \"width\": 0, \"height\": 0}, \"fixedPosition\": false, \"language\": \"zh_chs\", \"isNavigational\": false, \"noCache\": false, \"siteName\": \"Microsoft\"}, {\"id\": \"https:\\/\\/api.bing.microsoft.com\\/api\\/v7\\/#WebPages.9\", \"name\": \"认识 Windows 11:功能、外观、优势及更多优秀功能 | Microsoft\", \"url\": \"https:\\/\\/www.microsoft.com\\/zh-cn\\/windows\\/windows-11\", \"urlPingSuffix\": \"DevEx,5364.1\", \"isFamilyFriendly\": true, \"displayUrl\": \"https:\\/\\/www.microsoft.com\\/zh-cn\\/windows\\/windows-11\", \"snippet\": \"认识 Windows 11，这是 Microsoft 发布的最新 Windows 版本。 将电脑升级到 Windows 11，或探索哪些设备自带支持 Windows 11 的功能。 跳转至主内容\", \"dateLastCrawled\": \"2024-11-24T01:24:00.0000000Z\", \"openGraphImage\": {\"contentUrl\": \"https:\\/\\/cdn-dynmedia-1.microsoft.com\\/is\\/image\\/microsoftcorp\\/MSFT-Meet-Windows-11-Og-image?scl=1\", \"width\": 0, \"height\": 0}, \"fixedPosition\": false, \"language\": \"zh_chs\", \"isNavigational\": false, \"noCache\": false, \"siteName\": \"Microsoft\"}]}, \"rankingResponse\": {\"mainline\": {\"items\": [{\"answerType\": \"WebPages\", \"resultIndex\": 0, \"value\": {\"id\": \"https:\\/\\/api.bing.microsoft.com\\/api\\/v7\\/#WebPages.0\"}}, {\"answerType\": \"WebPages\", \"resultIndex\": 1, \"value\": {\"id\": \"https:\\/\\/api.bing.microsoft.com\\/api\\/v7\\/#WebPages.1\"}}, {\"answerType\": \"WebPages\", \"resultIndex\": 2, \"value\": {\"id\": \"https:\\/\\/api.bing.microsoft.com\\/api\\/v7\\/#WebPages.2\"}}, {\"answerType\": \"WebPages\", \"resultIndex\": 3, \"value\": {\"id\": \"https:\\/\\/api.bing.microsoft.com\\/api\\/v7\\/#WebPages.3\"}}, {\"answerType\": \"WebPages\", \"resultIndex\": 4, \"value\": {\"id\": \"https:\\/\\/api.bing.microsoft.com\\/api\\/v7\\/#WebPages.4\"}}, {\"answerType\": \"WebPages\", \"resultIndex\": 5, \"value\": {\"id\": \"https:\\/\\/api.bing.microsoft.com\\/api\\/v7\\/#WebPages.5\"}}, {\"answerType\": \"WebPages\", \"resultIndex\": 6, \"value\": {\"id\": \"https:\\/\\/api.bing.microsoft.com\\/api\\/v7\\/#WebPages.6\"}}, {\"answerType\": \"WebPages\", \"resultIndex\": 7, \"value\": {\"id\": \"https:\\/\\/api.bing.microsoft.com\\/api\\/v7\\/#WebPages.7\"}}, {\"answerType\": \"WebPages\", \"resultIndex\": 8, \"value\": {\"id\": \"https:\\/\\/api.bing.microsoft.com\\/api\\/v7\\/#WebPages.8\"}}, {\"answerType\": \"WebPages\", \"resultIndex\": 9, \"value\": {\"id\": \"https:\\/\\/api.bing.microsoft.com\\/api\\/v7\\/#WebPages.9\"}}]}}}\n",
      "{'_type': 'SearchResponse', 'instrumentation': {'_type': 'ResponseInstrumentation', 'pingUrlBase': 'https://www.bingapis.com/api/ping?IG=7AD58B27D1EC47D0B7B8E5AD752B5388&CID=115B481D26BF618E04D15D5F27BF6013&ID=', 'pageLoadPingUrl': 'https://www.bingapis.com/api/ping/pageload?IG=7AD58B27D1EC47D0B7B8E5AD752B5388&CID=115B481D26BF618E04D15D5F27BF6013&Type=Event.CPT&DATA=0'}, 'queryContext': {'originalQuery': 'microsoft'}, 'webPages': {'webSearchUrl': 'https://www.bing.com/search?q=microsoft', 'webSearchUrlPingSuffix': 'DevEx,5669.1', 'totalEstimatedMatches': 19000000, 'value': [{'id': 'https://api.bing.microsoft.com/api/v7/#WebPages.0', 'name': 'Microsoft——AI、云、生产力、计算、游戏和应用', 'url': 'https://www.microsoft.com/zh-cn/', 'urlPingSuffix': 'DevEx,5116.1', 'datePublished': '2023-02-04T15:01:13.0000000', 'datePublishedDisplayText': '2023年2月4日', 'isFamilyFriendly': True, 'displayUrl': 'https://www.microsoft.com/zh-cn', 'snippet': '浏览适合家庭或企业的 Microsoft 产品、服务和支持。购买 Microsoft 365、Copilot、Teams、Xbox、Windows、Azure、Surface 等产品/服务。', 'deepLinks': [{'name': '下载 Windows 10', 'url': 'https://www.microsoft.com/zh-cn/software-download/windows10', 'urlPingSuffix': 'DevEx,5634.1', 'snippet': 'Microsoft Office 产品。 如果你刚刚购买了包含 Office 365 的新设备，我们建议你在升级到 Windows 10 之前兑换（安装）Office。 若要兑换 Office 副本，请参阅 在 PC 上下载并安装 Office 365 家庭版、个人版或大学版 。'}, {'name': 'Download Center', 'url': 'https://www.microsoft.com/en-us/download', 'urlPingSuffix': 'DevEx,5635.1', 'snippet': 'Service Packs for Microsoft Products. Download service packs containing updates for system reliability, program compatibility, and security. See which service packs are currently available from Microsoft Help and Support. Windows Media Download Center. Amplify your play with Microsoft Windows Media Player, encoders, codecs, and other related ...'}, {'name': 'Surface', 'url': 'https://www.microsoft.com/en-us/surface', 'urlPingSuffix': 'DevEx,5636.1', 'snippet': 'Discover Microsoft Surface Copilot+ PCs, laptops, 2-in-1s, and computers built for all the ways you work, play, create, and connect.'}, {'name': '开发人员中心', 'url': 'https://developer.microsoft.com/zh-cn/', 'urlPingSuffix': 'DevEx,5637.1', 'snippet': '使用 Microsoft 365 中的数据和智能来构建可覆盖数百万用户的应用程序。 学习 查找培训和认证，并发现可帮助你完成学习旅程的资源。无论你是刚开始从业还是经验丰富的专业人员，我们的实践方法都可帮助你更快、更自信、更快速地实现 ...'}, {'name': 'Microsoft Edge 加载项', 'url': 'https://microsoftedge.microsoft.com/addons', 'urlPingSuffix': 'DevEx,5638.1', 'snippet': 'Microsoft Store. Account profile; Download Center; Microsoft Store support; Returns; Order tracking'}, {'name': 'Windows 应用', 'url': 'https://www.microsoft.com/zh-cn/Store', 'urlPingSuffix': 'DevEx,5639.1', 'snippet': '下载适用于 Windows 平板电脑或计算机的 Windows 应用。 按类别浏览数以千计的免费和付费应用、阅读用户评论和比较评分。 翻译成中文 You are shopping Microsoft Store in: 简体中文(中国大陆) Are you looking for Microsoft Store in: United States - English?'}, {'name': '人工智能解决方案', 'url': 'https://www.microsoft.com/zh-cn/ai', 'urlPingSuffix': 'DevEx,5640.1', 'snippet': '探索 Microsoft AI 解决方案，了解如何负责任地开发和使用 AI，并了解 AI 最新资讯（包括 Microsoft 与 OpenAI 和合作关系）。 通过在线参加 Microsoft Ignite，利用强大的 AI 和云解决方案获得所需的竞争优势。'}, {'name': '中文', 'url': 'https://www.microsoft.com/zh-cn/locale', 'urlPingSuffix': 'DevEx,5641.1', 'snippet': 'Microsoft Store 帐户个人资料 下载中心 订单跟踪 教育 Microsoft 教育版 教育设备 Microsoft Teams 教育版 Microsoft 365 教育版 Office 教育版 教育工作者培训和开发 面向学生和家长的优惠 ...'}], 'dateLastCrawled': '2024-11-23T00:21:00.0000000Z', 'openGraphImage': {'width': 0, 'height': 0}, 'fixedPosition': False, 'language': 'zh_chs', 'isNavigational': True, 'noCache': False, 'siteName': 'Microsoft'}, {'id': 'https://api.bing.microsoft.com/api/v7/#WebPages.1', 'name': '下载 Windows 11', 'url': 'https://www.microsoft.com/zh-cn/software-download/windows11', 'urlPingSuffix': 'DevEx,5144.1', 'datePublished': '2021-10-05T10:28:53.0000000', 'datePublishedDisplayText': '2021年10月5日', 'isFamilyFriendly': True, 'displayUrl': 'https://www.microsoft.com/zh-cn/software-download/windows11', 'snippet': '登录 Microsoft 365 管理中心 ，下载企业版。 在 Visual Studio 订阅 门户上，登录你的订阅，以便下载。 访问 Windows 预览体验成员网站 ，下载 Insider Preview 版本', 'dateLastCrawled': '2024-11-24T16:22:00.0000000Z', 'openGraphImage': {'width': 0, 'height': 0}, 'fixedPosition': False, 'language': 'zh_chs', 'isNavigational': False, 'noCache': False, 'siteName': 'Microsoft'}, {'id': 'https://api.bing.microsoft.com/api/v7/#WebPages.2', 'name': '下载 Windows 10', 'url': 'https://www.microsoft.com/zh-cn/software-download/windows10', 'urlPingSuffix': 'DevEx,5173.1', 'datePublished': '2023-09-06T16:26:25.0000000', 'datePublishedDisplayText': '2023年9月6日', 'isFamilyFriendly': True, 'displayUrl': 'https://www.microsoft.com/zh-cn/software-download/windows10', 'snippet': 'Microsoft Office 产品。 如果你刚刚购买了包含 Office 365 的新设备，我们建议你在升级到 Windows 10 之前兑换（安装）Office。 若要兑换 Office 副本，请参阅 在 PC 上下载并安装 Office 365 家庭版、个人版或大学版 。', 'dateLastCrawled': '2024-11-24T01:27:00.0000000Z', 'openGraphImage': {'width': 0, 'height': 0}, 'fixedPosition': False, 'language': 'zh_chs', 'isNavigational': False, 'noCache': False, 'siteName': 'Microsoft'}, {'id': 'https://api.bing.microsoft.com/api/v7/#WebPages.3', 'name': '下载适用于 Microsoft、Windows 等产品的驱动程序与更新 ...', 'url': 'https://www.microsoft.com/zh-cn/download', 'urlPingSuffix': 'DevEx,5200.1', 'datePublished': '2022-03-20T11:43:30.0000000', 'datePublishedDisplayText': '2022年3月20日', 'isFamilyFriendly': True, 'displayUrl': 'https://www.microsoft.com/zh-cn/download', 'snippet': 'Microsoft 官方下载中心。 提供 Windows、Office、Xbox 等产品的最新软件更新和驱动程序。 操作系统包括 Windows、Mac、Linux、iOS 和 Android。', 'dateLastCrawled': '2024-11-24T01:20:00.0000000Z', 'openGraphImage': {'width': 0, 'height': 0}, 'fixedPosition': False, 'language': 'zh_chs', 'isNavigational': False, 'noCache': False, 'siteName': 'Microsoft'}, {'id': 'https://api.bing.microsoft.com/api/v7/#WebPages.4', 'name': 'Microsoft Outlook（以前称为 Hotmail）：免费的电子邮件和 ...', 'url': 'https://www.microsoft.com/zh-cn/microsoft-365/outlook/email-and-calendar-software-microsoft-outlook/', 'urlPingSuffix': 'DevEx,5227.1', 'datePublished': '2023-10-30T23:34:19.0000000', 'datePublishedDisplayText': '2023年10月30日', 'isFamilyFriendly': True, 'displayUrl': 'https://www.microsoft.com/zh-cn/microsoft-365/outlook', 'snippet': 'Outlook 是一款免费的电子邮件和日历管理工具，可以帮助你高效地撰写邮件、访问文件、保护邮箱和安排日程。Outlook 还可以与 Microsoft 365 应用集成，提供更多功能和优势，如无广告收件箱、数据加密、Word、Excel、PowerPoint 等。', 'dateLastCrawled': '2024-11-24T01:15:00.0000000Z', 'openGraphImage': {'width': 0, 'height': 0}, 'fixedPosition': False, 'language': 'zh_chs', 'isNavigational': False, 'noCache': False, 'siteName': 'Microsoft'}, {'id': 'https://api.bing.microsoft.com/api/v7/#WebPages.5', 'name': 'Microsoft 365 - 用于获取生产力应用的订阅 | Microsoft 365', 'url': 'https://www.microsoft.com/zh-cn/microsoft-365', 'urlPingSuffix': 'DevEx,5255.1', 'datePublished': '2024-03-24T14:05:58.0000000', 'datePublishedDisplayText': '2024年3月24日', 'isFamilyFriendly': True, 'displayUrl': 'https://www.microsoft.com/zh-cn/microsoft-365', 'snippet': 'Microsoft 365 订阅包含位于同一个位置的一套熟悉的生产力应用、智能云服务和世界级安全性。找到适合你的计划。', 'dateLastCrawled': '2024-11-24T01:05:00.0000000Z', 'openGraphImage': {'width': 0, 'height': 0}, 'fixedPosition': False, 'language': 'zh_chs', 'isNavigational': False, 'noCache': False, 'siteName': 'Microsoft'}, {'id': 'https://api.bing.microsoft.com/api/v7/#WebPages.6', 'name': '关于 Microsoft | 使命与愿景 | Microsoft', 'url': 'https://www.microsoft.com/zh-cn/about', 'urlPingSuffix': 'DevEx,5282.1', 'datePublished': '2024-10-24T11:48:25.0000000', 'datePublishedDisplayText': '2024年10月24日', 'isFamilyFriendly': True, 'displayUrl': 'https://www.microsoft.com/zh-cn/about', 'snippet': '在 Microsoft，我们受到来自世界各地的人们的启发，他们利用技术去做富有想象力、创新以及能改变生活的事情。 我们分享他们的故事。 查看他们的故事', 'dateLastCrawled': '2024-11-23T22:18:00.0000000Z', 'openGraphImage': {'contentUrl': 'http://img-prod-cms-rt-microsoft-com.akamaized.net/cms/api/am/imageFileData/RE1LH1c?ver=b246', 'width': 0, 'height': 0}, 'fixedPosition': False, 'language': 'zh_chs', 'isNavigational': False, 'noCache': False, 'siteName': 'Microsoft'}, {'id': 'https://api.bing.microsoft.com/api/v7/#WebPages.7', 'name': '探索 Microsoft 产品、应用和设备 | Microsoft', 'url': 'https://www.microsoft.com/zh-cn/microsoft-products-and-apps', 'urlPingSuffix': 'DevEx,5309.1', 'datePublished': '2024-10-24T11:48:23.0000000', 'datePublishedDisplayText': '2024年10月24日', 'isFamilyFriendly': True, 'displayUrl': 'https://www.microsoft.com/zh-cn/microsoft-products-and-apps', 'snippet': '发掘 Microsoft 产品、应用和设备的强大功能，它们旨在让生活变得更简单，同时点燃你的热情。探索我们丰富的产品系列，解锁新能力。', 'dateLastCrawled': '2024-11-23T23:21:00.0000000Z', 'openGraphImage': {'contentUrl': 'https://cdn-dynmedia-1.microsoft.com/is/image/microsoftcorp/mobile-phone-outlook-inbox-on-screen-fy24?scl=1', 'width': 0, 'height': 0}, 'fixedPosition': False, 'language': 'zh_chs', 'isNavigational': False, 'noCache': False, 'siteName': 'Microsoft'}, {'id': 'https://api.bing.microsoft.com/api/v7/#WebPages.8', 'name': '通过 Windows 11 操作系统、电脑和应用感受 AI 的强大功能 ...', 'url': 'https://www.microsoft.com/zh-cn/windows', 'urlPingSuffix': 'DevEx,5337.1', 'datePublished': '2023-12-22T09:38:57.0000000', 'datePublishedDisplayText': '2023年12月22日', 'isFamilyFriendly': True, 'displayUrl': 'https://www.microsoft.com/zh-cn/windows', 'snippet': '超过 5 GB 的数据传输需要有效的 Microsoft 订阅或试用。 3 当你在新的 Windows 11 电脑上第一次打开应用时，有些应用会在你第一次打开时重新安装。 其他应用可能需要你从原始应用提供商处手动重新安装。', 'dateLastCrawled': '2024-11-24T01:08:00.0000000Z', 'openGraphImage': {'contentUrl': 'https://cdn-dynmedia-1.microsoft.com/is/image/microsoftcorp/MSFT-Windows-11-Search-bar?scl=1', 'width': 0, 'height': 0}, 'fixedPosition': False, 'language': 'zh_chs', 'isNavigational': False, 'noCache': False, 'siteName': 'Microsoft'}, {'id': 'https://api.bing.microsoft.com/api/v7/#WebPages.9', 'name': '认识 Windows 11:功能、外观、优势及更多优秀功能 | Microsoft', 'url': 'https://www.microsoft.com/zh-cn/windows/windows-11', 'urlPingSuffix': 'DevEx,5364.1', 'isFamilyFriendly': True, 'displayUrl': 'https://www.microsoft.com/zh-cn/windows/windows-11', 'snippet': '认识 Windows 11，这是 Microsoft 发布的最新 Windows 版本。 将电脑升级到 Windows 11，或探索哪些设备自带支持 Windows 11 的功能。 跳转至主内容', 'dateLastCrawled': '2024-11-24T01:24:00.0000000Z', 'openGraphImage': {'contentUrl': 'https://cdn-dynmedia-1.microsoft.com/is/image/microsoftcorp/MSFT-Meet-Windows-11-Og-image?scl=1', 'width': 0, 'height': 0}, 'fixedPosition': False, 'language': 'zh_chs', 'isNavigational': False, 'noCache': False, 'siteName': 'Microsoft'}]}, 'rankingResponse': {'mainline': {'items': [{'answerType': 'WebPages', 'resultIndex': 0, 'value': {'id': 'https://api.bing.microsoft.com/api/v7/#WebPages.0'}}, {'answerType': 'WebPages', 'resultIndex': 1, 'value': {'id': 'https://api.bing.microsoft.com/api/v7/#WebPages.1'}}, {'answerType': 'WebPages', 'resultIndex': 2, 'value': {'id': 'https://api.bing.microsoft.com/api/v7/#WebPages.2'}}, {'answerType': 'WebPages', 'resultIndex': 3, 'value': {'id': 'https://api.bing.microsoft.com/api/v7/#WebPages.3'}}, {'answerType': 'WebPages', 'resultIndex': 4, 'value': {'id': 'https://api.bing.microsoft.com/api/v7/#WebPages.4'}}, {'answerType': 'WebPages', 'resultIndex': 5, 'value': {'id': 'https://api.bing.microsoft.com/api/v7/#WebPages.5'}}, {'answerType': 'WebPages', 'resultIndex': 6, 'value': {'id': 'https://api.bing.microsoft.com/api/v7/#WebPages.6'}}, {'answerType': 'WebPages', 'resultIndex': 7, 'value': {'id': 'https://api.bing.microsoft.com/api/v7/#WebPages.7'}}, {'answerType': 'WebPages', 'resultIndex': 8, 'value': {'id': 'https://api.bing.microsoft.com/api/v7/#WebPages.8'}}, {'answerType': 'WebPages', 'resultIndex': 9, 'value': {'id': 'https://api.bing.microsoft.com/api/v7/#WebPages.9'}}]}}}\n"
     ]
    }
   ],
   "source": [
    "import json\n",
    "import requests\n",
    "\n",
    "subscriptionKey = \"eb2a854dfec240a2a21f168ab96a57f4\"\n",
    "customConfigId = \"c8a6c10f-37a3-4264-b310-d26f9bc6c43f\"\n",
    "searchTerm = \"microsoft\"\n",
    "url = 'https://api.bing.microsoft.com/v7.0/custom/search?' + 'q=' + searchTerm + '&' + 'customconfig=' + customConfigId\n",
    "r = requests.get(url, headers={'Ocp-Apim-Subscription-Key': subscriptionKey})\n",
    "print(r.text)\n",
    "response_json = r.json()\n",
    "print(response_json)"
   ]
  },
  {
   "cell_type": "code",
   "execution_count": 12,
   "metadata": {},
   "outputs": [
    {
     "name": "stdout",
     "output_type": "stream",
     "text": [
      "CUDA is available!\n",
      "CUDA version: 12.4\n",
      "Number of GPUs: 1\n",
      "Current GPU: 0 - NVIDIA GeForce RTX 4060\n"
     ]
    }
   ],
   "source": [
    "import torch\n",
    "\n",
    "# 检查 CUDA 是否可用\n",
    "if torch.cuda.is_available():\n",
    "    print(\"CUDA is available!\")\n",
    "    print(f\"CUDA version: {torch.version.cuda}\")\n",
    "    print(f\"Number of GPUs: {torch.cuda.device_count()}\")\n",
    "    print(f\"Current GPU: {torch.cuda.current_device()} - {torch.cuda.get_device_name(torch.cuda.current_device())}\")\n",
    "else:\n",
    "    print(\"CUDA is not available.\")\n"
   ]
  },
  {
   "cell_type": "code",
   "execution_count": 13,
   "metadata": {},
   "outputs": [],
   "source": [
    "x[0]=0"
   ]
  }
 ],
 "metadata": {
  "kernelspec": {
   "display_name": "DEEPLEARN",
   "language": "python",
   "name": "python3"
  },
  "language_info": {
   "codemirror_mode": {
    "name": "ipython",
    "version": 3
   },
   "file_extension": ".py",
   "mimetype": "text/x-python",
   "name": "python",
   "nbconvert_exporter": "python",
   "pygments_lexer": "ipython3",
   "version": "3.12.7"
  }
 },
 "nbformat": 4,
 "nbformat_minor": 2
}
