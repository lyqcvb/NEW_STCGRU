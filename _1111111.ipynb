{
 "cells": [
  {
   "cell_type": "code",
   "execution_count": 2,
   "metadata": {},
   "outputs": [
    {
     "name": "stdout",
     "output_type": "stream",
     "text": [
      "原始数组形状: (4, 30)\n",
      "[[  0   1   2   3   4   5   6   7   8   9  10  11  12  13  14  15  16  17\n",
      "   18  19  20  21  22  23  24  25  26  27  28  29]\n",
      " [ 30  31  32  33  34  35  36  37  38  39  40  41  42  43  44  45  46  47\n",
      "   48  49  50  51  52  53  54  55  56  57  58  59]\n",
      " [ 60  61  62  63  64  65  66  67  68  69  70  71  72  73  74  75  76  77\n",
      "   78  79  80  81  82  83  84  85  86  87  88  89]\n",
      " [ 90  91  92  93  94  95  96  97  98  99 100 101 102 103 104 105 106 107\n",
      "  108 109 110 111 112 113 114 115 116 117 118 119]]\n",
      "\n",
      "新的三维数组形状: (6, 4, 5)\n",
      "[[[  0   1   2   3   4]\n",
      "  [ 30  31  32  33  34]\n",
      "  [ 60  61  62  63  64]\n",
      "  [ 90  91  92  93  94]]\n",
      "\n",
      " [[  5   6   7   8   9]\n",
      "  [ 35  36  37  38  39]\n",
      "  [ 65  66  67  68  69]\n",
      "  [ 95  96  97  98  99]]\n",
      "\n",
      " [[ 10  11  12  13  14]\n",
      "  [ 40  41  42  43  44]\n",
      "  [ 70  71  72  73  74]\n",
      "  [100 101 102 103 104]]\n",
      "\n",
      " [[ 15  16  17  18  19]\n",
      "  [ 45  46  47  48  49]\n",
      "  [ 75  76  77  78  79]\n",
      "  [105 106 107 108 109]]\n",
      "\n",
      " [[ 20  21  22  23  24]\n",
      "  [ 50  51  52  53  54]\n",
      "  [ 80  81  82  83  84]\n",
      "  [110 111 112 113 114]]\n",
      "\n",
      " [[ 25  26  27  28  29]\n",
      "  [ 55  56  57  58  59]\n",
      "  [ 85  86  87  88  89]\n",
      "  [115 116 117 118 119]]]\n"
     ]
    }
   ],
   "source": [
    "import numpy as np\n",
    "\n",
    "# 假设 x 是一个 n x m 的二维数组\n",
    "x = np.array([i for i in range(120)]).reshape(4,30)  # 4行30列的数组\n",
    "\n",
    "print(\"原始数组形状:\", x.shape)\n",
    "print(x)\n",
    "\n",
    "# 将二维数组每5列分成一组，转为三维数组\n",
    "# 先将 x 的维度重塑为 (n, m//4, 5)，然后转置以使分组为第一维度\n",
    "new_array = x.reshape(x.shape[0], -1, 5).transpose(1, 0, 2)\n",
    "\n",
    "print(\"\\n新的三维数组形状:\", new_array.shape)\n",
    "print(new_array)\n"
   ]
  },
  {
   "cell_type": "code",
   "execution_count": 2,
   "metadata": {},
   "outputs": [
    {
     "name": "stdout",
     "output_type": "stream",
     "text": [
      "{\"_type\": \"SearchResponse\", \"instrumentation\": {\"_type\": \"ResponseInstrumentation\", \"pingUrlBase\": \"https:\\/\\/www.bingapis.com\\/api\\/ping?IG=D8853BDC5D654AA4A202013A39553890&CID=38E45A6F99B1686122584F4D98FD6932&ID=\", \"pageLoadPingUrl\": \"https:\\/\\/www.bingapis.com\\/api\\/ping\\/pageload?IG=D8853BDC5D654AA4A202013A39553890&CID=38E45A6F99B1686122584F4D98FD6932&Type=Event.CPT&DATA=0\"}, \"queryContext\": {\"originalQuery\": \"microsoft\"}, \"webPages\": {\"webSearchUrl\": \"https:\\/\\/www.bing.com\\/search?q=microsoft\", \"webSearchUrlPingSuffix\": \"DevEx,5703.1\", \"totalEstimatedMatches\": 28200000, \"value\": [{\"id\": \"https:\\/\\/api.bing.microsoft.com\\/api\\/v7\\/#WebPages.0\", \"name\": \"Microsoft——AI、云、生产力、计算、游戏和应用\", \"url\": \"https:\\/\\/www.microsoft.com\\/zh-cn\\/\", \"urlPingSuffix\": \"DevEx,5121.1\", \"datePublished\": \"2021-06-22T14:20:56.0000000\", \"datePublishedDisplayText\": \"2021年6月22日\", \"isFamilyFriendly\": true, \"displayUrl\": \"https:\\/\\/www.microsoft.com\\/zh-cn\", \"snippet\": \"浏览适合家庭或企业的 Microsoft 产品、服务和支持。购买 Microsoft 365、Copilot、Teams、Xbox、Windows、Azure、Surface 等产品\\/服务。\", \"deepLinks\": [{\"name\": \"下载 Windows 10\", \"url\": \"https:\\/\\/www.microsoft.com\\/zh-cn\\/software-download\\/windows10\", \"urlPingSuffix\": \"DevEx,5672.1\", \"snippet\": \"Microsoft Office 产品。 如果你刚刚购买了包含 Office 365 的新设备，我们建议你在升级到 Windows 10 之前兑换（安装）Office。 若要兑换 Office 副本，请参阅 在 PC 上下载并安装 Office 365 家庭版、个人版或大学版 。\"}, {\"name\": \"Download Center\", \"url\": \"https:\\/\\/www.microsoft.com\\/en-us\\/download\", \"urlPingSuffix\": \"DevEx,5673.1\", \"snippet\": \"Service Packs for Microsoft Products. Download service packs containing updates for system reliability, program compatibility, and security. See which service packs are currently available from Microsoft Help and Support. Windows Media Download Center. Amplify your play with Microsoft Windows Media Player, encoders, codecs, and other related ...\"}, {\"name\": \"Surface\", \"url\": \"https:\\/\\/www.microsoft.com\\/en-us\\/surface\", \"urlPingSuffix\": \"DevEx,5674.1\", \"snippet\": \"Discover Microsoft Surface Copilot+ PCs, laptops, 2-in-1s, and computers built for all the ways you work, play, create, and connect.\"}, {\"name\": \"下载中心\", \"url\": \"https:\\/\\/www.microsoft.com\\/zh-cn\\/download\", \"urlPingSuffix\": \"DevEx,5675.1\", \"snippet\": \"Microsoft 官方下载中心。 提供 Windows、Office、Xbox 等产品的最新软件更新和驱动程序。 操作系统包括 Windows、Mac、Linux、iOS 和 Android。\"}], \"dateLastCrawled\": \"2024-10-18T09:14:00.0000000Z\", \"openGraphImage\": {\"width\": 0, \"height\": 0}, \"fixedPosition\": false, \"language\": \"zh_chs\", \"isNavigational\": true, \"noCache\": false, \"siteName\": \"Microsoft\"}, {\"id\": \"https:\\/\\/api.bing.microsoft.com\\/api\\/v7\\/#WebPages.1\", \"name\": \"下载适用于 Microsoft、Windows 等产品的驱动程序与更新 ...\", \"url\": \"https:\\/\\/www.microsoft.com\\/zh-cn\\/download\", \"urlPingSuffix\": \"DevEx,5154.1\", \"datePublished\": \"2023-12-18T00:59:44.0000000\", \"datePublishedDisplayText\": \"2023年12月18日\", \"isFamilyFriendly\": true, \"displayUrl\": \"https:\\/\\/www.microsoft.com\\/zh-cn\\/download\", \"snippet\": \"Microsoft 官方下载中心。 提供 Windows、Office、Xbox 等产品的最新软件更新和驱动程序。 操作系统包括 Windows、Mac、Linux、iOS 和 Android。\", \"dateLastCrawled\": \"2024-10-23T15:03:00.0000000Z\", \"openGraphImage\": {\"width\": 0, \"height\": 0}, \"fixedPosition\": false, \"language\": \"zh_chs\", \"isNavigational\": false, \"noCache\": false, \"siteName\": \"Microsoft\"}, {\"id\": \"https:\\/\\/api.bing.microsoft.com\\/api\\/v7\\/#WebPages.2\", \"name\": \"下载 Windows 10\", \"url\": \"https:\\/\\/www.microsoft.com\\/zh-cn\\/software-download\\/windows10\", \"urlPingSuffix\": \"DevEx,5187.1\", \"datePublished\": \"2024-07-16T10:59:29.0000000\", \"datePublishedDisplayText\": \"2024年7月16日\", \"isFamilyFriendly\": true, \"displayUrl\": \"https:\\/\\/www.microsoft.com\\/zh-cn\\/software-download\\/windows10\", \"snippet\": \"Microsoft Office 产品。 如果你刚刚购买了包含 Office 365 的新设备，我们建议你在升级到 Windows 10 之前兑换（安装）Office。 若要兑换 Office 副本，请参阅 在 PC 上下载并安装 Office 365 家庭版、个人版或大学版 。\", \"dateLastCrawled\": \"2024-10-23T19:39:00.0000000Z\", \"openGraphImage\": {\"width\": 0, \"height\": 0}, \"fixedPosition\": false, \"language\": \"zh_chs\", \"isNavigational\": false, \"noCache\": false, \"siteName\": \"Microsoft\"}, {\"id\": \"https:\\/\\/api.bing.microsoft.com\\/api\\/v7\\/#WebPages.3\", \"name\": \"下载 Windows 11\", \"url\": \"https:\\/\\/www.microsoft.com\\/zh-cn\\/software-download\\/windows11\", \"urlPingSuffix\": \"DevEx,5219.1\", \"datePublished\": \"2024-08-26T09:18:24.0000000\", \"datePublishedDisplayText\": \"2024年8月26日\", \"isFamilyFriendly\": true, \"displayUrl\": \"https:\\/\\/www.microsoft.com\\/zh-cn\\/software-download\\/windows11\", \"snippet\": \"登录 Microsoft 365 管理中心 ，下载企业版。 在 Visual Studio 订阅 门户上，登录你的订阅，以便下载。 访问 Windows 预览体验成员网站 ，下载 Insider Preview 版本\", \"dateLastCrawled\": \"2024-10-23T19:07:00.0000000Z\", \"openGraphImage\": {\"width\": 0, \"height\": 0}, \"fixedPosition\": false, \"language\": \"zh_chs\", \"isNavigational\": false, \"noCache\": false, \"siteName\": \"Microsoft\"}, {\"id\": \"https:\\/\\/api.bing.microsoft.com\\/api\\/v7\\/#WebPages.4\", \"name\": \"Microsoft 365 - 用于获取生产力应用的订阅 | Microsoft 365\", \"url\": \"https:\\/\\/www.microsoft.com\\/zh-cn\\/microsoft-365\", \"urlPingSuffix\": \"DevEx,5251.1\", \"datePublished\": \"2023-12-10T19:46:08.0000000\", \"datePublishedDisplayText\": \"2023年12月10日\", \"isFamilyFriendly\": true, \"displayUrl\": \"https:\\/\\/www.microsoft.com\\/zh-cn\\/microsoft-365\", \"snippet\": \"Microsoft 365 订阅包含位于同一个位置的一套熟悉的生产力应用、智能云服务和世界级安全性。找到适合你的计划。\", \"dateLastCrawled\": \"2024-10-23T19:07:00.0000000Z\", \"openGraphImage\": {\"width\": 0, \"height\": 0}, \"fixedPosition\": false, \"language\": \"zh_chs\", \"isNavigational\": false, \"noCache\": false, \"siteName\": \"Microsoft\"}, {\"id\": \"https:\\/\\/api.bing.microsoft.com\\/api\\/v7\\/#WebPages.5\", \"name\": \"Microsoft Excel 电子表格软件 | Microsoft 365\", \"url\": \"https:\\/\\/www.microsoft.com\\/zh-cn\\/microsoft-365\\/excel\", \"urlPingSuffix\": \"DevEx,5277.1\", \"isFamilyFriendly\": true, \"displayUrl\": \"https:\\/\\/www.microsoft.com\\/zh-cn\\/microsoft-365\\/excel\", \"snippet\": \"Microsoft Excel 是行业领先的电子表格软件程序，是一款功能强大的数据可视化和分析工具。借助 Excel 将分析提升一个档次。 [1] 部分 Excel 图表和图形需要 Microsoft 365 订阅。 [2] 必须拥有 Microsoft 365 订阅才能在 Excel 中进行分享和合著。 [3] 付费订阅开始后，取消策略会根据新客户状态、Microsoft 上的产品 ...\", \"dateLastCrawled\": \"2024-10-24T05:27:00.0000000Z\", \"openGraphImage\": {\"width\": 0, \"height\": 0}, \"fixedPosition\": false, \"language\": \"zh_chs\", \"isNavigational\": false, \"noCache\": false, \"siteName\": \"Microsoft\"}, {\"id\": \"https:\\/\\/api.bing.microsoft.com\\/api\\/v7\\/#WebPages.6\", \"name\": \"Microsoft PC Manager 可持续的数字生活\", \"url\": \"https:\\/\\/www.microsoft.com\\/zh-cn\\/windows\\/pc-manager\", \"urlPingSuffix\": \"DevEx,5309.1\", \"datePublished\": \"2024-06-10T15:32:31.0000000\", \"datePublishedDisplayText\": \"2024年6月10日\", \"isFamilyFriendly\": true, \"displayUrl\": \"https:\\/\\/www.microsoft.com\\/zh-cn\\/windows\\/pc-manager\", \"snippet\": \"Microsoft 教育版 教育设备 Microsoft Teams 教育版 Microsoft 365 教育版 Office 教育版 教育工作者培训和开发 面向学生和家长的优惠 面向学生的 Azure\", \"dateLastCrawled\": \"2024-10-23T19:04:00.0000000Z\", \"openGraphImage\": {\"contentUrl\": \"https:\\/\\/cdn-dynmedia-1.microsoft.com\\/is\\/image\\/microsoftcorp\\/MSFT-og-pcmanager?scl=1\", \"width\": 0, \"height\": 0}, \"fixedPosition\": false, \"language\": \"zh_chs\", \"isNavigational\": false, \"noCache\": false, \"siteName\": \"Microsoft\"}, {\"id\": \"https:\\/\\/api.bing.microsoft.com\\/api\\/v7\\/#WebPages.7\", \"name\": \"通过 Windows 11 操作系统、电脑和应用感受 AI 的强大功能 ...\", \"url\": \"https:\\/\\/www.microsoft.com\\/zh-cn\\/windows\", \"urlPingSuffix\": \"DevEx,5342.1\", \"datePublished\": \"2024-04-18T04:33:46.0000000\", \"datePublishedDisplayText\": \"2024年4月18日\", \"isFamilyFriendly\": true, \"displayUrl\": \"https:\\/\\/www.microsoft.com\\/zh-cn\\/windows\", \"snippet\": \"体验 Microsoft Windows 11 的最新功能。了解最新的 Windows 操作系统如何为你提供更多工作、娱乐和创作方式。\", \"dateLastCrawled\": \"2024-10-23T05:17:00.0000000Z\", \"openGraphImage\": {\"contentUrl\": \"https:\\/\\/cdn-dynmedia-1.microsoft.com\\/is\\/image\\/microsoftcorp\\/MSFT-Windows-11-Search-bar?scl=1\", \"width\": 0, \"height\": 0}, \"fixedPosition\": false, \"language\": \"zh_chs\", \"isNavigational\": false, \"noCache\": false, \"siteName\": \"Microsoft\"}, {\"id\": \"https:\\/\\/api.bing.microsoft.com\\/api\\/v7\\/#WebPages.8\", \"name\": \"商业适用的 Windows 11 专业版 | Microsoft\", \"url\": \"https:\\/\\/www.microsoft.com\\/zh-cn\\/windows\\/business\\/windows-11-pro\", \"urlPingSuffix\": \"DevEx,5375.1\", \"datePublished\": \"2024-10-04T09:20:36.0000000\", \"datePublishedDisplayText\": \"2024年10月4日\", \"isFamilyFriendly\": true, \"displayUrl\": \"https:\\/\\/www.microsoft.com\\/zh-cn\\/windows\\/business\\/windows...\", \"snippet\": \"Windows 11 的设计支持其能够与包括 Microsoft Teams 在内的 Microsoft 365 应用进行无缝协作。\", \"dateLastCrawled\": \"2024-10-23T19:44:00.0000000Z\", \"openGraphImage\": {\"contentUrl\": \"https:\\/\\/cdn-dynmedia-1.microsoft.com\\/is\\/image\\/microsoftcorp\\/windows-11-pro_Hero?scl=1\", \"width\": 0, \"height\": 0}, \"fixedPosition\": false, \"language\": \"zh_chs\", \"isNavigational\": false, \"noCache\": false, \"siteName\": \"Microsoft\"}, {\"id\": \"https:\\/\\/api.bing.microsoft.com\\/api\\/v7\\/#WebPages.9\", \"name\": \"关于 Microsoft | 使命与愿景 | Microsoft\", \"url\": \"https:\\/\\/www.microsoft.com\\/zh-cn\\/about\", \"urlPingSuffix\": \"DevEx,5403.1\", \"datePublished\": \"2024-10-24T11:48:25.0000000\", \"datePublishedFreshnessText\": \"5 小时之前\", \"isFamilyFriendly\": true, \"displayUrl\": \"https:\\/\\/www.microsoft.com\\/zh-cn\\/about\", \"snippet\": \"在 Microsoft，我们受到来自世界各地的人们的启发，他们利用技术去做富有想象力、创新以及能改变生活的事情。 我们分享他们的故事。 查看他们的故事 Microsoft AI 在以人为本的设计中，AI 可以扩展你的能力，解放你的思维，让你自由进行更具创造性和 ...\", \"dateLastCrawled\": \"2024-10-24T08:01:00.0000000Z\", \"openGraphImage\": {\"contentUrl\": \"http:\\/\\/img-prod-cms-rt-microsoft-com.akamaized.net\\/cms\\/api\\/am\\/imageFileData\\/RE1LH1c?ver=b246\", \"width\": 0, \"height\": 0}, \"fixedPosition\": false, \"language\": \"zh_chs\", \"isNavigational\": false, \"noCache\": false, \"siteName\": \"Microsoft\"}]}, \"rankingResponse\": {\"mainline\": {\"items\": [{\"answerType\": \"WebPages\", \"resultIndex\": 0, \"value\": {\"id\": \"https:\\/\\/api.bing.microsoft.com\\/api\\/v7\\/#WebPages.0\"}}, {\"answerType\": \"WebPages\", \"resultIndex\": 1, \"value\": {\"id\": \"https:\\/\\/api.bing.microsoft.com\\/api\\/v7\\/#WebPages.1\"}}, {\"answerType\": \"WebPages\", \"resultIndex\": 2, \"value\": {\"id\": \"https:\\/\\/api.bing.microsoft.com\\/api\\/v7\\/#WebPages.2\"}}, {\"answerType\": \"WebPages\", \"resultIndex\": 3, \"value\": {\"id\": \"https:\\/\\/api.bing.microsoft.com\\/api\\/v7\\/#WebPages.3\"}}, {\"answerType\": \"WebPages\", \"resultIndex\": 4, \"value\": {\"id\": \"https:\\/\\/api.bing.microsoft.com\\/api\\/v7\\/#WebPages.4\"}}, {\"answerType\": \"WebPages\", \"resultIndex\": 5, \"value\": {\"id\": \"https:\\/\\/api.bing.microsoft.com\\/api\\/v7\\/#WebPages.5\"}}, {\"answerType\": \"WebPages\", \"resultIndex\": 6, \"value\": {\"id\": \"https:\\/\\/api.bing.microsoft.com\\/api\\/v7\\/#WebPages.6\"}}, {\"answerType\": \"WebPages\", \"resultIndex\": 7, \"value\": {\"id\": \"https:\\/\\/api.bing.microsoft.com\\/api\\/v7\\/#WebPages.7\"}}, {\"answerType\": \"WebPages\", \"resultIndex\": 8, \"value\": {\"id\": \"https:\\/\\/api.bing.microsoft.com\\/api\\/v7\\/#WebPages.8\"}}, {\"answerType\": \"WebPages\", \"resultIndex\": 9, \"value\": {\"id\": \"https:\\/\\/api.bing.microsoft.com\\/api\\/v7\\/#WebPages.9\"}}]}}}\n",
      "{'_type': 'SearchResponse', 'instrumentation': {'_type': 'ResponseInstrumentation', 'pingUrlBase': 'https://www.bingapis.com/api/ping?IG=D8853BDC5D654AA4A202013A39553890&CID=38E45A6F99B1686122584F4D98FD6932&ID=', 'pageLoadPingUrl': 'https://www.bingapis.com/api/ping/pageload?IG=D8853BDC5D654AA4A202013A39553890&CID=38E45A6F99B1686122584F4D98FD6932&Type=Event.CPT&DATA=0'}, 'queryContext': {'originalQuery': 'microsoft'}, 'webPages': {'webSearchUrl': 'https://www.bing.com/search?q=microsoft', 'webSearchUrlPingSuffix': 'DevEx,5703.1', 'totalEstimatedMatches': 28200000, 'value': [{'id': 'https://api.bing.microsoft.com/api/v7/#WebPages.0', 'name': 'Microsoft——AI、云、生产力、计算、游戏和应用', 'url': 'https://www.microsoft.com/zh-cn/', 'urlPingSuffix': 'DevEx,5121.1', 'datePublished': '2021-06-22T14:20:56.0000000', 'datePublishedDisplayText': '2021年6月22日', 'isFamilyFriendly': True, 'displayUrl': 'https://www.microsoft.com/zh-cn', 'snippet': '浏览适合家庭或企业的 Microsoft 产品、服务和支持。购买 Microsoft 365、Copilot、Teams、Xbox、Windows、Azure、Surface 等产品/服务。', 'deepLinks': [{'name': '下载 Windows 10', 'url': 'https://www.microsoft.com/zh-cn/software-download/windows10', 'urlPingSuffix': 'DevEx,5672.1', 'snippet': 'Microsoft Office 产品。 如果你刚刚购买了包含 Office 365 的新设备，我们建议你在升级到 Windows 10 之前兑换（安装）Office。 若要兑换 Office 副本，请参阅 在 PC 上下载并安装 Office 365 家庭版、个人版或大学版 。'}, {'name': 'Download Center', 'url': 'https://www.microsoft.com/en-us/download', 'urlPingSuffix': 'DevEx,5673.1', 'snippet': 'Service Packs for Microsoft Products. Download service packs containing updates for system reliability, program compatibility, and security. See which service packs are currently available from Microsoft Help and Support. Windows Media Download Center. Amplify your play with Microsoft Windows Media Player, encoders, codecs, and other related ...'}, {'name': 'Surface', 'url': 'https://www.microsoft.com/en-us/surface', 'urlPingSuffix': 'DevEx,5674.1', 'snippet': 'Discover Microsoft Surface Copilot+ PCs, laptops, 2-in-1s, and computers built for all the ways you work, play, create, and connect.'}, {'name': '下载中心', 'url': 'https://www.microsoft.com/zh-cn/download', 'urlPingSuffix': 'DevEx,5675.1', 'snippet': 'Microsoft 官方下载中心。 提供 Windows、Office、Xbox 等产品的最新软件更新和驱动程序。 操作系统包括 Windows、Mac、Linux、iOS 和 Android。'}], 'dateLastCrawled': '2024-10-18T09:14:00.0000000Z', 'openGraphImage': {'width': 0, 'height': 0}, 'fixedPosition': False, 'language': 'zh_chs', 'isNavigational': True, 'noCache': False, 'siteName': 'Microsoft'}, {'id': 'https://api.bing.microsoft.com/api/v7/#WebPages.1', 'name': '下载适用于 Microsoft、Windows 等产品的驱动程序与更新 ...', 'url': 'https://www.microsoft.com/zh-cn/download', 'urlPingSuffix': 'DevEx,5154.1', 'datePublished': '2023-12-18T00:59:44.0000000', 'datePublishedDisplayText': '2023年12月18日', 'isFamilyFriendly': True, 'displayUrl': 'https://www.microsoft.com/zh-cn/download', 'snippet': 'Microsoft 官方下载中心。 提供 Windows、Office、Xbox 等产品的最新软件更新和驱动程序。 操作系统包括 Windows、Mac、Linux、iOS 和 Android。', 'dateLastCrawled': '2024-10-23T15:03:00.0000000Z', 'openGraphImage': {'width': 0, 'height': 0}, 'fixedPosition': False, 'language': 'zh_chs', 'isNavigational': False, 'noCache': False, 'siteName': 'Microsoft'}, {'id': 'https://api.bing.microsoft.com/api/v7/#WebPages.2', 'name': '下载 Windows 10', 'url': 'https://www.microsoft.com/zh-cn/software-download/windows10', 'urlPingSuffix': 'DevEx,5187.1', 'datePublished': '2024-07-16T10:59:29.0000000', 'datePublishedDisplayText': '2024年7月16日', 'isFamilyFriendly': True, 'displayUrl': 'https://www.microsoft.com/zh-cn/software-download/windows10', 'snippet': 'Microsoft Office 产品。 如果你刚刚购买了包含 Office 365 的新设备，我们建议你在升级到 Windows 10 之前兑换（安装）Office。 若要兑换 Office 副本，请参阅 在 PC 上下载并安装 Office 365 家庭版、个人版或大学版 。', 'dateLastCrawled': '2024-10-23T19:39:00.0000000Z', 'openGraphImage': {'width': 0, 'height': 0}, 'fixedPosition': False, 'language': 'zh_chs', 'isNavigational': False, 'noCache': False, 'siteName': 'Microsoft'}, {'id': 'https://api.bing.microsoft.com/api/v7/#WebPages.3', 'name': '下载 Windows 11', 'url': 'https://www.microsoft.com/zh-cn/software-download/windows11', 'urlPingSuffix': 'DevEx,5219.1', 'datePublished': '2024-08-26T09:18:24.0000000', 'datePublishedDisplayText': '2024年8月26日', 'isFamilyFriendly': True, 'displayUrl': 'https://www.microsoft.com/zh-cn/software-download/windows11', 'snippet': '登录 Microsoft 365 管理中心 ，下载企业版。 在 Visual Studio 订阅 门户上，登录你的订阅，以便下载。 访问 Windows 预览体验成员网站 ，下载 Insider Preview 版本', 'dateLastCrawled': '2024-10-23T19:07:00.0000000Z', 'openGraphImage': {'width': 0, 'height': 0}, 'fixedPosition': False, 'language': 'zh_chs', 'isNavigational': False, 'noCache': False, 'siteName': 'Microsoft'}, {'id': 'https://api.bing.microsoft.com/api/v7/#WebPages.4', 'name': 'Microsoft 365 - 用于获取生产力应用的订阅 | Microsoft 365', 'url': 'https://www.microsoft.com/zh-cn/microsoft-365', 'urlPingSuffix': 'DevEx,5251.1', 'datePublished': '2023-12-10T19:46:08.0000000', 'datePublishedDisplayText': '2023年12月10日', 'isFamilyFriendly': True, 'displayUrl': 'https://www.microsoft.com/zh-cn/microsoft-365', 'snippet': 'Microsoft 365 订阅包含位于同一个位置的一套熟悉的生产力应用、智能云服务和世界级安全性。找到适合你的计划。', 'dateLastCrawled': '2024-10-23T19:07:00.0000000Z', 'openGraphImage': {'width': 0, 'height': 0}, 'fixedPosition': False, 'language': 'zh_chs', 'isNavigational': False, 'noCache': False, 'siteName': 'Microsoft'}, {'id': 'https://api.bing.microsoft.com/api/v7/#WebPages.5', 'name': 'Microsoft Excel 电子表格软件 | Microsoft 365', 'url': 'https://www.microsoft.com/zh-cn/microsoft-365/excel', 'urlPingSuffix': 'DevEx,5277.1', 'isFamilyFriendly': True, 'displayUrl': 'https://www.microsoft.com/zh-cn/microsoft-365/excel', 'snippet': 'Microsoft Excel 是行业领先的电子表格软件程序，是一款功能强大的数据可视化和分析工具。借助 Excel 将分析提升一个档次。 [1] 部分 Excel 图表和图形需要 Microsoft 365 订阅。 [2] 必须拥有 Microsoft 365 订阅才能在 Excel 中进行分享和合著。 [3] 付费订阅开始后，取消策略会根据新客户状态、Microsoft 上的产品 ...', 'dateLastCrawled': '2024-10-24T05:27:00.0000000Z', 'openGraphImage': {'width': 0, 'height': 0}, 'fixedPosition': False, 'language': 'zh_chs', 'isNavigational': False, 'noCache': False, 'siteName': 'Microsoft'}, {'id': 'https://api.bing.microsoft.com/api/v7/#WebPages.6', 'name': 'Microsoft PC Manager 可持续的数字生活', 'url': 'https://www.microsoft.com/zh-cn/windows/pc-manager', 'urlPingSuffix': 'DevEx,5309.1', 'datePublished': '2024-06-10T15:32:31.0000000', 'datePublishedDisplayText': '2024年6月10日', 'isFamilyFriendly': True, 'displayUrl': 'https://www.microsoft.com/zh-cn/windows/pc-manager', 'snippet': 'Microsoft 教育版 教育设备 Microsoft Teams 教育版 Microsoft 365 教育版 Office 教育版 教育工作者培训和开发 面向学生和家长的优惠 面向学生的 Azure', 'dateLastCrawled': '2024-10-23T19:04:00.0000000Z', 'openGraphImage': {'contentUrl': 'https://cdn-dynmedia-1.microsoft.com/is/image/microsoftcorp/MSFT-og-pcmanager?scl=1', 'width': 0, 'height': 0}, 'fixedPosition': False, 'language': 'zh_chs', 'isNavigational': False, 'noCache': False, 'siteName': 'Microsoft'}, {'id': 'https://api.bing.microsoft.com/api/v7/#WebPages.7', 'name': '通过 Windows 11 操作系统、电脑和应用感受 AI 的强大功能 ...', 'url': 'https://www.microsoft.com/zh-cn/windows', 'urlPingSuffix': 'DevEx,5342.1', 'datePublished': '2024-04-18T04:33:46.0000000', 'datePublishedDisplayText': '2024年4月18日', 'isFamilyFriendly': True, 'displayUrl': 'https://www.microsoft.com/zh-cn/windows', 'snippet': '体验 Microsoft Windows 11 的最新功能。了解最新的 Windows 操作系统如何为你提供更多工作、娱乐和创作方式。', 'dateLastCrawled': '2024-10-23T05:17:00.0000000Z', 'openGraphImage': {'contentUrl': 'https://cdn-dynmedia-1.microsoft.com/is/image/microsoftcorp/MSFT-Windows-11-Search-bar?scl=1', 'width': 0, 'height': 0}, 'fixedPosition': False, 'language': 'zh_chs', 'isNavigational': False, 'noCache': False, 'siteName': 'Microsoft'}, {'id': 'https://api.bing.microsoft.com/api/v7/#WebPages.8', 'name': '商业适用的 Windows 11 专业版 | Microsoft', 'url': 'https://www.microsoft.com/zh-cn/windows/business/windows-11-pro', 'urlPingSuffix': 'DevEx,5375.1', 'datePublished': '2024-10-04T09:20:36.0000000', 'datePublishedDisplayText': '2024年10月4日', 'isFamilyFriendly': True, 'displayUrl': 'https://www.microsoft.com/zh-cn/windows/business/windows...', 'snippet': 'Windows 11 的设计支持其能够与包括 Microsoft Teams 在内的 Microsoft 365 应用进行无缝协作。', 'dateLastCrawled': '2024-10-23T19:44:00.0000000Z', 'openGraphImage': {'contentUrl': 'https://cdn-dynmedia-1.microsoft.com/is/image/microsoftcorp/windows-11-pro_Hero?scl=1', 'width': 0, 'height': 0}, 'fixedPosition': False, 'language': 'zh_chs', 'isNavigational': False, 'noCache': False, 'siteName': 'Microsoft'}, {'id': 'https://api.bing.microsoft.com/api/v7/#WebPages.9', 'name': '关于 Microsoft | 使命与愿景 | Microsoft', 'url': 'https://www.microsoft.com/zh-cn/about', 'urlPingSuffix': 'DevEx,5403.1', 'datePublished': '2024-10-24T11:48:25.0000000', 'datePublishedFreshnessText': '5 小时之前', 'isFamilyFriendly': True, 'displayUrl': 'https://www.microsoft.com/zh-cn/about', 'snippet': '在 Microsoft，我们受到来自世界各地的人们的启发，他们利用技术去做富有想象力、创新以及能改变生活的事情。 我们分享他们的故事。 查看他们的故事 Microsoft AI 在以人为本的设计中，AI 可以扩展你的能力，解放你的思维，让你自由进行更具创造性和 ...', 'dateLastCrawled': '2024-10-24T08:01:00.0000000Z', 'openGraphImage': {'contentUrl': 'http://img-prod-cms-rt-microsoft-com.akamaized.net/cms/api/am/imageFileData/RE1LH1c?ver=b246', 'width': 0, 'height': 0}, 'fixedPosition': False, 'language': 'zh_chs', 'isNavigational': False, 'noCache': False, 'siteName': 'Microsoft'}]}, 'rankingResponse': {'mainline': {'items': [{'answerType': 'WebPages', 'resultIndex': 0, 'value': {'id': 'https://api.bing.microsoft.com/api/v7/#WebPages.0'}}, {'answerType': 'WebPages', 'resultIndex': 1, 'value': {'id': 'https://api.bing.microsoft.com/api/v7/#WebPages.1'}}, {'answerType': 'WebPages', 'resultIndex': 2, 'value': {'id': 'https://api.bing.microsoft.com/api/v7/#WebPages.2'}}, {'answerType': 'WebPages', 'resultIndex': 3, 'value': {'id': 'https://api.bing.microsoft.com/api/v7/#WebPages.3'}}, {'answerType': 'WebPages', 'resultIndex': 4, 'value': {'id': 'https://api.bing.microsoft.com/api/v7/#WebPages.4'}}, {'answerType': 'WebPages', 'resultIndex': 5, 'value': {'id': 'https://api.bing.microsoft.com/api/v7/#WebPages.5'}}, {'answerType': 'WebPages', 'resultIndex': 6, 'value': {'id': 'https://api.bing.microsoft.com/api/v7/#WebPages.6'}}, {'answerType': 'WebPages', 'resultIndex': 7, 'value': {'id': 'https://api.bing.microsoft.com/api/v7/#WebPages.7'}}, {'answerType': 'WebPages', 'resultIndex': 8, 'value': {'id': 'https://api.bing.microsoft.com/api/v7/#WebPages.8'}}, {'answerType': 'WebPages', 'resultIndex': 9, 'value': {'id': 'https://api.bing.microsoft.com/api/v7/#WebPages.9'}}]}}}\n"
     ]
    }
   ],
   "source": [
    "import json\n",
    "import requests\n",
    "\n",
    "subscriptionKey = \"eb2a854dfec240a2a21f168ab96a57f4\"\n",
    "customConfigId = \"c8a6c10f-37a3-4264-b310-d26f9bc6c43f\"\n",
    "searchTerm = \"microsoft\"\n",
    "url = 'https://api.bing.microsoft.com/v7.0/custom/search?' + 'q=' + searchTerm + '&' + 'customconfig=' + customConfigId\n",
    "r = requests.get(url, headers={'Ocp-Apim-Subscription-Key': subscriptionKey})\n",
    "print(r.text)\n",
    "response_json = r.json()\n",
    "print(response_json)"
   ]
  },
  {
   "cell_type": "code",
   "execution_count": 1,
   "metadata": {},
   "outputs": [
    {
     "name": "stdout",
     "output_type": "stream",
     "text": [
      "CUDA is available!\n",
      "CUDA version: 12.4\n",
      "Number of GPUs: 1\n",
      "Current GPU: 0 - NVIDIA GeForce RTX 4090\n"
     ]
    }
   ],
   "source": [
    "import torch\n",
    "\n",
    "# 检查 CUDA 是否可用\n",
    "if torch.cuda.is_available():\n",
    "    print(\"CUDA is available!\")\n",
    "    print(f\"CUDA version: {torch.version.cuda}\")\n",
    "    print(f\"Number of GPUs: {torch.cuda.device_count()}\")\n",
    "    print(f\"Current GPU: {torch.cuda.current_device()} - {torch.cuda.get_device_name(torch.cuda.current_device())}\")\n",
    "else:\n",
    "    print(\"CUDA is not available.\")\n"
   ]
  }
 ],
 "metadata": {
  "kernelspec": {
   "display_name": "DL",
   "language": "python",
   "name": "python3"
  },
  "language_info": {
   "codemirror_mode": {
    "name": "ipython",
    "version": 3
   },
   "file_extension": ".py",
   "mimetype": "text/x-python",
   "name": "python",
   "nbconvert_exporter": "python",
   "pygments_lexer": "ipython3",
   "version": "3.12.2"
  }
 },
 "nbformat": 4,
 "nbformat_minor": 2
}
